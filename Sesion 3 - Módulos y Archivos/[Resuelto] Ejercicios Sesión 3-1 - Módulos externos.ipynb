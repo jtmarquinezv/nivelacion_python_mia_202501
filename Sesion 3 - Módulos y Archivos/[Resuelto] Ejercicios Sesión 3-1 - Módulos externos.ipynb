{
 "cells": [
  {
   "cell_type": "markdown",
   "metadata": {},
   "source": [
    "# Ejercicios Sesión 3, Parte 1\n",
    "\n",
    "Practiquemos instalando un módulo externo.\n",
    "\n",
    "<p>\n",
    "<font size='1'>Material creado por &copy; 2024 José Tomás Marquinez, todos los derechos reservados.</font>\n",
    "<br>\n"
   ]
  },
  {
   "cell_type": "markdown",
   "metadata": {},
   "source": [
    "## Ejercicio 1:\n",
    "\n",
    "Trabajaremos con imágenes. Para ello, les dejé una imagen de un perrito sonriente en la carpeta `data` llamado `smiley_dog.jpg`. \n",
    "\n",
    "Para trabajar con imágenes, uno de los módulos utilizados puede ser el módulo `Pillow`. Comience instalándolo. La documentación indica que se puede instalar desde PIP usando `pip install Pillow` (con `P` mayúscula). (Puede que ya la tenga en su computador)"
   ]
  },
  {
   "cell_type": "code",
   "execution_count": 1,
   "metadata": {},
   "outputs": [
    {
     "name": "stdout",
     "output_type": "stream",
     "text": [
      "Requirement already satisfied: Pillow in c:\\users\\jmarquinez\\appdata\\local\\programs\\python\\python311\\lib\\site-packages (10.2.0)\n"
     ]
    }
   ],
   "source": [
    "! pip install Pillow"
   ]
  },
  {
   "cell_type": "markdown",
   "metadata": {},
   "source": [
    "Les dejé la importación lista para ejecutar en la siguiente celda:"
   ]
  },
  {
   "cell_type": "code",
   "execution_count": 10,
   "metadata": {},
   "outputs": [],
   "source": [
    "from PIL import Image, ImageFilter"
   ]
  },
  {
   "cell_type": "markdown",
   "metadata": {},
   "source": [
    "Para abrir una imagen, la documentación indica que `Image` contiene una función llamada `open`, que recibe el nombre del archivo. Retorna una instancia de una clase que permite trabajar con imágenes. Ábrala, y luego ejecute el método `show()`, que no recibe ningún parámetro, para abrirla."
   ]
  },
  {
   "cell_type": "code",
   "execution_count": 7,
   "metadata": {},
   "outputs": [],
   "source": [
    "im = Image.open(\"data/smiley_dog.jpg\")\n",
    "im.show()"
   ]
  },
  {
   "cell_type": "markdown",
   "metadata": {},
   "source": [
    "Rotémosla. Gírela 45 grados; y para ello, existe un método `rotate(degrees)` que recibe un _int_ `degrees` representando la cantidad de grados a girar la imagen, y retorna la imagen girada. Luego muéstrela."
   ]
  },
  {
   "cell_type": "code",
   "execution_count": 8,
   "metadata": {},
   "outputs": [],
   "source": [
    "im = im.rotate(45)\n",
    "im.show()"
   ]
  },
  {
   "cell_type": "markdown",
   "metadata": {},
   "source": [
    "Hagámosla borrosa. Para ello, esa instancia tiene un método `filter()`, que debe recibir un llamable `BLUR` de la clase `ImageFilter` del módulo `PIL` (ya está importado). \n",
    "\n",
    "```Python\n",
    "imagen.filter(ImageFilter.BLUR)\n",
    "```\n",
    "\n",
    "Luego, guarde la imagen con `save(filename)`."
   ]
  },
  {
   "cell_type": "code",
   "execution_count": 12,
   "metadata": {},
   "outputs": [],
   "source": [
    "blurred = im.filter(ImageFilter.BLUR)\n",
    "blurred.show()\n",
    "blurred.save('data/blurreddog.jpg')"
   ]
  },
  {
   "cell_type": "markdown",
   "metadata": {},
   "source": [
    "# Ejercicio 2:\n",
    "\n",
    "Trabajaremos con un módulo `requests` que permite extraer información desde sitios web, a través de la API disponible para ello. En este ejercicio, usaremos la API (Interfaz de Programación de Aplicaciones) de [REST Countries](https://restcountries.com/). Esta API proporciona datos sobre países, incluyendo población, área, idiomas y continentes.\n",
    "\n",
    "La URL base para extraer la información es `https://restcountries.com/v3.1/name/{nombre-del-pais}`. Comencemos extrayendo información con una solicitud GET a la API para obtener datos de un país específico. Por ejemplo, Chile.\n",
    "\n",
    "Lo primero a hacer es importar el módulo, luego arme un string con el país que le interese consultar.\n",
    "\n",
    "El módulo `requests` contiene una función que se conecta con la URL y retorna la respuesta de la API, llamada `requests.get(url)`. La response en este caso posee un método `json()` que no recibe nada, pero permite obtener la información como un string en formato JSON (es un formato de data estructurado en forma de diccionario). Luego de convertir la response a JSON, imprima el resultado, para que pueda ver cómo es la data.\n",
    "\n",
    "Algunos ejemplos de países:\n",
    "\n",
    "### 🌎 **América**  \n",
    "- chile  \n",
    "- argentina  \n",
    "- brazil  \n",
    "- peru  \n",
    "- mexico  \n",
    "- canada  \n",
    "- usa  \n",
    "- colombia  \n",
    "- venezuela  \n",
    "- cuba  \n",
    "\n",
    "### 🌍 **Europa**  \n",
    "- spain  \n",
    "- france  \n",
    "- germany  \n",
    "- italy  \n",
    "- united kingdom  \n",
    "- netherlands  \n",
    "- sweden  \n",
    "- norway  \n",
    "- poland  \n",
    "- greece  \n",
    "\n",
    "### 🌏 **Asia**  \n",
    "- china  \n",
    "- japan  \n",
    "- south korea  \n",
    "- india  \n",
    "- russia  \n",
    "- thailand  \n",
    "- vietnam  \n",
    "- saudi arabia  \n",
    "- indonesia  \n",
    "- philippines  \n",
    "\n",
    "### 🌍 **África**  \n",
    "- south africa  \n",
    "- egypt  \n",
    "- nigeria  \n",
    "- morocco  \n",
    "- kenya  \n",
    "- ethiopia  \n",
    "- ghana  \n",
    "- tanzania  \n",
    "- uganda  \n",
    "- algeria  \n",
    "\n",
    "### 🌏 **Oceanía**  \n",
    "- australia  \n",
    "- new zealand  \n",
    "- fiji  \n",
    "- papua new guinea  \n",
    "- samoa  \n",
    "\n",
    "### 🏝️ **Países pequeños o particulares**  \n",
    "- iceland  \n",
    "- vatican  \n",
    "- monaco  \n",
    "- malta  \n",
    "- luxembourg  \n",
    "- san marino  \n",
    "- liechtenstein  "
   ]
  },
  {
   "cell_type": "code",
   "execution_count": null,
   "metadata": {},
   "outputs": [
    {
     "name": "stdout",
     "output_type": "stream",
     "text": [
      "[{'name': {'common': 'Chile', 'official': 'Republic of Chile', 'nativeName': {'spa': {'official': 'República de Chile', 'common': 'Chile'}}}, 'tld': ['.cl'], 'cca2': 'CL', 'ccn3': '152', 'cca3': 'CHL', 'cioc': 'CHI', 'independent': True, 'status': 'officially-assigned', 'unMember': True, 'currencies': {'CLP': {'name': 'Chilean peso', 'symbol': '$'}}, 'idd': {'root': '+5', 'suffixes': ['6']}, 'capital': ['Santiago'], 'altSpellings': ['CL', 'Republic of Chile', 'República de Chile'], 'region': 'Americas', 'subregion': 'South America', 'languages': {'spa': 'Spanish'}, 'translations': {'ara': {'official': 'جمهورية تشيلي', 'common': 'تشيلي'}, 'bre': {'official': 'Republik Chile', 'common': 'Chile'}, 'ces': {'official': 'Chilská republika', 'common': 'Chile'}, 'cym': {'official': 'Gweriniaeth Chile', 'common': 'Chile'}, 'deu': {'official': 'Republik Chile', 'common': 'Chile'}, 'est': {'official': 'Tšiili Vabariik', 'common': 'Tšiili'}, 'fin': {'official': 'Chilen tasavalta', 'common': 'Chile'}, 'fra': {'official': 'République du Chili', 'common': 'Chili'}, 'hrv': {'official': 'Republika Čile', 'common': 'Čile'}, 'hun': {'official': 'Chilei Köztársaság', 'common': 'Chile'}, 'ita': {'official': 'Repubblica del Cile', 'common': 'Cile'}, 'jpn': {'official': 'チリ共和国', 'common': 'チリ'}, 'kor': {'official': '칠레 공화국', 'common': '칠레'}, 'nld': {'official': 'Republiek Chili', 'common': 'Chili'}, 'per': {'official': 'جمهوری شیلی', 'common': 'شیلی'}, 'pol': {'official': 'Republika Chile', 'common': 'Chile'}, 'por': {'official': 'República do Chile', 'common': 'Chile'}, 'rus': {'official': 'Республика Чили', 'common': 'Чили'}, 'slk': {'official': 'Čílska republika', 'common': 'Čile'}, 'spa': {'official': 'República de Chile', 'common': 'Chile'}, 'srp': {'official': 'Република Чиле', 'common': 'Чиле'}, 'swe': {'official': 'Republiken Chile', 'common': 'Chile'}, 'tur': {'official': 'Şili Cumhuriyeti', 'common': 'Şili'}, 'urd': {'official': 'جمہوریہ چلی', 'common': 'چلی'}, 'zho': {'official': '智利共和国', 'common': '智利'}}, 'latlng': [-30.0, -71.0], 'landlocked': False, 'borders': ['ARG', 'BOL', 'PER'], 'area': 756102.0, 'demonyms': {'eng': {'f': 'Chilean', 'm': 'Chilean'}, 'fra': {'f': 'Chilienne', 'm': 'Chilien'}}, 'flag': '🇨🇱', 'maps': {'googleMaps': 'https://goo.gl/maps/XboxyNHh2fAjCPNn9', 'openStreetMaps': 'https://www.openstreetmap.org/relation/167454'}, 'population': 19116209, 'gini': {'2017': 44.4}, 'fifa': 'CHI', 'car': {'signs': ['RCH'], 'side': 'right'}, 'timezones': ['UTC-06:00', 'UTC-04:00'], 'continents': ['South America'], 'flags': {'png': 'https://flagcdn.com/w320/cl.png', 'svg': 'https://flagcdn.com/cl.svg', 'alt': 'The flag of Chile is composed of two equal horizontal bands of white and red, with a blue square of the same height as the white band superimposed in the canton. A white five-pointed star is centered in the blue square.'}, 'coatOfArms': {'png': 'https://mainfacts.com/media/images/coats_of_arms/cl.png', 'svg': 'https://mainfacts.com/media/images/coats_of_arms/cl.svg'}, 'startOfWeek': 'monday', 'capitalInfo': {'latlng': [-33.45, -70.67]}, 'postalCode': {'format': '#######', 'regex': '^(\\\\d{7})$'}}]\n"
     ]
    }
   ],
   "source": [
    "import requests\n",
    "\n",
    "country = 'chile'\n",
    "url = f'https://restcountries.com/v3.1/name/chile'\n",
    "\n",
    "response = requests.get(url)\n",
    "json = response.json()\n",
    "print(json)"
   ]
  },
  {
   "cell_type": "markdown",
   "metadata": {},
   "source": [
    "Puede \"embonitar\" el JSON en el siguiente sitio: https://jsonformatter.curiousconcept.com/\n",
    "\n",
    "Ahora, navegue la información para poder imprimir lo siguiente:\n",
    "- Nombre oficial del país que consultó\n",
    "- Capital\n",
    "- Población\n",
    "- Área en km2\n",
    "- Idiomas oficiales\n",
    "- Continente\n",
    "\n",
    "La idea es que sea un print por data (en cada celda por separado), y que la obtengan _desde_ el JSON. Les regalo la primera línea:"
   ]
  },
  {
   "cell_type": "code",
   "execution_count": null,
   "metadata": {},
   "outputs": [
    {
     "name": "stdout",
     "output_type": "stream",
     "text": [
      "Nombre oficial: Republic of Chile\n",
      "Capital: Santiago\n",
      "Población: 19,116,209\n",
      "Área: 756,102.0 kms2\n",
      "Idiomas: spa\n",
      "Continente: Americas\n"
     ]
    }
   ],
   "source": [
    "info = data[0]\n",
    "print(f'Nombre oficial: {info[\"name\"][\"official\"]}')\n",
    "print(f\"Capital: {info['capital'][0]}\")\n",
    "print(f\"Población: {info['population']:,}\") # El :, formatea el str\n",
    "print(f\"Área: {info['area']:,} kms2\")\n",
    "print(f\"Idiomas: {', '.join(info['languages'])}\")\n",
    "print(f\"Continente: {info['region']}\")"
   ]
  },
  {
   "cell_type": "markdown",
   "metadata": {},
   "source": [
    "Para terminar, seleccionen 5 países diferentes, obtengan la data de la API para responder algunas de las siguientes preguntas:\n",
    "\n",
    "- ¿Cuál es el país más poblado de los elegidos?\n",
    "- ¿Cuál es el país más grande en área de los elegidos?\n",
    "- ¿Cuál tiene más idiomas oficiales entre los países elegidos?\n",
    "- ¿En qué continente hay más países de los elegidos?"
   ]
  },
  {
   "cell_type": "code",
   "execution_count": null,
   "metadata": {},
   "outputs": [
    {
     "name": "stdout",
     "output_type": "stream",
     "text": [
      "El país más poblado es brazil\n"
     ]
    }
   ],
   "source": [
    "countries = ['chile', 'argentina', 'brazil', 'peru', 'mexico']\n",
    "populations = {}\n",
    "\n",
    "for country in countries:\n",
    "    url = f'https://restcountries.com/v3.1/name/{country}'\n",
    "    response = requests.get(url)\n",
    "    data = response.json()\n",
    "    populations[country] = data[0]['population']\n",
    "    \n",
    "mas_poblado = max(populations, key=populations.get)\n",
    "print(\"El país más poblado es\", mas_poblado)"
   ]
  }
 ],
 "metadata": {
  "kernelspec": {
   "display_name": "Python 3",
   "language": "python",
   "name": "python3"
  },
  "language_info": {
   "codemirror_mode": {
    "name": "ipython",
    "version": 3
   },
   "file_extension": ".py",
   "mimetype": "text/x-python",
   "name": "python",
   "nbconvert_exporter": "python",
   "pygments_lexer": "ipython3",
   "version": "3.11.2"
  },
  "orig_nbformat": 4,
  "vscode": {
   "interpreter": {
    "hash": "9a332da503d34353b4a88734c9c417394c5073dd13f9e5d25ac34ee4ac9b6e5a"
   }
  }
 },
 "nbformat": 4,
 "nbformat_minor": 2
}
