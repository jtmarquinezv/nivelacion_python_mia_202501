{
 "cells": [
  {
   "attachments": {},
   "cell_type": "markdown",
   "metadata": {},
   "source": [
    "# Sesión 3, Parte 2\n",
    "\n",
    "En esta sesión repasaremos conceptos que nos permitirán trabajar ya con algunos tipos de archivos y poder procesar data.\n",
    "\n",
    "<p>\n",
    "<font size='1'>Material creado por &copy; 2024 José Tomás Marquinez, todos los derechos reservados; sacando algunos extractos del material elaborado por &copy; 2015 Karim Pichara - Christian Pieringer, todos los derechos reservados; y de las modificaciones realizadas por Equipos Docentes IIC2233 UC.</font>\n",
    "<br>"
   ]
  },
  {
   "cell_type": "markdown",
   "metadata": {},
   "source": [
    "# Tabla de contenidos\n",
    "\n",
    "1. Archivos\n",
    "    1. [Leer archivos](#leer-archivos)\n",
    "        1. [Abrir](#abrirr)\n",
    "        2. [Leer](#leerr)\n",
    "        3. [Cerrar](#cerrarr)\n",
    "    2. [Escribir archivos](#escribir-archivos)\n",
    "        1. [Abrir](#abrir)\n",
    "        2. [Escribir](#escribir)\n",
    "        3. [Cerrar](#cerrar)\n",
    "    3. [Adjuntarle información a archivos existnetes](#adjuntarle-informacion-a-archivos-existentes)\n",
    "    4. [Sentencia `with`](#sentencia-with)\n",
    "    5. [Archivos csv](#archivos-csv)\n"
   ]
  },
  {
   "cell_type": "markdown",
   "metadata": {},
   "source": [
    "# Archivos\n",
    "\n",
    "Es posible abrir usando Python archivos trabajar con datos. Comencemos trabajando con archivos de texto plano.\n",
    "\n",
    "## Leer archivos\n",
    "\n",
    "La forma que recomiendo leer archivos es súper sencilla, pues requiere sólo de 3 pasos.\n",
    "\n",
    "1) Abrir\n",
    "2) Leerlo\n",
    "3) Cerrarlo\n"
   ]
  },
  {
   "cell_type": "markdown",
   "metadata": {},
   "source": [
    "<a id=\"abrirr\"></a>\n",
    "### Abrir\n",
    "\n",
    "Para **abrir** un archivo existe una función ```open(filename)``` que recibe el nombre completo (i.e., con extensión) del archivo que se encuentra en el directorio actual en el que se encuentre el programa. Esta función retorna una representación del archivo abierto (en realidad, una instancia de ```TextIOWrapper```, una clase que permite manejar archivos) para su posterior uso.\n",
    "\n",
    "Nunca está demás mencionar que el archivo debe existir para poder abrirlo.\n",
    "\n",
    "```Python\n",
    "archivo = open(\"nombre_archivo.txt\")\n",
    "```\n",
    "\n",
    "En caso de que se encuentre en otra carpeta, siempre podemos ayudar con la ruta de directorios que permitirían llevar hasta el archivo, retroceder un directorio antecediendo con ```../```, o bien escribir la ruta completa del archivo.\n",
    "\n",
    "```Python\n",
    "# Acá el archivo se encuentra en la carpeta input\n",
    "archivo = open(\"input/nombre_archivo.txt\")\n",
    "# Acá se encuentra dos directorios hacia arriba\n",
    "archivo = open(\"../../nombre_archivo.txt\")\n",
    "# Acá estamos poniendo la ruta completa\n",
    "archivo2 = open(\"C:/Users/usuario/Desktop/MIA/nombre_archivo.txt\") \n",
    "```\n",
    "\n",
    "El camino más fácil siempre es tener todos los archivos necesarios en el mismo directorio en el que está el código, o tenerlo estructurado por carpetas.\n",
    "\n",
    "Por ejemplo, en la carpeta \"data\" se encuentra el archivo `mediciones.txt`, que contiene registros de distintas mediciones en forma de _int_.\n"
   ]
  },
  {
   "cell_type": "code",
   "execution_count": 20,
   "metadata": {},
   "outputs": [
    {
     "name": "stdout",
     "output_type": "stream",
     "text": [
      "<class '_io.TextIOWrapper'>\n"
     ]
    }
   ],
   "source": [
    "archivo = open(\"data/mediciones.txt\")\n",
    "\n",
    "print(type(archivo))"
   ]
  },
  {
   "cell_type": "markdown",
   "metadata": {},
   "source": [
    "<a id=\"leerr\"></a>\n",
    "### Leer \n",
    "\n",
    "Para **leer** el archivo es posible utilizar el método ```readlines()``` que retorna una lista de _str_, en que cada elemento es una línea (en orden) del archivo leído.\n",
    "\n",
    "```Python\n",
    "lineas = archivo.readlines()\n",
    "```\n",
    "\n",
    "Como los archivos en realidad contienen múltiples líneas, y estas líneas están separadas por saltos de líneas, al leer el archivo, los elementos leídos del archivo efectivamente contendrán los saltos de línea. Recordemos que podemos eliminarlo con el método de ```str``` ```str.strip()```. Este trabajo se suele hacer al estar trabajando sobre el contenido del archivo.\n"
   ]
  },
  {
   "cell_type": "code",
   "execution_count": 21,
   "metadata": {},
   "outputs": [
    {
     "name": "stdout",
     "output_type": "stream",
     "text": [
      "<class 'list'>\n"
     ]
    }
   ],
   "source": [
    "lineas = archivo.readlines()\n",
    "\n",
    "print(type(lineas))"
   ]
  },
  {
   "cell_type": "markdown",
   "metadata": {},
   "source": [
    "<a id=\"cerrarr\"></a>\n",
    "### Cerrar\n",
    "\n",
    "Para **cerrar** el archivo (y, por lo tanto, indicarle al computador que hemos dejado de interactuar con él), se puede utilizar el método ```close()```.\n",
    "\n",
    "```Python\n",
    "archivo.close()\n",
    "```\n"
   ]
  },
  {
   "cell_type": "code",
   "execution_count": 23,
   "metadata": {},
   "outputs": [],
   "source": [
    "archivo.close()"
   ]
  },
  {
   "cell_type": "markdown",
   "metadata": {},
   "source": [
    "Ahora, ya podemos calcular, por ejemplo, el promedio de los números contenidos en el archivo."
   ]
  },
  {
   "cell_type": "code",
   "execution_count": 24,
   "metadata": {},
   "outputs": [
    {
     "name": "stdout",
     "output_type": "stream",
     "text": [
      "68.94117647058823\n"
     ]
    }
   ],
   "source": [
    "# De acá en adelante es sólo trabajar con lista de str\n",
    "lista_ints = [int(n) for n in lineas]  # podríamos haberle pasado int(n.strip()), pero el int omite esos espacios por sí sólo.\n",
    "print(sum(lista_ints)/len(lista_ints))"
   ]
  },
  {
   "cell_type": "markdown",
   "metadata": {},
   "source": [
    "\n",
    "## Escribir archivos\n",
    "\n",
    "La forma que recomiendo para escribir archivos es súper sencilla, pues requiere casi los mismos 3 pasos.\n",
    "\n",
    "1) Abrir\n",
    "2) Escribir\n",
    "3) Cerrarlo\n",
    "\n",
    "### Abrir\n",
    "\n",
    "Para **abrir** un archivo usaremos la misma función, sólo que le entregaremos nu parámetro adicional ```open(filename, \"w\")```. Esa ```\"w\"``` abrevia la palabra _write_ y lo que hace es abrir el archivo en modo escritura. Esto eliminará el contenido del archivo listo para comenzar a escribir sobre él. Si el archivo no existe, lo creará en el directorio en el que estemos abriéndolo (siguiendo la misma lógica presentada anteriormente).\n",
    "\n",
    "```Python\n",
    "escritor = open(\"nombre_archivo.txt\", \"w\")\n",
    "```\n"
   ]
  },
  {
   "cell_type": "code",
   "execution_count": 25,
   "metadata": {},
   "outputs": [
    {
     "name": "stdout",
     "output_type": "stream",
     "text": [
      "Se acaba de crear en mi carpeta 'data' un archivo que se llama 'tabla_del_5.txt'\n"
     ]
    }
   ],
   "source": [
    "n = int(input(\"Ingrese el n: \"))  # Recuerde que el cuadro de ingreso de texto aparece en la parte superior de la ventana.\n",
    "filename = f\"tabla_del_{n}.txt\"\n",
    "\n",
    "escritor = open(\"data/\"+filename, \"w\")\n",
    "\n",
    "print(f\"Se acaba de crear en mi carpeta 'data' un archivo que se llama '{filename}'\")"
   ]
  },
  {
   "cell_type": "markdown",
   "metadata": {},
   "source": [
    "Nota que si abres el archivo creado ahora, el archivo estará vacío."
   ]
  },
  {
   "cell_type": "markdown",
   "metadata": {},
   "source": [
    "\n",
    "### Escribir\n",
    "\n",
    "Para **escribir** sobre un archivo, sugiero aprovechar la función ```print```. Esta función permite trabajar con varios parámetros que ayudan bastante al momento de escribir línea a línea archivos de texto plano. Acá van los de interés:\n",
    "\n",
    "```Python\n",
    "print(*args, sep=' ', end='\\n', file=None)\n",
    "```\n",
    "Acá, ```*args``` indica que recibe una cantidad variable de parámetros (todo lo que le pasamos al print cuando queremos imprimir en consola), ```sep``` especifica el _str_ con el cual se están uniendo los parámetros del print; ```end``` especifica el _str_ con el cual se está cerrando el print; y ```file```, como es de suponer, especifica dónde saldrá lo que se está imprimiendo (si el valor es None, la salida se muestra en la consola), por lo que uno le puede entregar la instancia de ```TextIOWrapper```.\n",
    "\n",
    "```Python\n",
    "print(texto, file=escritor)\n",
    "print(\"Quiero\",\"todo\",\"esto\",\"junto\", sep='', file=escritor)\n",
    "print(\"No quiero que tenga salgo de línea\", \"Y quiero unir estas dos frases con punto\", sep='. ', end='', file=escritor)\n",
    "```\n",
    "\n",
    "Por ejemplo, si quisiéramos escribir la tabla del número ingresado por el usuario, haríamos:"
   ]
  },
  {
   "cell_type": "code",
   "execution_count": 26,
   "metadata": {},
   "outputs": [],
   "source": [
    "for i in range(1, 11):\n",
    "    print(n, \"x\", i, \"=\", i*n, file=escritor)"
   ]
  },
  {
   "cell_type": "markdown",
   "metadata": {},
   "source": [
    "Como puedes ver, a pesar de estar escribiendo un `print`, no se está mostrando nada en consola porque estamos \"desviando\" la salida hacia el archivo abierto almacenado en `escritor`.\n",
    "\n",
    "Cada escritura que haces sobre el archivo en realidad queda en una especie de _buffer_ a la espera de que se termine de interactuar con el archivo, por lo que si vuelves a abrir el archivo ahora, seguirá estando vacío."
   ]
  },
  {
   "cell_type": "markdown",
   "metadata": {},
   "source": [
    "\n",
    "### Cerrar\n",
    "\n",
    "Para **cerrar** el archivo (y, por lo tanto, guardar cambios e indicarle al computador que hemos dejado de interactuar con él), se puede utilizar el método ```close()```.\n",
    "\n",
    "```Python\n",
    "escritor.close()\n",
    "```\n"
   ]
  },
  {
   "cell_type": "code",
   "execution_count": 27,
   "metadata": {},
   "outputs": [],
   "source": [
    "escritor.close()"
   ]
  },
  {
   "cell_type": "markdown",
   "metadata": {},
   "source": [
    "Ahora, el archivo que habíamos creado acaba de recibir todo lo almacenado en el _buffer_, por lo que ahora sí contendrá todo lo que hemos escrito en él."
   ]
  },
  {
   "cell_type": "markdown",
   "metadata": {},
   "source": [
    "<a id=\"adjuntarle-informacion-a-archivos-existentes\"></a>\n",
    "## Adjuntarle información a archivos existentes.\n",
    "\n",
    "Un tercer posible valor al segundo parámetro de `open` (ya vimos el inexistente, que en realidad es una `r` de _read_ escondida; y el `w` de _write_), es la `a` de _append_. Similar a lo que hace el método `append` de una _list_, en este caso se abre el archivo dejando el cursor al final de todo lo que tenga escrito. Por lo tanto, todo lo que escribamos quedará bajo lo último escrito."
   ]
  },
  {
   "cell_type": "code",
   "execution_count": 11,
   "metadata": {},
   "outputs": [],
   "source": [
    "escritor = open(\"data/dos lineas.txt\", \"w\")\n",
    "print(\"hola\", file=escritor)\n",
    "print(\"Ahora me iré\", file=escritor)\n",
    "escritor.close()\n",
    "\n",
    "# Se nos olvidó despedirnos!\n",
    "escritor = open(\"data/dos lineas.txt\", \"a\")\n",
    "print(\"Chao!\", file=escritor)\n",
    "escritor.close()"
   ]
  },
  {
   "cell_type": "markdown",
   "metadata": {},
   "source": [
    "Te invito a probar qué habría ocurrido con el archivo si en lugar de `a` en el segundo llamado a `open`, hubiésemos puesto `w`."
   ]
  },
  {
   "cell_type": "markdown",
   "metadata": {},
   "source": [
    "## Sentencia `with`\n",
    "\n",
    "La sentencia `with` es creada para crear _contextos_ en que se crean y se cierran recursos luego de ejecutar su bloque de código. Esta sentencia es bastante común en su uso con archivos porque asegura que el proceso del flujo del archivo no bloquee otros procesos si una excepción ocurre, sino que lo termina adecuadamente. En otras palabras, dado que se encarga de cerrar recursos tras ocuparlos, elimina la necesidad de explicitar el cierre de un archivo, por ejemplo. \n",
    "\n",
    "La sintaxis es la siguiente:\n",
    "\n",
    "```python\n",
    "with open(filename) as variable:\n",
    "    código que trabaja con variable\n",
    "```"
   ]
  },
  {
   "cell_type": "code",
   "execution_count": 19,
   "metadata": {},
   "outputs": [
    {
     "name": "stdout",
     "output_type": "stream",
     "text": [
      "['Estoy escribiendo 5 líneas en un archivo\\n', 'Estoy escribiendo 5 líneas en un archivo\\n', 'Estoy escribiendo 5 líneas en un archivo\\n', 'Estoy escribiendo 5 líneas en un archivo\\n', 'Estoy escribiendo 5 líneas en un archivo\\n']\n"
     ]
    }
   ],
   "source": [
    "with open('data/trabajando_con_with.txt', 'w') as escritor:\n",
    "    for _ in range(5):\n",
    "        print(\"Estoy escribiendo 5 líneas en un archivo\", file=escritor)\n",
    "\n",
    "with open('data/trabajando_con_with.txt') as archivo:\n",
    "    lineas = archivo.readlines()    \n",
    "print(lineas)"
   ]
  },
  {
   "cell_type": "markdown",
   "metadata": {},
   "source": [
    "Lo que hace esta sentencia es\n",
    "\n",
    "1. Abrir el archivo gracias a la función `open`, en el modo correspondiente (`r`, `w`, `a`).\n",
    "2. Asigna el archivo abierto a la variable `escritor`/`archivo`\n",
    "3. Ejecuta el bloque de la sentencia. Para el primer caso escribe 5 veces un texto en el `escritor`. Para el segundo caso lee todas las líneas y las deja en la variable `lineas`.\n",
    "4. Al terminar el bloque, cierra el archivo automáticamente, es decir, ejecuta un `archivo.close()` por nosotros de forma implícita."
   ]
  },
  {
   "cell_type": "markdown",
   "metadata": {},
   "source": [
    "\n",
    "## Archivos csv\n",
    "\n",
    "También podemos trabajar con archivos de texto plano de valores separado por coma (_comma separated values_ = csv). Para ello, nunca está demás recordar lo que hace el método ```split()``` de _str_.\n",
    "\n",
    "En la carpeta \"data\" también hay un archivo _csv_ llamado `notas.csv`, que contiene las notas de muchos alumnos. Cada fila del archivo (fila de una especie de planilla) contiene la información de la siguiente forma: `Nombre,Prueba1,Prueba2,Prueba3`. Buscamos calcular el promedio de las tres pruebas por alumno, y escribirlo en otro archivo `notasfinales.csv` de la forma `Nombre Promedio`."
   ]
  },
  {
   "cell_type": "code",
   "execution_count": 15,
   "metadata": {},
   "outputs": [],
   "source": [
    "lector = open(\"data/notas.csv\")  # Cada fila: Nombre,Prueba1,Prueba2,Prueba3\n",
    "escritor = open(\"data/notasfinales.csv\", \"w\")\n",
    "\n",
    "lineas = lector.readlines()\n",
    "for linea in lineas:\n",
    "    # Primero limpiar del \\n (strip)\n",
    "    # Luego, eso se parte en lista de strings (lo que separan las comas)\n",
    "    campos = linea.strip().split(\",\")\n",
    "    # Promediamos\n",
    "    promedio = (float(campos[1]) + float(campos[2]) + float(campos[3]))/3\n",
    "    # Print imprime exactamente como en consola\n",
    "    print(campos[0], round(promedio, 2), file=escritor)\n",
    "lector.close()\n",
    "escritor.close()"
   ]
  }
 ],
 "metadata": {
  "kernelspec": {
   "display_name": "Python 3",
   "language": "python",
   "name": "python3"
  },
  "language_info": {
   "codemirror_mode": {
    "name": "ipython",
    "version": 3
   },
   "file_extension": ".py",
   "mimetype": "text/x-python",
   "name": "python",
   "nbconvert_exporter": "python",
   "pygments_lexer": "ipython3",
   "version": "3.11.2"
  },
  "orig_nbformat": 4,
  "vscode": {
   "interpreter": {
    "hash": "9a332da503d34353b4a88734c9c417394c5073dd13f9e5d25ac34ee4ac9b6e5a"
   }
  }
 },
 "nbformat": 4,
 "nbformat_minor": 2
}
