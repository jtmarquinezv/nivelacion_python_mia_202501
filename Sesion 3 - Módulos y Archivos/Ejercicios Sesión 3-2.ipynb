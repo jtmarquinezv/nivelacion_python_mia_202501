{
 "cells": [
  {
   "attachments": {},
   "cell_type": "markdown",
   "metadata": {},
   "source": [
    "# Ejercicios Sesión 3, Parte 2\n",
    "\n",
    "En esta sesión repasaremos trabajo sobre archivos de texto plano.\n",
    "\n",
    "<p>\n",
    "<font size='1'>Material creado por &copy; 2024 José Tomás Marquinez, todos los derechos reservados; extrayendo diversos ejercicios presentados a los alumnos de IIC1103 y IIC2233 UC.</font>\n",
    "<br>\n",
    "\n",
    "**Sugerencia de trabajo:** Hacer el 1 cada uno por su parte, en paralelo. Cuando terminen, ELIMINAR OUTPUTS, registrar cambios y resolver conflictos. Los siguientes ejercicios decidir si dividírselos o hacerlos en conjunto con pantalla compartida (requieren un poco de discusión quizás en cómo ordenar el algoritmo)."
   ]
  },
  {
   "cell_type": "markdown",
   "metadata": {},
   "source": [
    "## Ejercicio 1\n",
    "\n",
    "Escribe una función que elija 100 palabras al azar de archivo `palabras.txt`.\n"
   ]
  },
  {
   "cell_type": "code",
   "execution_count": null,
   "metadata": {},
   "outputs": [],
   "source": []
  },
  {
   "cell_type": "markdown",
   "metadata": {},
   "source": [
    "\n",
    "## Ejercicio 2\n",
    "\n",
    "Leer archivo `tienda_computacion.csv` que contiene las siguientes columnas separadas por coma (`,`) de la siguiente forma `NombreEmpresa,Articulo,Stock,Precio`.\n",
    "\n",
    "Indique cuántos artículos hay, y cuál es su valor total (todo el valor en $ que tienen en toda la tienda).\n"
   ]
  },
  {
   "cell_type": "code",
   "execution_count": null,
   "metadata": {},
   "outputs": [],
   "source": []
  },
  {
   "cell_type": "markdown",
   "metadata": {},
   "source": [
    "## Ejemplo 3\n",
    "\n",
    "La universidad activó una campaña de marketing para sus magísteres que imparte. Para esto, abrió un formulario que le permite a los interesados inscribirse en una charla sobre cada magíster. Los nombres de los inscritos y sus magísteres de interés están (en orden de llegada) en el archivo `inscritos.txt`. Pero solo hay un cierto número de cupos para cada charla, los que se encuentran en el archivo `charlas.txt`.\n",
    "\n",
    "A continuación se muestran ejemplos de los archivos a utilizar. Este es el archivo `inscritos.txt`\n",
    "\n",
    "```txt\n",
    "Alan Turing,MTIG\n",
    "Eloisa Diaz,MIA\n",
    "Gustave Eiffel,MTIG\n",
    "Ada Lovelace,MTIG\n",
    "Larry King,MGPI\n",
    "Jonas Salk,MIA\n",
    "Grace Hopper,MTIG\n",
    "...\n",
    "```\n",
    "\n",
    "Y este el archivo `charlas.txt`:\n",
    "\n",
    "```txt\n",
    "MIA 55\n",
    "MTIG 1\n",
    "MGPI 10\n",
    "MBA 35\n",
    "MHM 40\n",
    "MBD 50\n",
    "...\n",
    "```\n",
    "\n",
    "Se te pide que escribas un programa que, a partir de los archivos, genere para cada charla, un archivo (cuyo nombre debe ser el nombre de la charla en minúsculas, seguido de `.txt`) con los interesados inscritos para la charla. Si hay más interesados que cupos, solo quedan inscritos los primeros que hayan hecho la inscripción. Si no hay ningún interesado en alguna visita, el archivo debe crearse y quedar vacío. \n",
    "\n",
    "_Hint:_ existe `string.lower()` para transformar un _string_ a minúsculas.\n",
    "\n"
   ]
  },
  {
   "cell_type": "code",
   "execution_count": 6,
   "metadata": {},
   "outputs": [
    {
     "name": "stdout",
     "output_type": "stream",
     "text": [
      "100\n"
     ]
    }
   ],
   "source": []
  },
  {
   "cell_type": "markdown",
   "metadata": {},
   "source": [
    "\n",
    "## Ejemplo 4\n",
    "\n",
    "Vamos a creernos Duolingo. Considera el archivo `SmartLearn.csv` que tiene la siguiente información: `pal_ingles,pal_español,vistas,aciertos,fallos`.\n",
    "\n",
    "- Vistas corresponde a la cantidad de veces que se ha intentado acertar dicha palabra.\n",
    "- Aciertos corresponde a la cantidad de veces que se ha traducido exitosamente.\n",
    "- Fallos corresponde a la cantidad de veces que se ha traducido incorrectamente.\n",
    "\n",
    "El juego debe indicar cuántas palabras desea practicar. Una práctica consiste en que el computador pregunte por la traducción de una palabra en inglés aleatoria, y el usuario debe escribir la traducción en español de esa palabra."
   ]
  },
  {
   "cell_type": "code",
   "execution_count": null,
   "metadata": {},
   "outputs": [],
   "source": []
  }
 ],
 "metadata": {
  "kernelspec": {
   "display_name": "Python 3",
   "language": "python",
   "name": "python3"
  },
  "language_info": {
   "codemirror_mode": {
    "name": "ipython",
    "version": 3
   },
   "file_extension": ".py",
   "mimetype": "text/x-python",
   "name": "python",
   "nbconvert_exporter": "python",
   "pygments_lexer": "ipython3",
   "version": "3.11.2"
  },
  "orig_nbformat": 4,
  "vscode": {
   "interpreter": {
    "hash": "9a332da503d34353b4a88734c9c417394c5073dd13f9e5d25ac34ee4ac9b6e5a"
   }
  }
 },
 "nbformat": 4,
 "nbformat_minor": 2
}
