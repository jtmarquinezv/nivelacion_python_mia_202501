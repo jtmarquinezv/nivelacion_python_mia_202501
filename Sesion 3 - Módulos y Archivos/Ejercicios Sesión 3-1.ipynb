{
 "cells": [
  {
   "cell_type": "markdown",
   "metadata": {},
   "source": [
    "# Ejercicios Sesión 3, Parte 1\n",
    "\n",
    "Practiquemos instalando un módulo externo.\n",
    "\n",
    "<p>\n",
    "<font size='1'>Material creado por &copy; 2024 José Tomás Marquinez, todos los derechos reservados.</font>\n",
    "<br>\n",
    "\n",
    "**Sugerencia de trabajo:** No sugiero usar Git y Github para este ejercicio, al ser uno sólo. Trabajar colaborativamente desde la misma pantalla. Eso sí, asegúrense de que quede la versión final en el repositorio para que el otro compañero pueda hacer `git pull` y terminar con el código. Por lo mismo, igual es necesario que uno cree el repositorio para la sesión, agregando al colaborador, enlazando el directorio local del creador del repositorio siguiendo los mismos pasos que la sesión anterior. Que el otro integrante luego clone el repositorio y finalmente hagan el pull.\n"
   ]
  },
  {
   "cell_type": "markdown",
   "metadata": {},
   "source": [
    "## Ejercicio 1:\n",
    "\n",
    "Trabajaremos con imágenes. Para ello, les dejé una imagen de un perrito sonriente en la carpeta `data` llamado `smiley_dog.jpg`. \n",
    "\n",
    "Para trabajar con imágenes, uno de los módulos utilizados puede ser el módulo `Pillow`. Comience instalándolo. La documentación indica que se puede instalar desde PIP usando `pip install Pillow` (con `P` mayúscula). (Puede que ya la tenga en su computador)"
   ]
  },
  {
   "cell_type": "code",
   "execution_count": null,
   "metadata": {},
   "outputs": [],
   "source": [
    "! pip install Pillow"
   ]
  },
  {
   "cell_type": "markdown",
   "metadata": {},
   "source": [
    "Les dejé la importación lista para ejecutar en la siguiente celda:"
   ]
  },
  {
   "cell_type": "code",
   "execution_count": null,
   "metadata": {},
   "outputs": [],
   "source": [
    "from PIL import Image, ImageFilter"
   ]
  },
  {
   "cell_type": "markdown",
   "metadata": {},
   "source": [
    "Para abrir una imagen, la documentación indica que `Image` contiene una función llamada `open`, que recibe el nombre del archivo. Retorna una instancia de una clase que permite trabajar con imágenes. Ábrala, y luego ejecute sobre esa instancia el método `show()`, que no recibe ningún parámetro, para abrirla."
   ]
  },
  {
   "cell_type": "code",
   "execution_count": null,
   "metadata": {},
   "outputs": [],
   "source": []
  },
  {
   "cell_type": "markdown",
   "metadata": {},
   "source": [
    "Rotémosla. Gírela 45 grados; y para ello, existe un método `rotate(degrees)` que recibe un _int_ `degrees` representando la cantidad de grados a girar la imagen, y retorna la imagen girada. Luego muéstrela."
   ]
  },
  {
   "cell_type": "code",
   "execution_count": null,
   "metadata": {},
   "outputs": [],
   "source": []
  },
  {
   "cell_type": "markdown",
   "metadata": {},
   "source": [
    "Hagámosla borrosa. Para ello, esa instancia tiene un método `filter()`, que debe recibir un llamable `BLUR` de la clase `ImageFilter` del módulo `PIL` (ya está importado). \n",
    "\n",
    "```Python\n",
    "imagen.filter(ImageFilter.BLUR)\n",
    "```\n",
    "\n",
    "Luego, guarde la imagen con `save(filename)`."
   ]
  },
  {
   "cell_type": "code",
   "execution_count": null,
   "metadata": {},
   "outputs": [],
   "source": []
  },
  {
   "cell_type": "markdown",
   "metadata": {},
   "source": [
    "# Ejercicio 2:\n",
    "\n",
    "Trabajaremos con un módulo `requests` que permite extraer información desde sitios web, a través de la API disponible para ello. En este ejercicio, usaremos la API (Interfaz de Programación de Aplicaciones) de [REST Countries](https://restcountries.com/). Esta API proporciona datos sobre países, incluyendo población, área, idiomas y continentes.\n",
    "\n",
    "La URL base para extraer la información es `https://restcountries.com/v3.1/name/{nombre-del-pais}`. Comencemos extrayendo información con una solicitud GET a la API para obtener datos de un país específico. Por ejemplo, Chile.\n",
    "\n",
    "Lo primero a hacer es importar el módulo, luego arme un string con el país que le interese consultar. Algunos ejemplos de países indicando cómo podrían escribirse en la URL.\n",
    "\n",
    "### 🌎 **América**  \n",
    "- chile  \n",
    "- argentina  \n",
    "- brazil  \n",
    "- peru  \n",
    "- mexico  \n",
    "- canada  \n",
    "- usa  \n",
    "- colombia  \n",
    "- venezuela  \n",
    "- cuba  \n",
    "\n",
    "### 🌍 **Europa**  \n",
    "- spain  \n",
    "- france  \n",
    "- germany  \n",
    "- italy  \n",
    "- united kingdom  \n",
    "- netherlands  \n",
    "- sweden  \n",
    "- norway  \n",
    "- poland  \n",
    "- greece  \n",
    "\n",
    "### 🌏 **Asia**  \n",
    "- china  \n",
    "- japan  \n",
    "- south korea  \n",
    "- india  \n",
    "- russia  \n",
    "- thailand  \n",
    "- vietnam  \n",
    "- saudi arabia  \n",
    "- indonesia  \n",
    "- philippines  \n",
    "\n",
    "### 🌍 **África**  \n",
    "- south africa  \n",
    "- egypt  \n",
    "- nigeria  \n",
    "- morocco  \n",
    "- kenya  \n",
    "- ethiopia  \n",
    "- ghana  \n",
    "- tanzania  \n",
    "- uganda  \n",
    "- algeria  \n",
    "\n",
    "### 🌏 **Oceanía**  \n",
    "- australia  \n",
    "- new zealand  \n",
    "- fiji  \n",
    "- papua new guinea  \n",
    "- samoa  \n",
    "\n",
    "### 🏝️ **Países pequeños o particulares**  \n",
    "- iceland  \n",
    "- vatican  \n",
    "- monaco  \n",
    "- malta  \n",
    "- luxembourg  \n",
    "- san marino  \n",
    "- liechtenstein  \n"
   ]
  },
  {
   "cell_type": "markdown",
   "metadata": {},
   "source": [
    "\n",
    "El módulo `requests` contiene una función que se conecta con la URL y retorna la respuesta de la API, llamada `requests.get(url)`. La response en este caso posee un método `json()` que no recibe nada, pero permite obtener la información como un string en formato JSON (es un formato de data estructurado en forma de diccionario). Luego de convertir la response a JSON, imprima el resultado, para que pueda ver cómo es la data."
   ]
  },
  {
   "cell_type": "code",
   "execution_count": null,
   "metadata": {},
   "outputs": [],
   "source": []
  },
  {
   "cell_type": "markdown",
   "metadata": {},
   "source": [
    "Puede \"embonitar\" el JSON en el siguiente sitio: https://jsonformatter.curiousconcept.com/\n",
    "\n",
    "Ahora, navegue la información para poder imprimir lo siguiente:\n",
    "- Nombre oficial del país que consultó\n",
    "- Capital\n",
    "- Población\n",
    "- Área en km2\n",
    "- Idiomas oficiales\n",
    "- Continente\n",
    "\n",
    "La idea es que sea un print por data (en cada celda por separado), y que la obtengan _desde_ el JSON. Les regalo la primera línea:"
   ]
  },
  {
   "cell_type": "code",
   "execution_count": null,
   "metadata": {},
   "outputs": [],
   "source": [
    "info = data[0]"
   ]
  },
  {
   "cell_type": "markdown",
   "metadata": {},
   "source": [
    "Para terminar, seleccionen 5 países diferentes, obtengan la data de la API para responder algunas de las siguientes preguntas:\n",
    "\n",
    "- ¿Cuál es el país más poblado de los elegidos?\n",
    "- ¿Cuál es el país más grande en área de los elegidos?\n",
    "- ¿Cuál tiene más idiomas oficiales entre los países elegidos?\n",
    "- ¿En qué continente hay más países de los elegidos?"
   ]
  },
  {
   "cell_type": "code",
   "execution_count": null,
   "metadata": {},
   "outputs": [],
   "source": []
  }
 ],
 "metadata": {
  "kernelspec": {
   "display_name": "Python 3",
   "language": "python",
   "name": "python3"
  },
  "language_info": {
   "codemirror_mode": {
    "name": "ipython",
    "version": 3
   },
   "file_extension": ".py",
   "mimetype": "text/x-python",
   "name": "python",
   "nbconvert_exporter": "python",
   "pygments_lexer": "ipython3",
   "version": "3.11.2"
  },
  "orig_nbformat": 4,
  "vscode": {
   "interpreter": {
    "hash": "9a332da503d34353b4a88734c9c417394c5073dd13f9e5d25ac34ee4ac9b6e5a"
   }
  }
 },
 "nbformat": 4,
 "nbformat_minor": 2
}
