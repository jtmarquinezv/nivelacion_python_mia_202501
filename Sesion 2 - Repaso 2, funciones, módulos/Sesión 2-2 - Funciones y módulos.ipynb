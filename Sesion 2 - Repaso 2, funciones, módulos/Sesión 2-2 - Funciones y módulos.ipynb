{
 "cells": [
  {
   "cell_type": "markdown",
   "metadata": {},
   "source": [
    "# Sesión 2, Parte 2\n",
    "\n",
    "En esta sesión repasaremos conceptos que nos permitirán trabajar un poco mejor con Python. Agregaremos un poco al concepto que tenemos sobre funciones, para que nuestros códigos sean más eficientes y directos.\n",
    "\n",
    "<p>\n",
    "<font size='1'>Material adaptado del material creado por &copy; 2015 Karim Pichara - Christian Pieringer, todos los derechos reservados; y posteriormente modificado por Equipos Docentes IIC2233 UC.</font>\n",
    "<br>"
   ]
  },
  {
   "cell_type": "markdown",
   "metadata": {},
   "source": [
    "# Tabla de contenidos\n",
    "\n",
    "1. **[Funciones built-in para trabajar sobre estructuras de datos](#funciones-built-in-para-trabajar-sobre-estructuras-de-datos)**\n",
    "    1. [`zip`](#zip)\n",
    "    2. [`map`](#map)\n",
    "    3. [`filter`](#filter)\n",
    "    4. [`enumerate`](#enumerate)\n",
    "2. **[Funciones lambda](#funciones-lambda)**\n",
    "1. **[Módulos: Importación en Python](#modulos)**"
   ]
  },
  {
   "cell_type": "markdown",
   "metadata": {},
   "source": [
    "# Funciones built-in para trabajar sobre estructuras de datos"
   ]
  },
  {
   "cell_type": "markdown",
   "metadata": {},
   "source": [
    "### `zip`\n",
    "\n",
    "Toma dos o más secuencias o iterables y retorna un conjunto de tuplas iterable, donde cada tupla está formada por los elementos i-ésimos de cada una de las secuencias o iterables. La cantidad de elementos que retorna este iterador es igual al menor de los largos de las secuencias o iterables."
   ]
  },
  {
   "cell_type": "markdown",
   "metadata": {},
   "source": [
    "A modo de ejemplo, consideremos que tenemos una tupla con los *headers* (o nombres de columnas) de una planilla y una tupla con los datos de una persona en particular. Queremos obtener una lista con tuplas, donde en cada una aparezca el *header* con su valor:"
   ]
  },
  {
   "cell_type": "code",
   "execution_count": 8,
   "metadata": {},
   "outputs": [
    {
     "data": {
      "text/plain": [
       "[('nombre', 'Juan'), ('apellido', 'Perez'), ('email', 'jp1@hotmail.com')]"
      ]
     },
     "execution_count": 8,
     "metadata": {},
     "output_type": "execute_result"
    }
   ],
   "source": [
    "columnas = (\"nombre\", \"apellido\", \"email\")\n",
    "persona = (\"Juan\", \"Perez\", \"jp1@hotmail.com\")\n",
    "\n",
    "list(zip(columnas, persona))"
   ]
  },
  {
   "cell_type": "markdown",
   "metadata": {},
   "source": [
    "Si ampliamos nuestro ejemplo con una lista de tuplas de personas:"
   ]
  },
  {
   "cell_type": "code",
   "execution_count": null,
   "metadata": {},
   "outputs": [
    {
     "data": {
      "text/plain": [
       "[('nombre', 'Juan', 'Gonzalo', 'Alberto'),\n",
       " ('apellido', 'Perez', 'Aldunate', 'Gomez'),\n",
       " ('email', 'jp1@hotmail.com', 'gan@gmail.com', 'agomez@yahoo.com')]"
      ]
     },
     "metadata": {},
     "output_type": "display_data"
    }
   ],
   "source": [
    "columnas = (\"nombre\", \"apellido\", \"email\")\n",
    "personas = [\n",
    "            (\"Juan\", \"Perez\", \"jp1@hotmail.com\"), \n",
    "            (\"Gonzalo\", \"Aldunate\", \"gan@gmail.com\"),\n",
    "            (\"Alberto\", \"Gomez\", \"agomez@yahoo.com\")\n",
    "           ]\n",
    "\n",
    "# El asterico simple es para pasar la lista de personas como argumentos separados:\n",
    "# Si personas = [p1, p2, p3], entonces lo siguiente es equivalente a zip(columnas, p1, p2, p3)\n",
    "list(zip(columnas, *personas))"
   ]
  },
  {
   "cell_type": "markdown",
   "metadata": {},
   "source": [
    "También recordemos que `zip` sólo tomará la cantidad de elementos del iterable más corto."
   ]
  },
  {
   "cell_type": "code",
   "execution_count": 9,
   "metadata": {},
   "outputs": [
    {
     "data": {
      "text/plain": [
       "[('nombre', 'Juan'), ('apellido', 'Perez'), ('email', 'jp1@hotmail.com')]"
      ]
     },
     "execution_count": 9,
     "metadata": {},
     "output_type": "execute_result"
    }
   ],
   "source": [
    "columnas = (\"nombre\", \"apellido\", \"email\")\n",
    "persona = (\"Juan\", \"Perez\", \"jp1@hotmail.com\", \"+56123123??\")\n",
    "\n",
    "list(zip(columnas, persona))"
   ]
  },
  {
   "cell_type": "markdown",
   "metadata": {},
   "source": [
    "## `map`\n",
    "\n",
    "`map` recibe como parámetros una función y **al menos** un iterable. Retorna un iterable resultante de que cada elemento del argumento haya sido procesado por la función. Notar que el argumento asociado a la función recibe solamente el _nombre_ de la función y no un llamado a esta.\n",
    "\n",
    "La cantidad de iterables entregada a `map` debe corresponder con la cantidad de parámetros que recible la función `f`. Por ejemplo, si tenemos `map(f, iterable1, iterable2)` entonces `f` debe recibir dos parámetros. Es así como  `map(f, iterable1, iterable2)` es equivalente a `(f(x, y) for x, y in zip(iterable1, iterable2))`.\n",
    "\n",
    "\n",
    "`map(función, iterable1, iterable2)`\n",
    "\n",
    "\n",
    "En la sintaxis anterior:\n",
    "\n",
    "- función: denota una función de Python o, en general, cualquier Python invocable (puede ser un _lambda_).\n",
    "\n",
    "- iterable: es cualquier iterable de Python válido, como una lista, una tupla y una cadena.\n",
    "\n",
    "La función map() aplica el función a cada artículo en el iterable.\n",
    "\n",
    "\n",
    "\n",
    "<center><img src=\"img/map_function.png\" alt=\"Drawing\" style=\"width: 500px;\"/></center>"
   ]
  },
  {
   "cell_type": "markdown",
   "metadata": {},
   "source": [
    "Imagen obtenida de [Swift unboxed](https://swiftunboxed.com/open-source/map/ \"Swift unboxed\")."
   ]
  },
  {
   "cell_type": "markdown",
   "metadata": {},
   "source": [
    "### Ejemplos con `map`"
   ]
  },
  {
   "cell_type": "markdown",
   "metadata": {},
   "source": [
    "1\\. Tenemos una lista de *strings*, donde queremos colocar cada uno en minúsculas:"
   ]
  },
  {
   "cell_type": "code",
   "execution_count": 17,
   "metadata": {},
   "outputs": [],
   "source": [
    "strings = ['Señores pasajeros', 'Disculpen', 'mi', 'IntencIÓN', 'no', 'Es', 'MolEstar']\n",
    "mapeo = map(lambda x: x.lower(), strings)"
   ]
  },
  {
   "cell_type": "code",
   "execution_count": 18,
   "metadata": {},
   "outputs": [
    {
     "name": "stdout",
     "output_type": "stream",
     "text": [
      "['señores pasajeros', 'disculpen', 'mi', 'intención', 'no', 'es', 'molestar']\n"
     ]
    }
   ],
   "source": [
    "print(list(mapeo))"
   ]
  },
  {
   "cell_type": "markdown",
   "metadata": {},
   "source": [
    "2\\. Tenemos dos o más listas de números y queremos, a partir de esos números, calcular otro:"
   ]
  },
  {
   "cell_type": "code",
   "execution_count": 19,
   "metadata": {},
   "outputs": [
    {
     "name": "stdout",
     "output_type": "stream",
     "text": [
      "[290, 148, 130, 116]\n",
      "[289, 82, 249, 833]\n"
     ]
    }
   ],
   "source": [
    "a = [1, 2, 3, 4]\n",
    "b = [17, 12, 11, 10]\n",
    "c = [-1, -4, 5, 9]\n",
    "\n",
    "mapeo_1 = map(lambda x, y: x ** 2 + y ** 2, a, b)\n",
    "mapeo_2 = map(lambda x, y, z: x + y ** 2 + z ** 3, a, b, c)\n",
    "\n",
    "print(list(mapeo_1))\n",
    "print(list(mapeo_2))"
   ]
  },
  {
   "cell_type": "markdown",
   "metadata": {},
   "source": [
    "Notar que la cantidad de elementos que procesa la función en un `map` corresponde a la cantidad que tiene el iterable más pequeño:"
   ]
  },
  {
   "cell_type": "code",
   "execution_count": null,
   "metadata": {},
   "outputs": [
    {
     "data": {
      "text/plain": [
       "[101, 103, 105]"
      ]
     },
     "metadata": {},
     "output_type": "display_data"
    }
   ],
   "source": [
    "a = [1, 2, 3, 4, 5, 6, 7, 8, 9, 10]\n",
    "b = [100, 101, 102]\n",
    "\n",
    "mapeo = map(lambda x, y: x + y, a, b)\n",
    "list(mapeo)"
   ]
  },
  {
   "cell_type": "markdown",
   "metadata": {},
   "source": [
    "## `filter`   \n",
    "\n",
    "`filter(f, iterable)` recibe como parámetros una función que retorna `True` o `False` (o función *booleana*), y un iterable. Retorna \"una lista\" resultante de aquellos elementos del iterable donde la función `f` retorna `True`."
   ]
  },
  {
   "cell_type": "code",
   "execution_count": 24,
   "metadata": {},
   "outputs": [
    {
     "name": "stdout",
     "output_type": "stream",
     "text": [
      "[1, 1, 3, 5, 13, 21, 55]\n",
      "[0, 2, 8, 34]\n"
     ]
    }
   ],
   "source": [
    "fibonacci = [0,1,1,2,3,5,8,13,21,34,55]\n",
    "\n",
    "filtrado_impares = filter(lambda x: x % 2 != 0, fibonacci)\n",
    "print(list(filtrado_impares))\n",
    "\n",
    "filtrado_pares = filter(lambda x: x % 2 == 0, fibonacci)\n",
    "print(list(filtrado_pares))"
   ]
  },
  {
   "cell_type": "markdown",
   "metadata": {},
   "source": [
    "Otro ejemplo, en el que se entrega un *set* a `filter`:"
   ]
  },
  {
   "cell_type": "code",
   "execution_count": 25,
   "metadata": {},
   "outputs": [
    {
     "data": {
      "text/plain": [
       "[1, 5, 9]"
      ]
     },
     "execution_count": 25,
     "metadata": {},
     "output_type": "execute_result"
    }
   ],
   "source": [
    "set_filtrado = filter(lambda x: x < 10, {100, 1, 5, 9, 91, 1})\n",
    "list(set_filtrado)"
   ]
  },
  {
   "cell_type": "markdown",
   "metadata": {},
   "source": [
    "## `enumerate`\n",
    "\n",
    "`enumerate()` entrega una especie de generador que retorna tuplas, donde el primer objeto en cada tupla es el indice y el segundo es el ítem original. Por ejemplo, si queremos iterar sobre una lista, y necesitamos obtener tanto el índice como su valor, una forma poco *pythonic* de hacer esto sería la siguiente:"
   ]
  },
  {
   "cell_type": "code",
   "execution_count": null,
   "metadata": {},
   "outputs": [
    {
     "name": "stdout",
     "output_type": "stream",
     "text": [
      "0: a\n",
      "1: b\n",
      "2: c\n",
      "3: d\n"
     ]
    }
   ],
   "source": [
    "lista = [\"a\",\"b\",\"c\",\"d\"]\n",
    "\n",
    "for indice in range(len(lista)):\n",
    "    elemento = lista[indice]\n",
    "    print(f\"{indice}: {elemento}\")"
   ]
  },
  {
   "cell_type": "markdown",
   "metadata": {},
   "source": [
    "La función `enumerate` nos permite hacer exactamente mismo, pero de una forma más elegante y *pythonic*:"
   ]
  },
  {
   "cell_type": "code",
   "execution_count": null,
   "metadata": {},
   "outputs": [
    {
     "name": "stdout",
     "output_type": "stream",
     "text": [
      "0: a\n",
      "1: b\n",
      "2: c\n",
      "3: d\n"
     ]
    }
   ],
   "source": [
    "for indice, elemento in enumerate(lista):\n",
    "    print(f\"{indice}: {elemento}\")"
   ]
  },
  {
   "cell_type": "markdown",
   "metadata": {},
   "source": [
    "# Funciones *lambda*\n",
    "\n",
    "**Las funciones *lambda*** son una forma alternativa de definir funciones en Python, pero que le dan un espíritu \"desechable\". Además de su nombre griego, no hay nada intimidante en ellas. La sintaxis consiste en `lambda <parámetros>: <valor a retornar>`. En estas funciones no se necesita la sentencia `return`, puesto que la operación que se coloca a la derecha de los dos puntos (`:`) es el valor que se devolverá. Una característica que distingue a las funciones *lambda* es que **pueden ser definidas en forma anónima**, es decir, funciones que no reciben un nombre específico.\n",
    "\n",
    "##### Ejemplo:\n",
    "\n",
    "Defina dos funciones lambda (no podremos ejecutarlas aún). Una calculará el sucesor de un número, mientras que el otro calculará la diferencia entre los dos argumentos."
   ]
  },
  {
   "cell_type": "code",
   "execution_count": null,
   "metadata": {},
   "outputs": [],
   "source": [
    "lambda x: x + 1\n",
    "\n",
    "lambda x, y: x - y\n",
    "\n",
    "# Es (casi) equivalente a\n",
    "def sumar_uno(x):\n",
    "    return x + 1\n",
    "def sustracción(x, y):\n",
    "    return x - y"
   ]
  },
  {
   "cell_type": "markdown",
   "metadata": {},
   "source": [
    "Estas funciones pueden ser vistas como *fugaces* y son utilizadas únicamente donde fueron creadas. Esta anonimidad se combina bien con las funciones que veremos a continuación: `map`, `filter`, `reduce`."
   ]
  },
  {
   "cell_type": "markdown",
   "metadata": {},
   "source": [
    "<a id=\"modulos\"></a>\n",
    "# Módulos: Importación en Python\n",
    "\n",
    "Además de las funciones que están siempre presentes, podemos incorporar nuevas funcionalidades mediante la importación de **módulos**. Los módulos no son nada más que archivos de código que, generalmente, proveen diversas funciones (o clases (veremos eso más adelante)) agrupadas.\n",
    "\n",
    "## Importar módulo completo\n",
    "\n",
    "Para importar un módulo, se suele estilar hacerlo con la _keyword_ `import`:\n",
    "\n",
    "```python\n",
    "import modulo\n",
    "\n",
    "modulo.funcion_1(parametro_1, parametro_2, ..., parametro_n)\n",
    "\n",
    "modulo.funcion_2(parametro_1, parametro_2, ..., parametro_n)\n",
    "```\n",
    "\n",
    "Esto provee una nueva variable con el nombre del módulo que contiene todas las definiciones importadas. Para acceder a las definiciones del módulo, se acceden mediante esta variable, punto (`.`) y el nombre de la definición.\n",
    "\n",
    "### Aliasing\n",
    "\n",
    "Hay veces que el módulo lleva un nombre que puede ser un poco extenso de escribir, por lo que hay programadores que optan por escoger un alias. Así, es posible darle el nombre que nosotros queramos al módulo o a sus funciones. Esto se denomina *aliasing*.\n",
    "\n",
    "```python\n",
    "import modulo as alias\n",
    "\n",
    "alias.funcion_1(parametro_1, parametro_2, ..., parametro_n)\n",
    "```\n",
    "\n",
    "## Importar función(es) específica(s) desde un módulo\n",
    "\n",
    "Hay otra forma de importar que es \"haciendo propias\" las funciones que deseemos importar.\n",
    "\n",
    "```python\n",
    "from modulo import funcion_1, funcion_2, ..., funcion_n\n",
    "\n",
    "funcion_1(parametro_1, parametros_2, ..., parametro_n)\n",
    "```\n",
    "\n",
    "## Por qué trabajar con módulos\n",
    "\n",
    "Python está orientado a generar código modular. Cada archivo con extensión `.py` que tiene sentencias y definiciones es un módulo en Python. Con esto, podemos organizar nuestro proyecto de programación en diversos archivos que permitan separar las aguas. Así, usando la palabra reservada `import`. Esto permite importar variables, funciones, clases y cualquier otro tipo de definición creada.\n",
    "\n",
    "#### Ejemplo:\n",
    "\n",
    "Junto a estos archivos podrás encontrar un módulo llamado `ejemplo.py`, que tiene la definición de una variable y de una función. Revisa ese archivo y luego continúa leyendo. Mediante `import` podemos ingresar todas esas definiciones y utilizarlas en este documento:"
   ]
  },
  {
   "cell_type": "code",
   "execution_count": null,
   "metadata": {},
   "outputs": [],
   "source": [
    "import ejemplo"
   ]
  },
  {
   "cell_type": "code",
   "execution_count": null,
   "metadata": {},
   "outputs": [
    {
     "data": {
      "text/plain": [
       "10"
      ]
     },
     "metadata": {},
     "output_type": "display_data"
    }
   ],
   "source": [
    "ejemplo.mi_variable"
   ]
  },
  {
   "cell_type": "code",
   "execution_count": null,
   "metadata": {},
   "outputs": [
    {
     "name": "stdout",
     "output_type": "stream",
     "text": [
      "¡Hola!\n"
     ]
    }
   ],
   "source": [
    "ejemplo.saludar()"
   ]
  },
  {
   "cell_type": "markdown",
   "metadata": {},
   "source": [
    "## ¿Cómo se ejecuta la importación?\n",
    "\n",
    "Al ejecutar un archivo de extensión `.py` las líneas se ejecutan en orden, una línea a la vez. Cuando se llega a una sentencia `import` Python: **ejecuta** el archivo en referencia completo, creando variables y creando definiciones; luego vuelve al archivo original a continuar con el resto de las sentencias. En este último, se puede utilizar el código ejecutado en el módulo importado, pues ya fue ejecutado.\n",
    "\n",
    "Esto se cumple para importaciones en cadena. Digamos que un archivo `a.py` importa a `b.py`, el cual a su vez importa a `c.py`. Si ejecutamos `a.py`:\n",
    "1. Al llegar a la sentencia `import b` en `a.py`, se comienza ejecutando `b.py`\n",
    "2. Al llegar a la sentencia `import c` en `b.py`, se comienza ejecutando `c.py`\n",
    "3. Si hay más importaciones en `c.py`, se ejecuta sucesivamente de la misma forma esos módulos. Luego se ejecuta el resto de `c.py`\n",
    "4. Se ejecuta el resto de `b.py`\n",
    "5. Se ejecuta el resto de `a.py`\n",
    "\n",
    "Python verifica los archivos que ya han sido importados en el contexto del programa antes de ejecutar un `import`. Es por esto que al formar un ciclo de importaciones, estas funcionan correctamente, ya que Python ignora los módulos que ya han sido importados. En el ejemplo anterior, si `c.py` posee una sentencia `import a`, Python no ejecuta nuevamente el `import a`, pues, ya se ha iniciado un `import` de `a.py`."
   ]
  },
  {
   "cell_type": "markdown",
   "metadata": {},
   "source": [
    "##### Ejemplo:\n",
    "\n",
    "Python viene con diversos módulos ya instalados junto a la instalación principal del lenguaje de programación. Uno de ellos es el módulo [`math`](https://docs.python.org/3/library/math.html). En su documentación pueden encontrar todas las funciones y variables que están definidas en ella.\n",
    "\n",
    "Úsela para calcular el coseno de pi cuartos, y para calcular el factorial de 6."
   ]
  },
  {
   "cell_type": "code",
   "execution_count": null,
   "metadata": {},
   "outputs": [
    {
     "name": "stdout",
     "output_type": "stream",
     "text": [
      "-1.0\n",
      "720\n"
     ]
    }
   ],
   "source": [
    "import math\n",
    "\n",
    "print(math.cos(math.pi))\n",
    "print(math.factorial(6))"
   ]
  }
 ],
 "metadata": {
  "kernelspec": {
   "display_name": "Python 3",
   "language": "python",
   "name": "python3"
  },
  "language_info": {
   "codemirror_mode": {
    "name": "ipython",
    "version": 3
   },
   "file_extension": ".py",
   "mimetype": "text/x-python",
   "name": "python",
   "nbconvert_exporter": "python",
   "pygments_lexer": "ipython3",
   "version": "3.11.2"
  },
  "orig_nbformat": 4,
  "vscode": {
   "interpreter": {
    "hash": "9a332da503d34353b4a88734c9c417394c5073dd13f9e5d25ac34ee4ac9b6e5a"
   }
  }
 },
 "nbformat": 4,
 "nbformat_minor": 2
}
