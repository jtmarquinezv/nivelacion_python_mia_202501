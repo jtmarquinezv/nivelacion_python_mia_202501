{
 "cells": [
  {
   "attachments": {},
   "cell_type": "markdown",
   "metadata": {},
   "source": [
    "# Sesión 2, Parte 1\n",
    "\n",
    "En esta sesión repasaremos conceptos que nos permitirán trabajar un poco mejor con Python. En particular, crearemos nuestros propios tipos de dato.\n",
    "\n",
    "<p>\n",
    "<font size='1'>Material adaptado del material creado por &copy; 2015 Karim Pichara - Christian Pieringer, todos los derechos reservados; y posteriormente modificado por Equipos Docentes IIC2233 UC.</font>\n",
    "<br>\n"
   ]
  },
  {
   "cell_type": "markdown",
   "metadata": {},
   "source": [
    "# Tabla de contenidos\n",
    "\n",
    "1. **Programación Orientada a Objetos**\n",
    "    1. [Definiciones base](#definiciones-base)\n",
    "    2. [Codificación de objetos](#codificacion)\n",
    "        1. [_Keyword_ principal](#keyword-principal)\n",
    "        2. [Constructor y atributos](#constructor-y-atributos)\n",
    "        3. [Métodos](#metodos)\n",
    "            1. [`str` y `repr`](#__str__-y-__repr__)\n",
    "        4. [Generando instancias y accediendo a ellas](#generando-instancias-y-accediendo-a-sus-atributos-y-metodos)\n",
    "    3. [Ejemplos](#ejemplos)"
   ]
  },
  {
   "cell_type": "markdown",
   "metadata": {},
   "source": [
    "# Programación Orientada a Objetos\n",
    "\n",
    "## Definiciones base\n",
    "\n",
    "La **programación orientada a objetos** es un paradigma de programación que consiste en modelar un problema preocupándose de los **objetos** que en él participan: sus atributos, comportamiento e interacción. En el área de desarrollo de software, un **objeto** es una colección de **datos** que además tiene **comportamientos** asociados. Por una parte, los datos **describen** a los objetos, mientras que los comportamientos **representan acciones** que ocurren en ellos. \n",
    "\n",
    "La **Programación orientada a objetos** u **OOP** (*Object-oriented Programming*) es un *paradigma de programación* (una manera de programar) en el cual los programas modelan las funcionalidades a través de la interacción entre **objetos** por medio de sus datos y sus comportamientos. \n",
    "\n",
    "Se les llama **atributos** de un objeto al conjunto de datos que hace un a objeto. Es lo que sabe, sus características, su estado.\n",
    "Se les llama **métodos** de un objeto al conjunto de comportamientos que tiene el objeto. Es lo que puede hacer.\n",
    "\n",
    "Así, podemos pensar en realidad a un objeto como un conjunto de información y comportamientos.\n",
    "\n",
    "Por otro lado, una **clase** es una plantilla para la creación de objetos de datos según un modelo predefinido. Es, en otras palabras, la herramienta para definir un conjunto de atributos y métodos para un objeto en particular. Es decir, es el molde.\n",
    "\n",
    "Cada objeto creado a partir de una clase se denomina **instancia** de esa clase. Cada vez que creamos un objeto a partir de una clase, decimos que estamos _instanciando_ esa clase, por lo tanto **un objeto es una instancia de una clase**. Es la particularización o realización específica de una clase. Es lo que hace a cada objeto único. Al crear una instancia de una clase, se está creando un objeto _inicializando_ (dándole valor inicial) sus atributos.\n"
   ]
  },
  {
   "cell_type": "markdown",
   "metadata": {},
   "source": [
    "<a id=\"codificacion\"></a>\n",
    "## Codificación\n",
    "\n",
    "### _Keyword_ principal\n",
    "\n",
    "Para definir un tipo nuevo en Python, se presenta el _keyword_ ```class``` que le indica a Python que todo lo que vendrá indentado a continuación pertenecerá a la clase definida.\n",
    "\n",
    "```Python\n",
    "class NombreClase:\n",
    "    #...\n",
    "    # Código de la clase\n",
    "    #...\n",
    "```\n"
   ]
  },
  {
   "cell_type": "markdown",
   "metadata": {},
   "source": [
    "\n",
    "### Constructor y atributos\n",
    "\n",
    "Lo primero que definiremos será el **constructor**. Este es la _\"función\"_ (que en realidad es un método) que se ejecutará cada vez que creamos una instancia de una clase. En ella, se estila definir todos los **atributos** que tendrá la clase. Para que Python entienda que este método es el constructor, siempre tendrá el nombre ```__init__```, seguido de los parámetros de la función que ayudan a darle valor inicial (_inicializar_) a los atributos. El primer parámetro siempre deberá ser ```self``` (en realidad puede ser cualquier nombre, pero es convención usar `self`), el cual es una referencia a la instanca de la clase sobre la que están actuando.\n",
    "\n",
    "Para definir los atributos y estos sobrevivan al _scope_ de la función constructora, se deben asociar a la instancia actual que está siendo creada y, para ello, se asocian al ```self``` de la forma ```self.atributo```. Estos atributos son, después de todos, variables que están asociadas a la instancia.\n",
    "\n",
    "```Python\n",
    "class NombreClase:\n",
    "    def __init__(self, par1, par2): #par1 y par 2 son opcionales (dependen del caso)\n",
    "        self.atributo1 = par1\n",
    "        self.atributo2 = par2**2 + 1\n",
    "        self.atributo3 = 1000\n",
    "        self.atributo4 = \"nombre\"\n",
    "    #...\n",
    "```\n"
   ]
  },
  {
   "cell_type": "markdown",
   "metadata": {},
   "source": [
    "<a id=\"metodos\"></a>\n",
    "### Métodos\n",
    "\n",
    "Para que una instancia de esta clase pueda \"hacer cosas\", es posible definirle **métodos**. Los métodos no son (casi) nada más que funciones que se encuentran asociadas a la clase, y se pueden usar para que una instancia de esa clase acceda o modifique sus atributos, o para que interactúe con otros objetos.\n",
    "\n",
    "La definición de un método es tal como la de una función, sólamente que el primer parámetro también deberá ser siempre ```self```. Sólo así se podrá acceder a la información _propia_ de la instancia (sus atributos y otros métodos).\n",
    "\n",
    "```Python\n",
    "class NombreClase:\n",
    "    # Constructor ya definido\n",
    "    # ...\n",
    "    def metodo1(self, par1, par2): #par1 y par 2 son opcionales (dependen del caso)\n",
    "        # código del método\n",
    "        # opcionalmente puede tener un valor de retorno\n",
    "    #...\n",
    "```\n",
    "\n",
    "#### ```__str__``` y ```__repr__```\n",
    "\n",
    "Existen dos métodos (entre muchos otros) que tienen un nombre particular. Si queremos especificar una forma en que las clases se \"impriman\" o se conviertan a __str__, entonces es necesario definir estos métodos. Estos deben retornar la forma en que queremos que se presente la instancia como texto.\n",
    "\n",
    "```Python\n",
    "class NombreClase:\n",
    "    # Constructor ya definido\n",
    "    # Métodos opcionalmente definidos\n",
    "    # ...\n",
    "    def __str__(self): \n",
    "        # Código de la función formateando el str\n",
    "        return valor_retorno\n",
    "\n",
    "    def __repr__(self):\n",
    "        # Código de la función formateando el str\n",
    "        return valor_retorno\n",
    "```\n",
    "\n",
    "La diferencia entre estos dos recae principalmente en su uso: se suele usar el método `__str__` para crear los mensajes que serán presentados al usuario final, por lo que deben ser fácilmente legibles; mientras que se suele usar el método `__repr__` para la depuración y desarrollo, por lo que sus mensajes suelen ser más inequívocos. `__repr__` calcula la representación de la cadena \"oficial\" de un objeto y `__str__` para la representación de la cadena \"informal\" de un objeto. La función `print()` y la función `str()` usan `__str__`.\n"
   ]
  },
  {
   "cell_type": "markdown",
   "metadata": {},
   "source": [
    "<a id=\"generando-instancias-y-accediendo-a-sus-atributos-y-metodos\"></a>\n",
    "### Generando instancias y accediendo a sus atributos y métodos\n",
    "\n",
    "Para generar una instancia, basta con crear un objeto de la clase. Para ello, se puede \"ejecutar la clase\" (como si fuera una función), pasándole los parámetros necesarios. Notar que los parámetros ```self``` son implícitos en la construcción de la instancia.\n",
    "\n",
    "```Python\n",
    "# En el código principal\n",
    "variable = NombreClase(par1, par2)\n",
    "```\n",
    "\n",
    "Acá, ```variable``` ya contiene toda la información generada desde la clase, es decir, contiene sus atributos inicializados y puede hacer uso de sus métodos.\n",
    "\n",
    "```Python\n",
    "print(\"Se puede acceder al valor del atributo 1:\", variable.atributo1)\n",
    "print(\"O a cualquier atributo, como el 4:\", variable.atributo4)\n",
    "\n",
    "# Ejecutando métodos\n",
    "valor_a_entregar_como_parametro = 150 #150 por poner algo\n",
    "\n",
    "variable.metodo1(valor_a_entregar_como_parametro, \"texto\")\n",
    "#notar que ese método lo definimos con dos parámetros.\n",
    "#notar también que el self no es necesario escribirlo\n",
    "\n",
    "# Imprimiendo objetos\n",
    "print(variable) #esto va a llamar al método __str__\n",
    "```\n"
   ]
  },
  {
   "cell_type": "markdown",
   "metadata": {},
   "source": [
    "\n",
    "## Ejemplos"
   ]
  },
  {
   "cell_type": "markdown",
   "metadata": {},
   "source": [
    "#### Ejemplo 1:\n",
    "\n",
    "Programemos la clase presentada en la diapositiva ```Punto2D```."
   ]
  },
  {
   "cell_type": "code",
   "execution_count": null,
   "metadata": {},
   "outputs": [
    {
     "name": "stdout",
     "output_type": "stream",
     "text": [
      "A: (5, 0) , K: (10, -3)\n",
      "A: (15, 0) , K: (10, -10)\n",
      "11.180339887498949\n"
     ]
    }
   ],
   "source": [
    "class Punto2D:\n",
    "    def __init__(self, x, y):\n",
    "        self.x = x\n",
    "        self.y = y\n",
    "        self.norma = (x**2 + y**2)**(1/2)\n",
    "        \n",
    "    def mover_x(self, size):\n",
    "        self.x += size\n",
    "        self.norma = (self.x**2 + self.y**2)**(1/2)\n",
    "        \n",
    "    def mover_y(self, size):\n",
    "        self.y += size\n",
    "        self.norma = (self.x**2 + self.y**2)**(1/2)\n",
    "        \n",
    "    def calcular_distancia(self, otro):\n",
    "        # otro es una instancia distinta de Punto2D\n",
    "        dist = ((self.x - otro.x)**2 + (self.y - otro.y)**2)**(1/2)\n",
    "        return dist\n",
    "    \n",
    "    def __str__(self):\n",
    "        s = f\"({self.x}, {self.y})\"\n",
    "        return s\n",
    "    \n",
    "# Código principal\n",
    "punto_a = Punto2D(5,0)\n",
    "punto_k = Punto2D(10, -3)\n",
    "\n",
    "print(\"A:\", punto_a,\", K:\", punto_k)\n",
    "\n",
    "punto_a.mover_x(10)\n",
    "punto_k.mover_y(-7)\n",
    "\n",
    "print(\"A:\", punto_a,\", K:\", punto_k)\n",
    "\n",
    "print(punto_a.calcular_distancia(punto_k))\n",
    "    "
   ]
  },
  {
   "cell_type": "code",
   "execution_count": null,
   "metadata": {},
   "outputs": [
    {
     "data": {
      "text/plain": [
       "-10"
      ]
     },
     "metadata": {},
     "output_type": "display_data"
    }
   ],
   "source": [
    "punto_k.y"
   ]
  },
  {
   "cell_type": "markdown",
   "metadata": {},
   "source": [
    "### Ejemplo 2:\n",
    "\n",
    "Programe una persona que saluda y que sea imprimible."
   ]
  },
  {
   "cell_type": "code",
   "execution_count": null,
   "metadata": {},
   "outputs": [],
   "source": [
    "class Persona:\n",
    "    def __init__(self, nombre, apellido):\n",
    "        self.nombre = nombre\n",
    "        self.apellido = apellido\n",
    "        self.edad = 25 #Notar que cada persona que creemos comenzará con 25 años.\n",
    "        \n",
    "    def __str__(self):\n",
    "        return f'Mi nombre es {self.nombre} {self.apellido}'\n",
    "\n",
    "    def saludar(self, otra_persona):\n",
    "        print(f'Hola {otra_persona.nombre}, soy {self.nombre} y te saludo.')"
   ]
  },
  {
   "cell_type": "code",
   "execution_count": null,
   "metadata": {},
   "outputs": [
    {
     "name": "stdout",
     "output_type": "stream",
     "text": [
      "Mi nombre es Renato Leal\n",
      "Hola Renato, soy Francesca y te saludo.\n"
     ]
    }
   ],
   "source": [
    "p1 = Persona(\"Francesca\", \"Aguirre\")\n",
    "p2 = Persona(\"Renato\", \"Leal\")\n",
    "print(p2)\n",
    "p1.saludar(p2)"
   ]
  },
  {
   "cell_type": "markdown",
   "metadata": {},
   "source": [
    "Para este caso, `p1` está saludando a `p2`. Acá, al hacer\n",
    "```\n",
    "p1.saludar(p2)\n",
    "```\n",
    "estamos invocando al método `saludar`, donde `self` es una referencia al instancia `p1` sobre la cual se accede a su atributo `nombre` y al atributo `nombre` de otra instancia de la misma clase.\n"
   ]
  },
  {
   "cell_type": "markdown",
   "metadata": {},
   "source": [
    "### Ejemplo: definiendo una clase `Auto`\n",
    "\n",
    "Pensemos, por ejemplo, en un objeto que represente a un auto. Los **datos** que nos interesan de un auto podrían incluir su marca, su modelo, su año, color, número de motor, kilometraje, cuántas mantenciones ha recibido, en qué ubicación geográfica se encuentra, y el dueño actual. Respecto a las **acciones** que queremos realizar sobre el auto podemos pensar en *conducirlo durante una cierta cantidad de kilómetros*, *calcular su distancia a alguna dirección*, *efectuar una nueva mantención*, *determinar cuánto falta para su próxima mantención*, *pintarlo de otro color*, o *venderlo a otra persona*. Por supuesto, también podemos pensar en más datos y acciones. \n",
    "\n",
    "\n",
    "Datos            | Comportamiento\n",
    "---------------- | ---------------------------\n",
    "Marca            | Conducir durante _X_ kilómetros \n",
    "Modelo           | Calcular distancia a alguna dirección \n",
    "Año              | Realizar una nueva mantención\n",
    "Color            | Calcular fecha de la próxima mantención\n",
    "Motor            | Pintarlo de otro color\n",
    "Kilometraje      | Vender el auto a una persona\n",
    "Mantenciones     |\n",
    "Ubicación actual |\n",
    "Dueño actual     |\n"
   ]
  },
  {
   "cell_type": "code",
   "execution_count": null,
   "metadata": {},
   "outputs": [],
   "source": [
    "class Auto:\n",
    "    \n",
    "    def __init__(self, marca, modelo, año, color, km):\n",
    "        self.marca = marca\n",
    "        self.modelo = modelo\n",
    "        self.año = año\n",
    "        self.color = color\n",
    "        self._kilometraje = km\n",
    "        self._ubicacion = (-33.45, -70.63)\n",
    "        self.dueño = None\n",
    "\n",
    "    def conducir(self, kms):\n",
    "        self._kilometraje += kms\n",
    "        self.__modificar_ubicacion()\n",
    "\n",
    "    def vender(self, nuevo_dueño):\n",
    "        self.dueño = nuevo_dueño\n",
    "\n",
    "    def leer_odometro(self):\n",
    "        return self._kilometraje\n",
    "\n",
    "    def __modificar_ubicacion(self):\n",
    "        print(\"Calcula nueva ubicación\")\n",
    "        self.__ubicacion = (self.__ubicacion[0] + 0.01, self.__ubicacion[1] - 0.01)"
   ]
  },
  {
   "cell_type": "markdown",
   "metadata": {},
   "source": [
    "Esto lo representamos con un tipo de diagramas que llamamos UML (*Unified Modelling Language*), según el cual describimos una **clase** mediante un cuadro que indica sus datos o **atributos**, y sus acciones o **métodos**.\n",
    "\n",
    "![](img/OOP_auto_UML_base.png)"
   ]
  },
  {
   "cell_type": "markdown",
   "metadata": {},
   "source": [
    "### Ejemplo aplicado (que no desarrollaremos): definiendo una clase `Carpeta`\n",
    "\n",
    "Así como nosotros podemos definir clases personalizadas para estructurar nuestro código, los que programaron los computadores lo vienen haciendo desde hace mucho tiempo. Si miras tu *Escritorio/Desktop*, te darás cuenta de que existen muchas carpetas de archivos distintas. Todas esas carpetas **instancias** u **objetos** de la misma **clase**: la clase `Carpeta`. De esta forma no se tiene que repetir el código de una carpeta cada vez que se quiere crear una nueva carpeta, sino solo instanciarla.\n",
    "\n",
    "Atributos        | Métodos\n",
    "---------------- | ---------------------------\n",
    "Nombre            | Borrar\n",
    "Ícono           | Renombrar\n",
    "Tamaño              | Copiar\n",
    "Fecha de creación            | \n",
    "Lista de archivos            | \n",
    "\n",
    "Los siguientes son **objetos** de la **clase** `Carpeta`\n",
    "![](img/OOP_carpetas.png)"
   ]
  },
  {
   "cell_type": "markdown",
   "metadata": {},
   "source": [
    "### Ejemplo: definición de clase `Departamento`\n",
    "\n",
    "En este ejemplo, definimos una clase de nombre `Departamento`, la cual representa un departamento en venta con atributos como *superficie* (en m2), *valor* (en UF), *cantidad de dormitorios*, *cantidad de baños*, y un valor *booleano* que nos indica si el departamento ha sido vendido o no. También definimos un método *vender* que podría ser de interés para un vendedor."
   ]
  },
  {
   "cell_type": "code",
   "execution_count": null,
   "metadata": {},
   "outputs": [],
   "source": [
    "class Departamento:  # CamelCase notation (PEP8)\n",
    "    '''Clase que representa un departamento en venta\n",
    "       valor esta en UF.\n",
    "    '''\n",
    "    def __init__(self, _id, mts2, valor, num_dorms, num_banos):\n",
    "        self._id = _id  # usamos \"_id\" porque \"id\" es una keyword de python\n",
    "        self.mts2 = mts2\n",
    "        self.valor = valor\n",
    "        self.num_dorms = num_dorms\n",
    "        self.num_banos = num_banos\n",
    "        self.vendido = False\n",
    "\n",
    "    def vender(self):\n",
    "        if not self.vendido:\n",
    "            self.vendido = True\n",
    "        else:\n",
    "            print(f\"Departamento {self._id} ya se vendió\")"
   ]
  },
  {
   "cell_type": "markdown",
   "metadata": {},
   "source": [
    "El siguiente código utiliza la clase que acabamos de definir. Primero creamos un nuevo objeto `depto` de la clase `Departamento` y asignamos valores a algunos de sus atributos, de acuerdo al inicializador (`__init__`) de la clase. Sobre este objeto, accedemos a su atributo `vendido`, y utilizamos su método `vender`."
   ]
  },
  {
   "cell_type": "code",
   "execution_count": null,
   "metadata": {},
   "outputs": [
    {
     "name": "stdout",
     "output_type": "stream",
     "text": [
      "¿El departamento está vendido? False\n",
      "¿El departamento está vendido? True\n",
      "Departamento 1 ya se vendió\n"
     ]
    }
   ],
   "source": [
    "# La notación argumento=valor en el llamado a un método (en este caso, a __init__),\n",
    "# permite indicar explícitamente el argumento al que nos referimos.\n",
    "# Incluso podríamos cambiar el orden en que los entregamos.\n",
    "\n",
    "depto = Departamento(_id=1, mts2=100, valor=5000, num_dorms=3, num_banos=2)\n",
    "print(f\"¿El departamento está vendido? {depto.vendido}\")\n",
    "depto.vender()\n",
    "print(f\"¿El departamento está vendido? {depto.vendido}\")\n",
    "depto.vender()"
   ]
  },
  {
   "cell_type": "markdown",
   "metadata": {},
   "source": [
    "## Atributos de cualquier tipo\n",
    "\n",
    "Los atributos de una clase en realidad pueden ser de cualquier tipo, ¡incluso uno creado por nosotros mismos!\n",
    "\n",
    "Consideremos la siguiente clase `Libro`:"
   ]
  },
  {
   "cell_type": "code",
   "execution_count": null,
   "metadata": {},
   "outputs": [
    {
     "name": "stdout",
     "output_type": "stream",
     "text": [
      "Harry Potter y la piedra filosofal fue escrito el 1997 por JK Rowling\n",
      "El principito fue escrito el 1943 por Antoine de Saint-Exupéry\n"
     ]
    }
   ],
   "source": [
    "class Libro:\n",
    "    def __init__(self, titulo, autor, año):\n",
    "        self.titulo = titulo\n",
    "        self.autor = autor\n",
    "        self.año = año\n",
    "      \n",
    "    def __str__(self):\n",
    "        return f\"{self.titulo} fue escrito el {self.año} por {self.autor}\"  \n",
    "    \n",
    "    \n",
    "l1 = Libro(\"Harry Potter y la piedra filosofal\", \"JK Rowling\", 1997)\n",
    "l2 = Libro(\"El ingenioso hidalgo don Quijote de la Mancha\", \"Miguel de Cervantes\", 1605)\n",
    "l3 = Libro(\"El principito\", \"Antoine de Saint-Exupéry\",1943)\n",
    "l4 = Libro(\"Harry Potter y el cáliz de fuego\", \"JK Rowling\", 2000)\n",
    "l5 = Libro(\"Harry Potter y el príncipe mestizo\", \"JK Rowling\", 2005)\n",
    "\n",
    "print(l1)\n",
    "print(l3)"
   ]
  },
  {
   "cell_type": "markdown",
   "metadata": {},
   "source": [
    "Ahora consideremos la clase `Biblioteca`, que uno de sus atributos es una lista con los libros que tiene"
   ]
  },
  {
   "cell_type": "code",
   "execution_count": null,
   "metadata": {},
   "outputs": [
    {
     "name": "stdout",
     "output_type": "stream",
     "text": [
      "Harry Potter y la piedra filosofal fue escrito el 1997 por JK Rowling\n",
      "Harry Potter y el cáliz de fuego fue escrito el 2000 por JK Rowling\n",
      "Harry Potter y el príncipe mestizo fue escrito el 2005 por JK Rowling\n"
     ]
    }
   ],
   "source": [
    "class Biblioteca:\n",
    "    def __init__(self, nombre):\n",
    "        self.nombre = nombre\n",
    "        self.libros = []\n",
    "    \n",
    "    def agregar_libro(self, libro):\n",
    "        self.libros.append(libro)\n",
    "        \n",
    "    def buscar_libros(self, autor):\n",
    "        lista_a_retornar = [libro for libro in self.libros if libro.autor == autor]\n",
    "        return lista_a_retornar\n",
    "    \n",
    "b = Biblioteca(\"Providencia\")\n",
    "b.agregar_libro(l1)\n",
    "b.agregar_libro(l2)\n",
    "b.agregar_libro(l3)\n",
    "b.agregar_libro(l4)\n",
    "b.agregar_libro(l5)\n",
    "\n",
    "libros_de_autor = b.buscar_libros(\"JK Rowling\")\n",
    "for l in libros_de_autor:\n",
    "    print(l)"
   ]
  },
  {
   "cell_type": "markdown",
   "metadata": {},
   "source": [
    "Para cerrar esta parte de la sesión, hice a propósito eso de recorrer la lista de instancias. ¿Por qué? Porque uno pensaría que por tener una lista de instancias cuya clase tiene implementado el `__str__` haría que se imprima una lista de los _str_ esperados, pero no: "
   ]
  },
  {
   "cell_type": "code",
   "execution_count": null,
   "metadata": {},
   "outputs": [
    {
     "name": "stdout",
     "output_type": "stream",
     "text": [
      "[<__main__.Libro object at 0x000001D435B229D0>, <__main__.Libro object at 0x000001D434679810>, <__main__.Libro object at 0x000001D435B5B310>]\n"
     ]
    }
   ],
   "source": [
    "print(libros_de_autor)"
   ]
  },
  {
   "cell_type": "markdown",
   "metadata": {},
   "source": [
    "Esto ocurre porque la clase `Libro` no tiene el método `__repr__`, y fue la lista la que se convirtió a _str_ y no su contenido. Su contenido está mostrándose como contenido de una lista (estoy imprimiendo directamente la lista), por lo que Python asume que estábamos mostrando la depuración (contenido literal para poder _debuggear_) de la lista. Si se hubiese programado un `__repr__` que muestre mejor el contenido \"informal\", habríamos estado listos. "
   ]
  },
  {
   "cell_type": "code",
   "execution_count": null,
   "metadata": {},
   "outputs": [
    {
     "name": "stdout",
     "output_type": "stream",
     "text": [
      "[Harry Potter y la piedra filosofal fue escrito el 1997 por JK Rowling, Harry Potter y el cáliz de fuego fue escrito el 2000 por JK Rowling, Harry Potter y el príncipe mestizo fue escrito el 2005 por JK Rowling]\n"
     ]
    }
   ],
   "source": [
    "class LibroConRepr:\n",
    "    def __init__(self, nombre, autor, año):\n",
    "        self.nombre = nombre\n",
    "        self.autor = autor\n",
    "        self.año = año\n",
    "        \n",
    "    def __repr__(self):\n",
    "        return str(self)\n",
    "\n",
    "    def __str__(self):\n",
    "        return f\"{self.nombre} fue escrito el {self.año} por {self.autor}\"\n",
    "\n",
    "    \n",
    "l1_2 = LibroConRepr(\"Harry Potter y la piedra filosofal\", \"JK Rowling\", 1997)\n",
    "l2_2 = LibroConRepr(\"El ingenioso hidalgo don Quijote de la Mancha\", \"Miguel de Cervantes\", 1605)\n",
    "l3_2 = LibroConRepr(\"El principito\", \"Antoine de Saint-Exupéry\",1943)\n",
    "l4_2 = LibroConRepr(\"Harry Potter y el cáliz de fuego\", \"JK Rowling\", 2000)\n",
    "l5_2 = LibroConRepr(\"Harry Potter y el príncipe mestizo\", \"JK Rowling\", 2005)\n",
    "\n",
    "b_2 = Biblioteca(\"Ñuñoa\")  # Es otra biblioteca, que tendrá instancias de LibroConRepr\n",
    "b_2.agregar_libro(l1_2)\n",
    "b_2.agregar_libro(l2_2)\n",
    "b_2.agregar_libro(l3_2)\n",
    "b_2.agregar_libro(l4_2)\n",
    "b_2.agregar_libro(l5_2)\n",
    "\n",
    "libros_de_autor = b_2.buscar_libros(\"JK Rowling\")\n",
    "print(libros_de_autor)\n"
   ]
  }
 ],
 "metadata": {
  "kernelspec": {
   "display_name": "Python 3",
   "language": "python",
   "name": "python3"
  },
  "language_info": {
   "codemirror_mode": {
    "name": "ipython",
    "version": 3
   },
   "file_extension": ".py",
   "mimetype": "text/x-python",
   "name": "python",
   "nbconvert_exporter": "python",
   "pygments_lexer": "ipython3",
   "version": "3.11.2"
  },
  "orig_nbformat": 4,
  "vscode": {
   "interpreter": {
    "hash": "9a332da503d34353b4a88734c9c417394c5073dd13f9e5d25ac34ee4ac9b6e5a"
   }
  }
 },
 "nbformat": 4,
 "nbformat_minor": 2
}
