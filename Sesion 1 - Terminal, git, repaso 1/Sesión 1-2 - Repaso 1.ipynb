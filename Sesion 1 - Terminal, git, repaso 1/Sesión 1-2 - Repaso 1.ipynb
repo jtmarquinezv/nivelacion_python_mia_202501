{
 "cells": [
  {
   "cell_type": "markdown",
   "metadata": {},
   "source": [
    "# Sesión 1, Parte 2\n",
    "\n",
    "En esta sesión repasaremos conceptos que nos permitirán trabajar un poco mejor con Python y desempolvar conocimientos. Es un picoteo muy \"pinceleado\" de todo el mundo intermedio/avanzado de Python, pero que nos permitirán trabajar con estructuras de datos de forma más _inteligente_.\n",
    "\n",
    "<p>\n",
    "<font size='1'>Material adaptado del material creado por &copy; 2015 Karim Pichara - Christian Pieringer, todos los derechos reservados; y posteriormente modificado por Equipos Docentes IIC2233 UC.</font>\n",
    "<br>"
   ]
  },
  {
   "cell_type": "markdown",
   "metadata": {},
   "source": [
    "# Tabla de contenidos\n",
    "\n",
    "1. **Funciones**\n",
    "    1. [Funciones _built-in_](#funciones)\n",
    "        1. [`input`](#input)\n",
    "        2. [`int`, `str`, `float`](#int-str-float)\n",
    "        3. [`print`](#print)\n",
    "        4. [`max`, `min`](#max-min)\n",
    "        5. [`sum`](#sum)\n",
    "        6. [`abs`, entre otras](#abs-entre-otras)\n",
    "    2. [Funciones definidas por el programador](#funciones-definidas-por-el-programador)\n",
    "2. **Estructuras de datos**\n",
    "    1. [Estructuras de datos e iterables](#estructuras-de-datos-e-iterables)\n",
    "        1. [Estructuras de datos _built-in_ en Python](#estructuras-de-datos-built-in-en-python)\n",
    "    2. [Estructuras de datos secuenciales](#estructuras-de-datos-secuenciales-e-iterables)\n",
    "        1. [Listas](#listas)\n",
    "        2. [Tuplas](#tuplas)\n",
    "    3. [Estructuras de datos no secuenciales](#estructuras-de-datos-no-secuenciales)\n",
    "        1. [Diccionarios](#diccionarios)\n",
    "        2. [Sets](#sets)"
   ]
  },
  {
   "cell_type": "markdown",
   "metadata": {},
   "source": [
    "# Funciones\n",
    "\n",
    "## Funciones _built-in_\n",
    "\n",
    "Las funciones permiten encapsular código que resuelve una tarea específica. Para ello, puede o no necesitar información adicional (_argumentos_), y dar o no un _valor de retorno_. Existen funciones que vienen con Python y se denominan *built-in functions*. Pueden ver en la [documentación oficial](https://docs.python.org/3.5/library/functions.html) una lista con todas ellas, sin embargo ahora presentaremos algunas de utilidad. Por ejemplo:\n",
    "\n",
    "### `input()`\n",
    "\n",
    "La función `input()` congela el programa a la espera de que el usuario ingrese algún texto. Esta función responde entregando como valor de retorno lo ingresado por el usuario como _str_. Si se le entregan un argumento (_str_), se mostrará en consola el texto argumento antes de congelar el programa.\n",
    "\n",
    "### `int()`, `str()`, `float()`\n",
    "\n",
    "Estas tres funciones cambian el tipo de dato al deseado. Reciben el _argumento_ a ser convertido, y lo retornan en el tipo de dato objetivo.\n",
    "\n",
    "### `print()`\n",
    "\n",
    "Esta función recibe una cantidad indeterminada de argumentos, convierte todos a _str_, los concatena usando como delimitador un espacio (`\" \"`), y el texto resultante lo envía  ala consola.\n",
    "\n",
    "##### Ejemplo 1:\n",
    "\n",
    "Haga un código breve que pida un nombre y una edad al usuario, y muestre en consola un mensaje que indique el nombre de la persona, la edad actual, y su edad en cinco años más."
   ]
  },
  {
   "cell_type": "code",
   "execution_count": null,
   "metadata": {},
   "outputs": [
    {
     "name": "stdout",
     "output_type": "stream",
     "text": [
      "Comienza el programa\n",
      "La persona ingresada Alicia tiene 35 años y en cinco años ctendrá 40\n"
     ]
    }
   ],
   "source": [
    "print(\"Comienza el programa\")\n",
    "nombre = input(\"Ingrese un nombre: \") #Notar que el campo para ingresar texto se genera en la parte superior de la ventana\n",
    "edad = int(input(\"Ingrese una edad: \"))\n",
    "edad_en_5_años = edad + 5\n",
    "print(\"La persona ingresada\",nombre,\"tiene\",edad,\"años y en cinco años tendrá\",edad_en_5_años)"
   ]
  },
  {
   "cell_type": "markdown",
   "metadata": {},
   "source": [
    "### `max()`, `min()`\n",
    "\n",
    "Estas funciones reciben una cantidad indeterminada de argumentos y retornan, respectivamente, el máximo y mínimo valor de entre todos ellos. Puede también recibir un conjunto de valores en una estructura de datos (lo veremos o veremos en la segunda parte de hoy).\n",
    "\n",
    "### `sum()`\n",
    "\n",
    "Esta función recibe una estructura de datos iterable (lo veremos en un rato), y retorna la suma de sus elementos.\n",
    "\n",
    "### `abs()`, entre otras\n",
    "\n",
    "Puedes revisar la documentación de funciones built-in,  para ver más funciones, pero esta última recibe un número y retorna el valor absoluto del número.\n",
    "\n",
    "##### Ejemplo 2:\n",
    "\n",
    "Programe un código que reciba tres valores numéricos del usuario, y calcule el máximo y mínimo entre ellos."
   ]
  },
  {
   "cell_type": "code",
   "execution_count": null,
   "metadata": {},
   "outputs": [
    {
     "name": "stdout",
     "output_type": "stream",
     "text": [
      "Máximo: 60\n",
      "Mínimo: 40\n"
     ]
    }
   ],
   "source": [
    "n1 = int(input(\"Número 1: \"))\n",
    "n2 = int(input(\"Número 2: \"))\n",
    "n3 = int(input(\"Número 3: \"))\n",
    "\n",
    "print(\"Máximo:\", max(n1, n2, n3))\n",
    "print(\"Mínimo:\", min(n1, n2, n3))"
   ]
  },
  {
   "cell_type": "markdown",
   "metadata": {},
   "source": [
    "## Funciones definidas por el programador\n",
    "\n",
    "Aparte de las *built-in functions*, podemos definir nuestras propias funciones para utilizarlas en nuestros programas. Para crear una nueva función utilizamos la _keyword_ `def`, entregamos parámetros y podemos opcionalmente utilizar la _keyword_ `return` para retornar un valor.\n",
    "\n",
    "```Python\n",
    "def nombre_funcion(parametro_1, parametro_2, ..., parametro_n):\n",
    "    bloque_de_codigo_de_la_funcion\n",
    "    ...\n",
    "    bloque_de_codigo_de_la_funcion\n",
    "    return valor_de_retorno1, valor_de_retorno2...\n",
    "```"
   ]
  },
  {
   "cell_type": "code",
   "execution_count": null,
   "metadata": {},
   "outputs": [],
   "source": [
    "def sumar(n1, n2):\n",
    "    suma = n1 + n2\n",
    "    return suma"
   ]
  },
  {
   "cell_type": "markdown",
   "metadata": {},
   "source": [
    "Para utilizar la función debemos llamarla, y de retornar un valor debemos (podemos) almacenar este en una variable.\n",
    "```python\n",
    "salida = nombre_funcion(entrada_1, entrada_2, ..., entrada_n)\n",
    "```\n",
    "Las funciones pueden recibir 0 o más parámetros y retornar 0 o más valores. Lo habitual es retornar 1 valor. Cuando se alcanza el primer `return`, la función termina."
   ]
  },
  {
   "cell_type": "code",
   "execution_count": null,
   "metadata": {},
   "outputs": [
    {
     "name": "stdout",
     "output_type": "stream",
     "text": [
      "30\n",
      "Hola mundo!\n"
     ]
    }
   ],
   "source": [
    "s = sumar(10,20)\n",
    "print(s)\n",
    "\n",
    "t = sumar(\"Hola \", \"mundo!\")\n",
    "print(t)"
   ]
  },
  {
   "cell_type": "markdown",
   "metadata": {},
   "source": [
    "# Estructuras de datos e iterables\n",
    "<a id=\"estructuras-de-datos-e-iterables\"></a>"
   ]
  },
  {
   "cell_type": "markdown",
   "metadata": {},
   "source": [
    "En los modelos tradicionales de programación, estamos permanentemente manipulando datos. Es por esto que para facilitar esta manipulación, se han creado construcciones que permiten **agrupar y manipular** eficientemente conjuntos de datos.\n",
    "\n",
    "En Ciencia de la Computación, estas construcciones se conocen como **estructuras de datos** y consisten de una manera de agrupar datos relacionados, junto con un conjunto de **operaciones para accederlos y modificarlos de manera eficiente**. La mayoría de los lenguajes de programación incluyen soporte para algunas estructuras de datos predefinidas (*built-in*) y también permiten definir estructuras nuevas."
   ]
  },
  {
   "cell_type": "markdown",
   "metadata": {},
   "source": [
    "A diferencia de las variables simples o \"primitivas\" como los enteros, o los reales, las estructuras de datos involucran un mayor nivel de *abstracción*. Ahora estudiaremos el modelo conceptual de algunas estructuras de datos típicas utilizadas en ciencia de la computación, así como también su implementación en Python. \n",
    "\n",
    "La decisión de \"qué estructura de datos utilizar\" dependerá tanto del contexto de la aplicación en que se desea usar, como también de su diseño y *eficiencia* esperada. La idea es aprender que la elección adecuada de una estructura de datos para cada situación es crucial para desarrollar un *software* eficiente."
   ]
  },
  {
   "cell_type": "markdown",
   "metadata": {},
   "source": [
    "<a id=\"estructuras-de-datos-built-in-en-python\"></a>\n",
    "## Estructuras de datos *built-in* en Python"
   ]
  },
  {
   "cell_type": "markdown",
   "metadata": {},
   "source": [
    "Python posee varias estructuras de datos ya implementadas (*built-in*) para el manejo eficiente de datos. A continuación estudiaremos las más básicas de ellas.\n",
    "\n",
    "Veremos estructuras **secuenciales**, que **mantienen un orden entre sus elementos**:\n",
    "* **lista** (*list*)\n",
    "* **tuplas** (*tuples*)\n",
    "\n",
    "y también veremos estructuras que **no mantienen un orden establecido**, pero que tienen mejores propiedades para otras acciones:\n",
    "\n",
    "* **diccionarios** (*dictionaries*)\n",
    "* **conjuntos** (*sets*)"
   ]
  },
  {
   "cell_type": "markdown",
   "metadata": {},
   "source": [
    "## Estructuras de datos secuenciales (e iterables)"
   ]
  },
  {
   "cell_type": "markdown",
   "metadata": {},
   "source": [
    "En esta sección estudiaremos estructuras basadas en un **ordenamiento secuencial** de los elementos, según como son ingresados en la estructura. Todas las estructuras de este tipo se caracterizan porque soportan **indexación de los elementos** de la forma `secuencia[índice]`, donde el `índice` **empieza en 0** y llega hasta el **largo de la secuencia - 1**. \n",
    "\n",
    "![](img/indices_secuencia.png)\n",
    "\n",
    "Comencemos con `list`."
   ]
  },
  {
   "cell_type": "markdown",
   "metadata": {},
   "source": [
    "<a id=\"listas\"></a>\n",
    "### Listas"
   ]
  },
  {
   "cell_type": "markdown",
   "metadata": {},
   "source": [
    "Las **listas** (`list`) se utilizan para manejar datos de forma **ordenada** y **mutable**. Los contenidos pueden ser accedidos utilizando el índice correspondiente al orden en que se encuentran en la lista. El *orden* de los elementos de una lista, y *los elementos mismos* pueden cambiar mediante métodos que manipulan la lista.\n",
    "\n",
    "Las listas también pueden ser heterogéneas, lo que significa que pueden contener objetos pertenecientes a clases o tipos de datos distintos, incluyendo otras listas. Si bien no existe ninguna restricción de Python sobre los tipos de datos de las listas, estas tienen una relación estrecha con los **arreglos** disponibles en otros lenguajes de programación, por lo que, dado que los arreglos suelen tener estas restricciones, es más común ver listas con tipos de datos homogéneos que heterogéneos.\n",
    "\n",
    "En una lista, los elementos que se agregan usando `append` se ponen al final de la lista.\n",
    "\n",
    "Podemos crear listas de las siguientes maneras:"
   ]
  },
  {
   "cell_type": "code",
   "execution_count": 1,
   "metadata": {},
   "outputs": [
    {
     "name": "stdout",
     "output_type": "stream",
     "text": [
      "[2015, 2016]\n",
      "2\n",
      "[1, 'string', 20.5, [False, True], 'último elemento']\n",
      "string\n",
      "5\n"
     ]
    }
   ],
   "source": [
    "# Creamos una lista vacía y agregamos elementos incrementalmente.\n",
    "# En este caso agregamos dos tuplas al final de la lista.\n",
    "lista = list()                # También puede ser con lista=[]\n",
    "lista.append(2015)   # Aquí estamos agregando UN elemento, que es un entero\n",
    "lista.append(2016)   # Luego de esto, la lista contiene 2 elementos que son enteros\n",
    "print(lista)\n",
    "print(len(lista))\n",
    "\n",
    "# También es posible agregar los objetos explícitamente al definirla por primera vez\n",
    "lista = [1, 'string', 20.5, [False,True]]\n",
    "lista.append('último elemento')\n",
    "print(lista)\n",
    "\n",
    "# Extraemos un el elemento usando el índice respectivo\n",
    "print(lista[1])\n",
    "print(len(lista))"
   ]
  },
  {
   "cell_type": "markdown",
   "metadata": {},
   "source": [
    "A veces es necesario insertar elementos nuevos en posiciones específicas en una lista. Para ello, podemos usar el método `insert(posición, elemento)`."
   ]
  },
  {
   "cell_type": "code",
   "execution_count": 2,
   "metadata": {},
   "outputs": [
    {
     "name": "stdout",
     "output_type": "stream",
     "text": [
      "['Radiohead', 'City and Colour', 'toe', 'Young the Giant', 'Portugal. The Man', 'Twenty One Pilots']\n",
      "['Radiohead', 'City and Colour', 'Of Monsters and Men', 'toe', 'Young the Giant', 'Portugal. The Man', 'Twenty One Pilots']\n"
     ]
    }
   ],
   "source": [
    "bandas = ['Radiohead', 'City and Colour', 'toe', 'Young the Giant', 'Portugal. The Man', 'Twenty One Pilots']\n",
    "\n",
    "print(bandas)\n",
    "bandas.insert(2, 'Of Monsters and Men')\n",
    "print(bandas)"
   ]
  },
  {
   "cell_type": "markdown",
   "metadata": {},
   "source": [
    "#### Listas por comprensión"
   ]
  },
  {
   "cell_type": "markdown",
   "metadata": {},
   "source": [
    "Desde el punto de vista de la lógica, la definición de comprensión es:  \"Conjunto de caracteres que forman un concepto\". Así mismo, las listas por comprensión se pueden ver como listas formadas por un conjunto de objetos que cumplen con un concepto o condición en particular. En Python, podemos crear **listas por comprensión**. Esta es una forma más práctica para crear listas en pocas líneas de código.\n",
    "\n",
    "Por ejemplo, ya tenemos la lista `bandas`, pero ahora queremos construir una lista con el largo de cada uno de los elementos. Una forma de hacerlo sería la siguiente:"
   ]
  },
  {
   "cell_type": "code",
   "execution_count": null,
   "metadata": {},
   "outputs": [
    {
     "name": "stdout",
     "output_type": "stream",
     "text": [
      "[9, 15, 19, 3, 15, 17, 17]\n"
     ]
    }
   ],
   "source": [
    "largo_de_bandas = []\n",
    "\n",
    "for nombre in bandas:\n",
    "    largo_de_bandas.append(len(nombre))\n",
    "\n",
    "print(largo_de_bandas)"
   ]
  },
  {
   "cell_type": "markdown",
   "metadata": {},
   "source": [
    "Usando **listas por comprensión**, podemos definir lo mismo de forma más clara y concisa siguiendo la siguiente sintaxis:\n",
    "\n",
    "`nueva_lista = [expresión for elemento in lista]`"
   ]
  },
  {
   "cell_type": "code",
   "execution_count": null,
   "metadata": {},
   "outputs": [
    {
     "name": "stdout",
     "output_type": "stream",
     "text": [
      "[9, 15, 19, 3, 15, 17, 17]\n"
     ]
    }
   ],
   "source": [
    "largo_de_bandas = [len(nombre) for nombre in bandas]\n",
    "\n",
    "print(largo_de_bandas)"
   ]
  },
  {
   "cell_type": "markdown",
   "metadata": {},
   "source": [
    "La sentencia `if` se puede usar dentro de una lista por comprensión para construir la lista incluyendo solamente los elementos que cumplan una cierta condición. En el siguiente ejemplo guardaremos **los nombres de las bandas** que tengan un **largo menor a 10 caracteres**. La sintaxis al usar un `if` en **listas por comprensión** es la siguiente:\n",
    "\n",
    "`nueva_lista = [expresión for elemento in lista if condición]`"
   ]
  },
  {
   "cell_type": "code",
   "execution_count": 3,
   "metadata": {},
   "outputs": [
    {
     "name": "stdout",
     "output_type": "stream",
     "text": [
      "['Radiohead', 'toe']\n"
     ]
    }
   ],
   "source": [
    "bandas_con_nombre_corto = [nombre for nombre in bandas if len(nombre) < 10]\n",
    "\n",
    "print(bandas_con_nombre_corto)"
   ]
  },
  {
   "cell_type": "markdown",
   "metadata": {},
   "source": [
    "El código anterior es equivalente a hacer lo siguiente:"
   ]
  },
  {
   "cell_type": "code",
   "execution_count": 4,
   "metadata": {},
   "outputs": [
    {
     "name": "stdout",
     "output_type": "stream",
     "text": [
      "['Radiohead', 'toe']\n"
     ]
    }
   ],
   "source": [
    "bandas_con_nombre_corto = []\n",
    "for nombre in bandas:\n",
    "    if len(nombre) < 10:\n",
    "        bandas_con_nombre_corto.append(nombre)\n",
    "\n",
    "print(bandas_con_nombre_corto)"
   ]
  },
  {
   "cell_type": "markdown",
   "metadata": {},
   "source": [
    "#### *Slicing* de listas"
   ]
  },
  {
   "cell_type": "markdown",
   "metadata": {},
   "source": [
    "Es posible tomar secciones de la lista usando la notación de ***slicing***. En esta notación, los índices indican *desde dónde* y *hasta dónde* deseamos recuperar datos de la lista. La sintaxis de la notación de *slicing* es:\n",
    "\n",
    "`secuencia[inicio:término:pasos]`\n",
    "\n",
    "Por defecto, el número de pasos es 1. La siguiente figura muestra un ejemplo de cómo se deben considerar los índices al usar la notación de *slicing*. \n",
    "\n",
    "![](data/indices_slicing.png)\n",
    "\n",
    "Forma general de hacer *slicing* en Python:\n",
    "\n",
    "- `a[start:end]`: retorna los elementos desde `start` hasta `end - 1`.\n",
    "\n",
    "- `a[start:]`: retorna los elementos desde `start` hasta el final del arreglo.\n",
    "\n",
    "- `a[:end]`: retorna los elementos desde el principio hasta `end - 1`.\n",
    "\n",
    "- `a[:]`: crea una copia (*shallow*) del arreglo completo. Es decir, el arreglo retornado está en una nueva dirección de memoria, pero los elementos que están en este nuevo arreglo, hacen referencia a la dirección de memoria de los elementos del arreglo inicial.\n",
    "\n",
    "- `a[start:end:step]`: retorna los elementos desde `start` hasta no pasar `end`, en pasos de a `step`.\n",
    "\n",
    "- `a[-1]`: retorna el último elemento en el arreglo.\n",
    "\n",
    "- `a[-n:]`: retorna los últimos `n` elementos en el arreglo.\n",
    "\n",
    "- `a[:-n]`: retorna todos los elementos del arreglo menos los últimos `n` elementos.\n",
    "\n",
    "Podemos extraer un elemento específico desde una lista mediante indexación. Es posible recuperar una porción completa de la lista utilizando la notación de *slicing*."
   ]
  },
  {
   "cell_type": "code",
   "execution_count": null,
   "metadata": {},
   "outputs": [
    {
     "name": "stdout",
     "output_type": "stream",
     "text": [
      "[2, 4, 10, 20]\n",
      "[2, 4, 10, 20, 25]\n",
      "[6, 7, 2, 4, 10]\n",
      "[6, 2, 10]\n",
      "[25, 20, 10, 4, 2, 7, 6]\n"
     ]
    }
   ],
   "source": [
    "# Tomando una tajada particular, en este caso desde la posición 2 hasta la anterior a 6\n",
    "numeros = [6, 7, 2, 4, 10, 20, 25]\n",
    "print(numeros[2:6])\n",
    "\n",
    "# tomando una sección desde la posición 2 hasta el final de la lista\n",
    "print(numeros[2:])\n",
    "\n",
    "# tomando una sección desde el principio hasta la posición anterior a 5\n",
    "print(numeros[:5:])\n",
    "\n",
    "# lo mismo anterior, pero saltando 2 posiciones a la vez\n",
    "print(numeros[:5:2])\n",
    "\n",
    "# invirtiendo una lista\n",
    "print(numeros[::-1])"
   ]
  },
  {
   "cell_type": "markdown",
   "metadata": {},
   "source": [
    "Las listas pueden ser ordenadas utilizando el método `sort()`. Esto ordena las listas en sí mismas (*in-place*) y no devuelve nada, es decir, el resultado no es asignable a una nueva lista."
   ]
  },
  {
   "cell_type": "code",
   "execution_count": null,
   "metadata": {},
   "outputs": [
    {
     "name": "stdout",
     "output_type": "stream",
     "text": [
      "[6, 7, 2, 4, 10, 20, 25]\n",
      "None\n",
      "[2, 4, 6, 7, 10, 20, 25]\n",
      "[25, 20, 10, 7, 6, 4, 2]\n"
     ]
    }
   ],
   "source": [
    "numeros = [6, 7, 2, 4, 10, 20, 25]\n",
    "print(numeros)\n",
    "\n",
    "# Ordenamos en sentido ascendente.\n",
    "# Observar como a no recibe ninguna asignación después de que la lista numeros es ordenada\n",
    "a = numeros.sort() \n",
    "print(a)\n",
    "print(numeros)\n",
    "\n",
    "# Ordenamos en sentido descendente\n",
    "numeros.sort(reverse=True)\n",
    "print(numeros)"
   ]
  },
  {
   "cell_type": "markdown",
   "metadata": {},
   "source": [
    "Las listas han sido optimizadas para ser una estructura flexible y fácil de manejar. También se pueden recorrer con la notación de `for`"
   ]
  },
  {
   "cell_type": "code",
   "execution_count": null,
   "metadata": {},
   "outputs": [
    {
     "name": "stdout",
     "output_type": "stream",
     "text": [
      "tipo de pieza: Alfil    - cantidad: 2\n",
      "tipo de pieza: Peón     - cantidad: 8\n",
      "tipo de pieza: Rey      - cantidad: 1\n",
      "tipo de pieza: Reina    - cantidad: 1\n",
      "tipo de pieza: Caballo  - cantidad: 2\n",
      "tipo de pieza: Torre    - cantidad: 2\n"
     ]
    }
   ],
   "source": [
    "piezas = [[\"Alfil\", 2], [\"Peón\", 8], [\"Rey\", 1], [\"Reina\", 1], [\"Caballo\", 2], [\"Torre\", 2]]\n",
    "\n",
    "# Por cada iteración en el ciclo, la variable pieza recibe un elemento de la lista,\n",
    "# de acuerdo al orden de la lista\n",
    "for pieza in piezas:\n",
    "    # El modificador \":8\" permite que el texto ocupe al menos 8 espacios en la línea\n",
    "    print(f'tipo de pieza: {pieza[0]:8} - cantidad: {pieza[1]}')"
   ]
  },
  {
   "cell_type": "markdown",
   "metadata": {},
   "source": [
    "En este ejemplo, cada elemento de la lista `piezas` es una lista que contiene 2 elementos: primero el tipo de pieza como `str`, y luego la cantidad de ellas como `int`."
   ]
  },
  {
   "cell_type": "markdown",
   "metadata": {},
   "source": [
    "### Tuplas"
   ]
  },
  {
   "cell_type": "markdown",
   "metadata": {},
   "source": [
    "Las **tuplas** (`tuple`) se utilizan para manejar datos de forma **ordenada** e **inmutable**, es decir, no se pueden cambiar los valores que contiene. Para acceder a algún elemento de una tupla, es necesario usar índices correlativos al orden en que los valores fueron agregados.\n",
    "\n",
    "Las tuplas pueden ser heterogéneas, y de hecho es su uso más común, lo que significa que pueden contener objetos pertenecientes a clases o tipos de datos distintos, incluyendo otras tuplas. Una tupla se puede crear de las siguientes maneras:"
   ]
  },
  {
   "cell_type": "code",
   "execution_count": 6,
   "metadata": {},
   "outputs": [
    {
     "name": "stdout",
     "output_type": "stream",
     "text": [
      "<class 'tuple'> ()\n",
      "<class 'tuple'> (0, 1, 2) 0 1\n",
      "<class 'tuple'> (0,)\n",
      "<class 'tuple'> (0, 'uno') 0 uno\n"
     ]
    }
   ],
   "source": [
    "# Usando tuple() sin ingresar elementos, se crea una tupla vacía.\n",
    "a = tuple()\n",
    "\n",
    "# Declarando explícitamente los elementos de la tupla,\n",
    "# ingresándolos entre paréntesis.\n",
    "b = (0, 1, 2)\n",
    "\n",
    "# Cuando creamos una tupla de tamaño 1, debemos incluir una coma al final.\n",
    "c = (0, )\n",
    "\n",
    "# Pueden ser creadas con objetos de distinto tipo.\n",
    "# Al momento de la creación se pueden omitir los paréntesis.\n",
    "d = 0, 'uno'\n",
    "\n",
    "print(type(a), a)\n",
    "print(type(b), b, b[0], b[1])\n",
    "print(type(c), c)\n",
    "print(type(d), d, d[0], d[1])"
   ]
  },
  {
   "cell_type": "markdown",
   "metadata": {},
   "source": [
    "Las tuplas son estructuras de datos **inmutables**. Esto significa que **no es posible agregar o eliminar elementos**, o bien cambiar el contenido de la tupla una vez que ésta fue creada.\n",
    "\n",
    "En el siguiente ejemplo, la posición 2 de la tupla `a` contiene originalmente un `float`. Si intentamos reemplazar el contenido de esta posición por un *string* (o cualquier otro valor), se genera un *error de tipo* (`TypeError`), debido a que los objetos de la clase `tuple` *no permiten asignación*."
   ]
  },
  {
   "cell_type": "code",
   "execution_count": null,
   "metadata": {},
   "outputs": [
    {
     "ename": "TypeError",
     "evalue": "'tuple' object does not support item assignment",
     "output_type": "error",
     "traceback": [
      "\u001b[0;31m---------------------------------------------------------------------------\u001b[0m\n",
      "\u001b[0;31mTypeError\u001b[0m                                 Traceback (most recent call last)\n",
      "Cell \u001b[0;32mIn[2], line 2\u001b[0m\n",
      "\u001b[1;32m      1\u001b[0m a \u001b[38;5;241m=\u001b[39m (\u001b[38;5;124m'\u001b[39m\u001b[38;5;124mChile\u001b[39m\u001b[38;5;124m'\u001b[39m, \u001b[38;5;241m2\u001b[39m, \u001b[38;5;241m4.15\u001b[39m, \u001b[38;5;124m'\u001b[39m\u001b[38;5;124mAgosto\u001b[39m\u001b[38;5;124m'\u001b[39m)\n",
      "\u001b[0;32m----> 2\u001b[0m \u001b[43ma\u001b[49m\u001b[43m[\u001b[49m\u001b[38;5;241;43m2\u001b[39;49m\u001b[43m]\u001b[49m \u001b[38;5;241m=\u001b[39m \u001b[38;5;124m'\u001b[39m\u001b[38;5;124msemestre\u001b[39m\u001b[38;5;124m'\u001b[39m\n",
      "\n",
      "\u001b[0;31mTypeError\u001b[0m: 'tuple' object does not support item assignment"
     ]
    }
   ],
   "source": [
    "a = ('Chile', 2, 4.15, 'Agosto')\n",
    "a[2] = 'semestre'"
   ]
  },
  {
   "cell_type": "markdown",
   "metadata": {},
   "source": [
    "Sin embargo, sí es posible modificar algún valor contenido *dentro* de un elemento de la tupla, siempre que el tipo de datos lo permita. En el siguiente caso **no** estamos modificando el objeto `tuple`, sino un valor interno (la posición 0) de la lista que está en la posición 3 de la tupla `meses`."
   ]
  },
  {
   "cell_type": "code",
   "execution_count": null,
   "metadata": {},
   "outputs": [
    {
     "name": "stdout",
     "output_type": "stream",
     "text": [
      "(2023, 'semestre', 2, ['Ene', 'Sep', 'Oct', 'Nov', 'Dic'])\n"
     ]
    }
   ],
   "source": [
    "meses = (2023, \"semestre\", 2, ['Ago', 'Sep', 'Oct', 'Nov', 'Dic'])\n",
    "\n",
    "meses[3][0] = 'Ene'\n",
    "print(meses)"
   ]
  },
  {
   "cell_type": "markdown",
   "metadata": {},
   "source": [
    "#### Desempaquetamiento de elementos\n",
    "\n",
    "Las tuplas pueden ser **desempaquetadas** en variables individuales. En el siguiente ejemplo creamos una función llamada `calcular_geometria()`, que recibe como entrada los lados de un cuadrilátero y retorna algunas medidas geométricas. Cuando las funciones retornan más de un valor, lo hacen empaquetando todos los valores en una tupla. Esto es simplemente un [truco](https://en.wikipedia.org/wiki/Syntactic_sugar) de Python, replicable en otros lenguajes, para aparentar que se entregan múltiples valores de retorno."
   ]
  },
  {
   "cell_type": "code",
   "execution_count": null,
   "metadata": {},
   "outputs": [
    {
     "name": "stdout",
     "output_type": "stream",
     "text": [
      "1: (200.0, 60.0, 10.0, 5.0)\n",
      "<class 'tuple'>\n",
      "2: 60.0\n",
      "3: 200.0, 60.0, 10.0, 5.0\n",
      "4: 200.0, 60.0, 10.0, 5.0\n"
     ]
    }
   ],
   "source": [
    "def calcular_geometria(a, b):\n",
    "    area = a * b\n",
    "    perimetro = (2 * a) + (2 * b)\n",
    "    punto_medio_a = a / 2\n",
    "    punto_medio_b = b / 2\n",
    "    # Los paréntesis son opcionales, ya que estamos creando una tupla\n",
    "    return (area, perimetro, punto_medio_a, punto_medio_b)\n",
    "\n",
    "\n",
    "# Obtenemos una tupla con los datos provenientes de la función.\n",
    "data = calcular_geometria(20.0, 10.0)\n",
    "print(f\"1: {data}\")\n",
    "\n",
    "# El tipo de dato obtenido es 'tuple'\n",
    "print(type(data))\n",
    "\n",
    "# Obtenemos un valor desde la tupla directamente usando su índice\n",
    "p = data[1]\n",
    "print(f\"2: {p}\")\n",
    "\n",
    "# Desempaquetamos en variables independientes\n",
    "# los valores contenidos en una tupla\n",
    "a, p, mpa, mpb = data\n",
    "print(f\"3: {a}, {p}, {mpa}, {mpb}\")\n",
    "\n",
    "# Las funciones devuelven el conjunto de valores\n",
    "# como una tupla. Se puede desempaquetar directamente\n",
    "# en variables individuales como en el caso anterior.\n",
    "a, p, mpa, mpb = calcular_geometria(20.0, 10.0)\n",
    "print(f\"4: {a}, {p}, {mpa}, {mpb}\")"
   ]
  },
  {
   "cell_type": "markdown",
   "metadata": {},
   "source": [
    "#### *Slicing* de tuplas\n",
    "\n",
    "Es posible tomar secciones de la tupla usando la notación de ***slicing***. En esta notación, los índices indican *desde dónde* y *hasta dónde* deseamos recuperar datos de la tupla. La sintaxis de la notación de *slicing* es:\n",
    "\n",
    "`secuencia[inicio:término:pasos]`\n",
    "\n",
    "Por defecto, el número de pasos es 1. La siguiente figura muestra un ejemplo de cómo se deben considerar los índices al usar la notación de *slicing*. \n",
    "\n",
    "![](img/indices_slicing.png)"
   ]
  },
  {
   "cell_type": "markdown",
   "metadata": {},
   "source": [
    "Forma general de hacer *slicing* en Python:\n",
    "\n",
    "- `a[start:end]`: retorna los elementos desde `start` hasta `end - 1`.\n",
    "\n",
    "- `a[start:]`: retorna los elementos desde `start` hasta el final del arreglo.\n",
    "\n",
    "- `a[:end]`: retorna los elementos desde el principio hasta `end - 1`.\n",
    "\n",
    "- `a[:]`: crea una copia (*shallow*) del arreglo completo. Es decir, el arreglo retornado está en una nueva dirección de memoria, pero los elementos que están en este nuevo arreglo, hacen referencia a la dirección de memoria de los elementos del arreglo inicial.\n",
    "\n",
    "- `a[start:end:step]`: retorna los elementos desde `start` hasta no pasar `end`, en pasos de a `step`.\n",
    "\n",
    "- `a[-1]`: retorna el último elemento en el arreglo.\n",
    "\n",
    "- `a[-n:]`: retorna los últimos `n` elementos en el arreglo.\n",
    "\n",
    "- `a[:-n]`: retorna todos los elementos del arreglo menos los últimos `n` elementos.\n",
    "\n",
    "Veamos algunos ejemplos de *slicing* aplicado a tuplas."
   ]
  },
  {
   "cell_type": "code",
   "execution_count": null,
   "metadata": {},
   "outputs": [
    {
     "name": "stdout",
     "output_type": "stream",
     "text": [
      "data: (400, 20, 1, 4, 10, 11, 12, 500)\n",
      "1. data[1:3]: (20, 1)\n",
      "2. data[3:]: (4, 10, 11, 12, 500)\n",
      "3. data[:5]: (400, 20, 1, 4, 10)\n",
      "4. data[2::2]: (1, 10, 12)\n",
      "5. data[1:6:2]: (20, 4, 11)\n",
      "6. data[::-1]: (500, 12, 11, 10, 4, 1, 20, 400)\n"
     ]
    }
   ],
   "source": [
    "# Usando los valores asignados en a, podemos obtener los valores de una sección de la tupla.\n",
    "data = (400, 20, 1, 4, 10, 11, 12, 500)\n",
    "print(f'data: {data}')\n",
    "\n",
    "# 1. Recuperamos los elementos que están entre los índices 1 y 3\n",
    "a = data[1:3]\n",
    "print(f'1. data[1:3]: {a}')\n",
    "\n",
    "# 2. Recuperamos desde el índice 3 en adelante\n",
    "a = data[3:]\n",
    "print(f'2. data[3:]: {a}')\n",
    "\n",
    "# 3. Recuperamos los valores hasta el índice 5\n",
    "a = data[:5]\n",
    "print(f'3. data[:5]: {a}')\n",
    "\n",
    "# 4. Recuperamos desde el índice 2 en adelante respecto del slice en pasos de a dos\n",
    "a = data[2::2]\n",
    "print(f'4. data[2::2]: {a}')\n",
    "\n",
    "# 5. Recuperamos entre los índices 1 y 4, en pasos de a dos\n",
    "a = data[1:6:2]\n",
    "print(f'5. data[1:6:2]: {a}')\n",
    "\n",
    "# 6. Una secuencia puede ser fácilmente invertida\n",
    "a = data[::-1]\n",
    "print(f'6. data[::-1]: {a}')"
   ]
  },
  {
   "cell_type": "markdown",
   "metadata": {},
   "source": [
    "## Estructuras de datos no secuenciales\n",
    "\n",
    "Las estructuras no secuenciales permiten almacenar datos, pero sin establecer necesariamente un orden fijo de acceso a ellos. Esto impide que se pueda acceder a los datos usando indexación, sin embargo, esto se compensa al proveer métodos muy eficientes para **búsqueda** de datos. Las dos estructuras secuenciales que revisaremos son los diccionarios y los conjuntos (*sets*)."
   ]
  },
  {
   "cell_type": "markdown",
   "metadata": {},
   "source": [
    "### Diccionarios\n",
    "\n",
    "Imaginemos que estamos escribiendo un programa para manejar dinero, y necesitamos saber qué moneda usa el usuario dado el país en que se encuentra. Una posible solución es escribir una función que reciba el nombre del país y que en una trama de `if - elif - else` retorne la moneda correspondiente:"
   ]
  },
  {
   "cell_type": "code",
   "execution_count": null,
   "metadata": {},
   "outputs": [],
   "source": [
    "def get_moneda(pais):\n",
    "    if pais == \"Chile\":\n",
    "        return \"Peso\"\n",
    "    elif pais == \"Perú\":\n",
    "        return \"Soles\"\n",
    "    elif pais == \"España\" or pais == \"Holanda\":\n",
    "        return \"Euro\"\n",
    "    elif pais == \"Brasil\":\n",
    "        return \"Real\""
   ]
  },
  {
   "cell_type": "markdown",
   "metadata": {},
   "source": [
    "No obstante, esta solución es larga, tediosa de escribir, y muy difícil de mantener. Tampoco nos permite extender o actualizar la información en tiempo de ejecución, con datos que podemos leer desde un archivo o desde un servicio web. Si nos fijamos, lo único que estamos haciendo es asociar un valor que conocemos de antemano con otro valor. Esto es un comportamiento muy común de un programa, y es lo que hacen precisamente los **diccionarios**.\n",
    "\n",
    "Un **diccionario** es una estructura de datos no secuencial y **mutable** que permite asociar pares de elementos mediante la relación **llave-valor**. Al diccionario se le consulta por una **llave** y retorna su **valor** asociado. La **llave** y el **valor** (*key-value*) pueden tener distinto tipo en un diccionario. A este tipo de estructura también se le conoce como estructura de \"mapeo\" (*mapping*), porque asocian o *mapean* un valor a otro. Estructuras similares existen en muchos otros lenguajes de programación con otros nombres como \"tablas de hash\" o \"*hash maps*\"."
   ]
  },
  {
   "cell_type": "markdown",
   "metadata": {},
   "source": [
    "En el ejemplo de las monedas, los países serían las llaves por las que consultamos, y los valores serían las distintas monedas.\n",
    "\n",
    "![](img/hash-table.png)"
   ]
  },
  {
   "cell_type": "markdown",
   "metadata": {},
   "source": [
    "#### Diccionarios en Python\n"
   ]
  },
  {
   "cell_type": "markdown",
   "metadata": {},
   "source": [
    "En Python, los diccionarios están implementados por la clase `dict`. La notación para describir un diccionario es mediante llaves (`{}`), y cada par llave-valor se asocia con `:` como muestra el ejemplo:"
   ]
  },
  {
   "cell_type": "code",
   "execution_count": 4,
   "metadata": {},
   "outputs": [],
   "source": [
    "monedas = {\n",
    "    \"Chile\": \"Peso\",\n",
    "    \"Perú\": \"Soles\",\n",
    "    \"España\": \"Euro\", \n",
    "    \"Holanda\": \"Euro\",\n",
    "    \"Brasil\": \"Real\"\n",
    "}"
   ]
  },
  {
   "cell_type": "markdown",
   "metadata": {},
   "source": [
    "Para acceder al valor asociado a una llave se usan los corchetes (`[]`), mediante la instrucción:\n",
    "\n",
    "`diccionario[nombre_llave]`."
   ]
  },
  {
   "cell_type": "code",
   "execution_count": 6,
   "metadata": {},
   "outputs": [
    {
     "name": "stdout",
     "output_type": "stream",
     "text": [
      "Peso\n",
      "Real\n"
     ]
    }
   ],
   "source": [
    "print(monedas[\"Chile\"])\n",
    "print(monedas['Brasil'])"
   ]
  },
  {
   "cell_type": "markdown",
   "metadata": {},
   "source": [
    "Si se intenta consultar por una llave que no existe, obtenemos un error de tipo `KeyError` indicando que no existe una llave asociada a ese valor."
   ]
  },
  {
   "cell_type": "code",
   "execution_count": null,
   "metadata": {},
   "outputs": [
    {
     "ename": "KeyError",
     "evalue": "'Argentina'",
     "output_type": "error",
     "traceback": [
      "\u001b[0;31m---------------------------------------------------------------------------\u001b[0m\n",
      "\u001b[0;31mKeyError\u001b[0m                                  Traceback (most recent call last)\n",
      "Cell \u001b[0;32mIn[4], line 1\u001b[0m\n",
      "\u001b[0;32m----> 1\u001b[0m \u001b[38;5;28mprint\u001b[39m(\u001b[43mmonedas\u001b[49m\u001b[43m[\u001b[49m\u001b[38;5;124;43m\"\u001b[39;49m\u001b[38;5;124;43mArgentina\u001b[39;49m\u001b[38;5;124;43m\"\u001b[39;49m\u001b[43m]\u001b[49m)\n",
      "\n",
      "\u001b[0;31mKeyError\u001b[0m: 'Argentina'"
     ]
    }
   ],
   "source": [
    "print(monedas[\"Argentina\"])"
   ]
  },
  {
   "cell_type": "markdown",
   "metadata": {},
   "source": [
    "Otra manera de acceder al valor asociado a una llave consiste en utilizar el método [`get`](https://docs.python.org/3/library/stdtypes.html#dict.get) que posee la clase diccionario. Este método requiere dos parámetros: la llave buscada y un valor en caso de que la llave no exista."
   ]
  },
  {
   "cell_type": "code",
   "execution_count": null,
   "metadata": {},
   "outputs": [
    {
     "name": "stdout",
     "output_type": "stream",
     "text": [
      "Peso\n",
      "Soles\n",
      "No tiene moneda\n",
      "False\n"
     ]
    }
   ],
   "source": [
    "print(monedas.get('Chile', 'No tiene moneda'))\n",
    "print(monedas.get('Perú', 0))\n",
    "print(monedas.get('Argentina', 'No tiene moneda'))\n",
    "print(monedas.get('Colombia', False))"
   ]
  },
  {
   "cell_type": "markdown",
   "metadata": {},
   "source": [
    "Como los diccionarios son **mutables**, si se asigna un valor a una llave existen dos comportamientos posibles. Si la llave no existe, ésta se crea y se le asigna un valor."
   ]
  },
  {
   "cell_type": "code",
   "execution_count": null,
   "metadata": {},
   "outputs": [
    {
     "name": "stdout",
     "output_type": "stream",
     "text": [
      "{'Chile': 'Peso', 'Perú': 'Soles', 'España': 'Euro', 'Holanda': 'Euro', 'Brasil': 'Real', 'Vaticano': 'Lira'}\n"
     ]
    }
   ],
   "source": [
    "monedas[\"Vaticano\"] = \"Lira\"\n",
    "print(monedas)"
   ]
  },
  {
   "cell_type": "markdown",
   "metadata": {},
   "source": [
    "Si la llave ya existe, se actualiza con el nuevo valor:"
   ]
  },
  {
   "cell_type": "code",
   "execution_count": null,
   "metadata": {},
   "outputs": [
    {
     "name": "stdout",
     "output_type": "stream",
     "text": [
      "{'Chile': 'Peso', 'Perú': 'Soles', 'España': 'Euro', 'Holanda': 'Euro', 'Brasil': 'Real', 'Vaticano': 'Euro'}\n"
     ]
    }
   ],
   "source": [
    "monedas[\"Vaticano\"] = \"Euro\"\n",
    "print(monedas)"
   ]
  },
  {
   "cell_type": "markdown",
   "metadata": {},
   "source": [
    "A diferencia de otros lenguajes como C# o Java, en Python no es necesario que las llaves sean todas del mismo tipo. Tampoco es necesario que los valores sean todos del mismo tipo."
   ]
  },
  {
   "cell_type": "code",
   "execution_count": null,
   "metadata": {},
   "outputs": [
    {
     "data": {
      "text/plain": [
       "{'Chile': 'Peso',\n",
       " 'Perú': 'Soles',\n",
       " 'España': 'Euro',\n",
       " 'Holanda': 'Euro',\n",
       " 'Brasil': 'Real',\n",
       " 'Vaticano': 'Euro',\n",
       " 3.14: ('Peso', 'Dolar')}"
      ]
     },
     "metadata": {},
     "output_type": "display_data"
    }
   ],
   "source": [
    "monedas[3.14] = (\"Peso\", \"Dolar\")\n",
    "monedas"
   ]
  },
  {
   "cell_type": "markdown",
   "metadata": {},
   "source": [
    "Se puede eliminar ítems del diccionario utilizando la sentencia `del` como:\n",
    "\n",
    "`del diccionario[nombre_llave]`."
   ]
  },
  {
   "cell_type": "code",
   "execution_count": null,
   "metadata": {},
   "outputs": [
    {
     "data": {
      "text/plain": [
       "{'Chile': 'Peso',\n",
       " 'Perú': 'Soles',\n",
       " 'España': 'Euro',\n",
       " 'Holanda': 'Euro',\n",
       " 'Brasil': 'Real',\n",
       " 'Vaticano': 'Euro'}"
      ]
     },
     "metadata": {},
     "output_type": "display_data"
    }
   ],
   "source": [
    "del monedas[3.14]\n",
    "monedas"
   ]
  },
  {
   "cell_type": "markdown",
   "metadata": {},
   "source": [
    "Se puede comprobar la existencia de una llave en el diccionario utilizando la sentencia `in`. El comportamiento por defecto al utilizar sentencias sobre el diccionario es operar sobre los valores de las llaves. En el caso de `in`, devuelve `True` si la llave requerida existe dentro de las llaves en el diccionario."
   ]
  },
  {
   "cell_type": "code",
   "execution_count": null,
   "metadata": {},
   "outputs": [
    {
     "name": "stdout",
     "output_type": "stream",
     "text": [
      "True\n",
      "False\n",
      "False\n",
      "False\n"
     ]
    }
   ],
   "source": [
    "print('Chile' in monedas)\n",
    "print('Argentina' in monedas)\n",
    "print('Peso' in monedas)\n",
    "print('Euro' in monedas)"
   ]
  },
  {
   "cell_type": "markdown",
   "metadata": {},
   "source": [
    "#### Eficiencia de diccionarios"
   ]
  },
  {
   "cell_type": "markdown",
   "metadata": {},
   "source": [
    "Dada una llave `llave`, **acceder a su valor asociado `dict[llave]`** es una operación **muy eficiente** que toma tiempo constante, es decir, **no depende de la cantidad de elementos que tenga el diccionario**. En contraste, esta estructura no está diseñada para buscar (en forma eficiente) una llave a partir de su valor, por lo que sería necesario recorrer todas las llaves creadas para encontrarla, como uno haría con una lista convencional, lo cual implica que ese tiempo de búsqueda es **proporcional al tamaño del diccionario**.\n",
    "\n",
    "Esta eficiencia de acceso mediante llaves viene con un costo, no todo objeto puede ser usado como llave de diccionario en Python:"
   ]
  },
  {
   "cell_type": "markdown",
   "metadata": {},
   "source": [
    "##### Llaves permitidas en diccionarios\n",
    "\n",
    "No todo elemento puede ser usado como llave en un diccionario. El primer requisito es que las llaves **deben ser únicas** (no pueden repetirse), de lo contrario podría pasar que dos valores queden asociados a la misma llave. El segundo requisito es que la llave debe ser [*hasheable*](https://docs.python.org/3/glossary.html#term-hashable), o en palabras (quizás demasiado) sencillas, algún *built-ins* de Python que sea **inmutables**, como `int`, `str` o `tuple`. Al contrario, los *built-ins* mutables no son *hasheables*, por lo que tipos como `list` no pueden ser ocupados como llave."
   ]
  },
  {
   "cell_type": "markdown",
   "metadata": {},
   "source": [
    "##### Valores permitidos en diccionarios\n",
    "\n",
    "Para el caso de los valores que puede contener un diccionario, no hay restricciones. Los valores pueden ser mutables o inmutables, *hasheables* o no, e incluso pueden incluir otros diccionarios. Como en Python todo es un objeto, se pueden incluso guardar funciones y clases."
   ]
  },
  {
   "cell_type": "markdown",
   "metadata": {},
   "source": [
    "#### Métodos útiles\n",
    "\n",
    "Tres métodos útiles que existen en los diccionarios son: \n",
    "\n",
    "1. `keys()`: permite obtener una lista con las llaves del diccionario.\n",
    "2. `values()`: permite obtener una lista con los valores del diccionario.\n",
    "3. `items()`: permite obtener una lista con los **pares** que tiene el diccionario. Cada par es una tupla de la forma `(llave, valor)`."
   ]
  },
  {
   "cell_type": "code",
   "execution_count": null,
   "metadata": {},
   "outputs": [
    {
     "name": "stdout",
     "output_type": "stream",
     "text": [
      "dict_keys(['Chile', 'Perú', 'España', 'Holanda', 'Brasil', 'Vaticano'])\n",
      "dict_values(['Peso', 'Soles', 'Euro', 'Euro', 'Real', 'Euro'])\n",
      "dict_items([('Chile', 'Peso'), ('Perú', 'Soles'), ('España', 'Euro'), ('Holanda', 'Euro'), ('Brasil', 'Real'), ('Vaticano', 'Euro')])\n"
     ]
    }
   ],
   "source": [
    "print(monedas.keys()) # una lista con todas las llaves\n",
    "print(monedas.values()) # una lista con todos los valores\n",
    "print(monedas.items()) # una lista con tuplas de pares llave-valor"
   ]
  },
  {
   "cell_type": "markdown",
   "metadata": {},
   "source": [
    "Estos métodos son prácticos y útiles durante la **_iteración_** sobre diccionarios."
   ]
  },
  {
   "cell_type": "code",
   "execution_count": null,
   "metadata": {},
   "outputs": [
    {
     "name": "stdout",
     "output_type": "stream",
     "text": [
      "Las llaves en el diccionario son las siguientes:\n",
      "Chile\n",
      "Perú\n",
      "España\n",
      "Holanda\n",
      "Brasil\n",
      "Vaticano\n"
     ]
    }
   ],
   "source": [
    "print('Las llaves en el diccionario son las siguientes:')\n",
    "\n",
    "for m in monedas.keys():\n",
    "    print(f'{m}')"
   ]
  },
  {
   "cell_type": "code",
   "execution_count": null,
   "metadata": {},
   "outputs": [
    {
     "name": "stdout",
     "output_type": "stream",
     "text": [
      "Las llaves en el diccionario son las siguientes:\n",
      "Chile\n",
      "Perú\n",
      "España\n",
      "Holanda\n",
      "Brasil\n",
      "Vaticano\n"
     ]
    }
   ],
   "source": [
    "## También se puede hacer sin usar .keys().\n",
    "## Si no se especifica nada, se recorren las llaves.\n",
    "\n",
    "print('Las llaves en el diccionario son las siguientes:')\n",
    "\n",
    "for m in monedas:\n",
    "    print(f'{m}')"
   ]
  },
  {
   "cell_type": "code",
   "execution_count": null,
   "metadata": {},
   "outputs": [
    {
     "name": "stdout",
     "output_type": "stream",
     "text": [
      "Los valores en el diccionario:\n",
      "Peso\n",
      "Soles\n",
      "Euro\n",
      "Euro\n",
      "Real\n",
      "Euro\n"
     ]
    }
   ],
   "source": [
    "print('Los valores en el diccionario:')\n",
    "\n",
    "for v in monedas.values():\n",
    "    print(f'{v}')"
   ]
  },
  {
   "cell_type": "code",
   "execution_count": null,
   "metadata": {},
   "outputs": [
    {
     "name": "stdout",
     "output_type": "stream",
     "text": [
      "Los pares en el diccionario:\n",
      "La moneda de Chile es Peso\n",
      "La moneda de Perú es Soles\n",
      "La moneda de España es Euro\n",
      "La moneda de Holanda es Euro\n",
      "La moneda de Brasil es Real\n",
      "La moneda de Vaticano es Euro\n"
     ]
    }
   ],
   "source": [
    "print('Los pares en el diccionario:')\n",
    "\n",
    "for k, v in monedas.items():\n",
    "    print(f'La moneda de {k} es {v}')"
   ]
  },
  {
   "cell_type": "markdown",
   "metadata": {},
   "source": [
    "#### Diccionarios por comprensión\n",
    "\n",
    "De forma similar a otras estructuras, en Python es posible definir diccionarios por comprensión. Esto permite escribir y crear diccionarios a partir de un concepto estructurado. Permite también el uso de filtrado dentro de éste."
   ]
  },
  {
   "cell_type": "code",
   "execution_count": null,
   "metadata": {},
   "outputs": [
    {
     "name": "stdout",
     "output_type": "stream",
     "text": [
      "{'A': 1, 'B': 2, 'C': 3, 'D': 4, 'E': 5, 'F': 6, 'G': 7, 'H': 8, 'I': 9, 'J': 10, 'K': 11, 'L': 12, 'M': 13, 'N': 14, 'O': 15, 'P': 16, 'Q': 17, 'R': 18, 'S': 19, 'T': 20, 'U': 21, 'V': 22, 'W': 23, 'X': 24, 'Y': 25, 'Z': 26}\n",
      "{'A': 1, 'E': 5, 'I': 9, 'O': 15, 'U': 21}\n"
     ]
    }
   ],
   "source": [
    "from string import ascii_lowercase as letras\n",
    "\n",
    "\n",
    "# Diccionario por comprensión\n",
    "numero_por_letra = {letras[i].upper(): i + 1 for i in range(len(letras))}\n",
    "print(numero_por_letra)\n",
    "\n",
    "numero_por_vocales = {\n",
    "    letras[i].upper(): i + 1 for i in range(len(letras))\n",
    "    if letras[i].upper() in \"AEIOU\"\n",
    "}\n",
    "print(numero_por_vocales)"
   ]
  },
  {
   "cell_type": "markdown",
   "metadata": {},
   "source": [
    "##### Ejemplo:\n",
    "\n",
    "Codifique un programa que cuente cuántas veces aparece cada vocal en un *string*."
   ]
  },
  {
   "cell_type": "code",
   "execution_count": 7,
   "metadata": {},
   "outputs": [
    {
     "name": "stdout",
     "output_type": "stream",
     "text": [
      "{'u': 1, 'e': 2, 'a': 3, 'i': 6, 'o': 3}\n"
     ]
    }
   ],
   "source": [
    "msg = 'supercalifragilisticoespialidoso'\n",
    "\n",
    "# Crea un diccionario vacío para contabilizar las letras\n",
    "vocales = dict()\n",
    "\n",
    "for letra in msg:\n",
    "    # Revisa si la letra es una vocal\n",
    "    if letra in 'aeiou':\n",
    "        if letra not in vocales:\n",
    "            vocales[letra] = 0\n",
    "\n",
    "        vocales[letra] += 1  # si ya existe, agrega una cuenta mas\n",
    "\n",
    "print(vocales)"
   ]
  },
  {
   "cell_type": "markdown",
   "metadata": {},
   "source": [
    "### *Sets*\n",
    "\n",
    "Los *sets* (en español, conjuntos) son contenedores **mutables**, **no *hasheables***, y **no ordenados** que no repiten elementos. Tienen un comportamiento similar a los [conjuntos matemáticos](https://es.wikipedia.org/wiki/Conjunto). Los *sets* pueden contener cualquier objeto *hasheable*, los mismos que pueden ser llave en un diccionario. La razón de esto último es que los *sets* también utilizan *tablas de hash* para almacenar los datos.\n",
    "\n",
    "Los *sets* típicamente se utilizan para eliminar duplicados o para revisar si un elemento se encuentra en esta estructura o no, de forma eficiente. **Revisar si un elemento está o no está** toma tiempo constante; es decir, el tiempo que se demora esta operación no depende de cuán grande es el conjunto.\n",
    "\n",
    "En Python, los *sets* son implementados por la clase `set`. Es posible crear un *set* vacío con `set()`."
   ]
  },
  {
   "cell_type": "code",
   "execution_count": null,
   "metadata": {},
   "outputs": [
    {
     "name": "stdout",
     "output_type": "stream",
     "text": [
      "set()\n"
     ]
    }
   ],
   "source": [
    "conjunto_vacío = set()\n",
    "print(conjunto_vacío)"
   ]
  },
  {
   "cell_type": "markdown",
   "metadata": {},
   "source": [
    "Es posible crear un conjunto a partir de una lista de elementos. Notemos que el *set* creado **no tendrá elementos repetidos**, y no necesariamente respetará el orden original de los elementos."
   ]
  },
  {
   "cell_type": "code",
   "execution_count": null,
   "metadata": {},
   "outputs": [
    {
     "name": "stdout",
     "output_type": "stream",
     "text": [
      "{'Sting', 'Dream Theater', 'Daddy Yankee', 'Olivia Newton-John', 'Mon Laferte'}\n"
     ]
    }
   ],
   "source": [
    "lista_artistas = [\"Olivia Newton-John\", \"Daddy Yankee\", \"Sting\", \n",
    "                  \"Dream Theater\", \"Mon Laferte\", \"Sting\"]\n",
    "print(set(lista_artistas))"
   ]
  },
  {
   "cell_type": "markdown",
   "metadata": {},
   "source": [
    "Es importante notar que el músico Sting —que estaba repetido en la lista— queda una única vez al transformarlo a *set*. Podemos también construir un *set* directamente usando llaves `{`, `}`, donde los elementos están separados por coma."
   ]
  },
  {
   "cell_type": "code",
   "execution_count": null,
   "metadata": {},
   "outputs": [
    {
     "name": "stdout",
     "output_type": "stream",
     "text": [
      "{'Dream Theater', 'Daddy Yankee', 'Olivia Newton-John', 'Sting', 'Mon Laferte'}\n"
     ]
    }
   ],
   "source": [
    "conjunto_artistas = {\"Olivia Newton-John\", \"Daddy Yankee\", \"Sting\", \n",
    "                     \"Dream Theater\", \"Mon Laferte\"}\n",
    "print(conjunto_artistas)"
   ]
  },
  {
   "cell_type": "markdown",
   "metadata": {},
   "source": [
    "La notación con llaves no puede ser utilizada para crear un *set* vacío, ya que esa notación se usa para crear un diccionario."
   ]
  },
  {
   "cell_type": "code",
   "execution_count": null,
   "metadata": {},
   "outputs": [
    {
     "name": "stdout",
     "output_type": "stream",
     "text": [
      "<class 'dict'>\n"
     ]
    }
   ],
   "source": [
    "intento_de_conjunto_vacío = {}\n",
    "print(type(intento_de_conjunto_vacío))"
   ]
  },
  {
   "cell_type": "markdown",
   "metadata": {},
   "source": [
    "A diferencia de otros lenguajes como Java o C#, los tipos de los elementos de un *set* pueden ser heterogéneos."
   ]
  },
  {
   "cell_type": "code",
   "execution_count": null,
   "metadata": {},
   "outputs": [
    {
     "name": "stdout",
     "output_type": "stream",
     "text": [
      "{'cero', 3, 5, 'seis', 'cuatro'}\n"
     ]
    }
   ],
   "source": [
    "conjunto_heterogéneo = {\"cero\", 3, \"cero\", 3, \"cuatro\", 5, \"seis\"}\n",
    "print(conjunto_heterogéneo)"
   ]
  },
  {
   "cell_type": "markdown",
   "metadata": {},
   "source": [
    "Además, en Python se permite la definición por comprensión de *sets*, de forma similar a como es posible con listas y diccionarios. También, esto admite para definiciones más complejas que dependen de otro tipo de estructuras."
   ]
  },
  {
   "cell_type": "code",
   "execution_count": null,
   "metadata": {},
   "outputs": [
    {
     "name": "stdout",
     "output_type": "stream",
     "text": [
      "{'Pierre Morel', 'Olivier Megaton', 'Clint Eastwood'}\n"
     ]
    }
   ],
   "source": [
    "from collections import namedtuple\n",
    "\n",
    "\n",
    "Película = namedtuple(\"Pelicula\", [\"título\", \"director\", \"género\"])\n",
    "películas = [\n",
    "    Película(\"Into the Woods\", \"Rob Marshall\", \"Aventura\"),\n",
    "    Película(\"American Sniper\", \"Clint Eastwood\", \"Acción\"),\n",
    "    Película(\"Birdman\", \"Alejandro González Inárritu\", \"Comedia\"),\n",
    "    Película(\"Boyhood\", \"Richard Linklater\", \"Drama\"),\n",
    "    Película(\"Taken\", \"Pierre Morel\", \"Acción\"),\n",
    "    Película(\"Taken 2\", \"Olivier Megaton\", \"Acción\"),\n",
    "    Película(\"Taken 3\", \"Olivier Megaton\", \"Acción\"),\n",
    "    Película(\"The Imitation Game\", \"Morten Tyldum\", \"Biografías\"),\n",
    "    Película(\"Gone Girl\", \"David Fincher\", \"Drama\")\n",
    "]\n",
    "\n",
    "# Set por comprensión\n",
    "directores_acción = {p.director for p in películas if p.género == 'Acción'}\n",
    "# Por cada elemento p en películas,\n",
    "# si el género de p es 'Acción',\n",
    "# entonces el director de p pertenece a directores_acción\n",
    "\n",
    "print(directores_acción)  # Notamos que no hay duplicados, nuevamente"
   ]
  },
  {
   "cell_type": "markdown",
   "metadata": {},
   "source": [
    "#### Operaciones sobre *sets*\n",
    "\n",
    "En Python, los *sets* son capaces de realizar varias operaciones. Algunas son comunes con otros tipos de colecciones, y otras son análogas a las que se hacen con conjuntos matemáticos.\n",
    "\n",
    "Es importante mencionar que los *sets* **no soportan ningún tipo de acceso indexado**, pues no tienen orden. Por ejemplo, el siguiente código arroja un error."
   ]
  },
  {
   "cell_type": "code",
   "execution_count": null,
   "metadata": {},
   "outputs": [
    {
     "ename": "TypeError",
     "evalue": "'set' object is not subscriptable",
     "output_type": "error",
     "traceback": [
      "\u001b[0;31m---------------------------------------------------------------------------\u001b[0m\n",
      "\u001b[0;31mTypeError\u001b[0m                                 Traceback (most recent call last)\n",
      "Cell \u001b[0;32mIn[7], line 3\u001b[0m\n",
      "\u001b[1;32m      1\u001b[0m conjunto_artistas \u001b[38;5;241m=\u001b[39m {\u001b[38;5;124m\"\u001b[39m\u001b[38;5;124mOlivia Newton-John\u001b[39m\u001b[38;5;124m\"\u001b[39m, \u001b[38;5;124m\"\u001b[39m\u001b[38;5;124mDaddy Yankee\u001b[39m\u001b[38;5;124m\"\u001b[39m, \u001b[38;5;124m\"\u001b[39m\u001b[38;5;124mSting\u001b[39m\u001b[38;5;124m\"\u001b[39m, \n",
      "\u001b[1;32m      2\u001b[0m                      \u001b[38;5;124m\"\u001b[39m\u001b[38;5;124mDream Theater\u001b[39m\u001b[38;5;124m\"\u001b[39m, \u001b[38;5;124m\"\u001b[39m\u001b[38;5;124mMon Laferte\u001b[39m\u001b[38;5;124m\"\u001b[39m}\n",
      "\u001b[0;32m----> 3\u001b[0m \u001b[43mconjunto_artistas\u001b[49m\u001b[43m[\u001b[49m\u001b[38;5;241;43m0\u001b[39;49m\u001b[43m]\u001b[49m\n",
      "\n",
      "\u001b[0;31mTypeError\u001b[0m: 'set' object is not subscriptable"
     ]
    }
   ],
   "source": [
    "conjunto_artistas = {\"Olivia Newton-John\", \"Daddy Yankee\", \"Sting\", \n",
    "                     \"Dream Theater\", \"Mon Laferte\"}\n",
    "conjunto_artistas[0]"
   ]
  },
  {
   "cell_type": "markdown",
   "metadata": {},
   "source": [
    "Ahora revisaremos las operaciones más importantes que soportan los *sets*."
   ]
  },
  {
   "cell_type": "markdown",
   "metadata": {},
   "source": [
    "#### Revisar la cantidad de elementos\n",
    "\n",
    "Tal y como con las otras estructuras, esto se hace con la función `len`"
   ]
  },
  {
   "cell_type": "code",
   "execution_count": null,
   "metadata": {},
   "outputs": [
    {
     "name": "stdout",
     "output_type": "stream",
     "text": [
      "5\n"
     ]
    }
   ],
   "source": [
    "print(len(conjunto_artistas))"
   ]
  },
  {
   "cell_type": "markdown",
   "metadata": {},
   "source": [
    "#### *Add*\n",
    "\n",
    "A un *set* se le pueden añadir elementos con el método `add`."
   ]
  },
  {
   "cell_type": "code",
   "execution_count": null,
   "metadata": {},
   "outputs": [
    {
     "name": "stdout",
     "output_type": "stream",
     "text": [
      "{'Dream Theater', 'Daddy Yankee', 'Olivia Newton-John', 'Sting', 'Taylor Swift', 'Mon Laferte'}\n"
     ]
    }
   ],
   "source": [
    "conjunto_artistas.add(\"Taylor Swift\")\n",
    "print(conjunto_artistas)"
   ]
  },
  {
   "cell_type": "markdown",
   "metadata": {},
   "source": [
    "Si se intenta agregar un elemento que ya estaba, nada ocurre."
   ]
  },
  {
   "cell_type": "code",
   "execution_count": null,
   "metadata": {},
   "outputs": [
    {
     "name": "stdout",
     "output_type": "stream",
     "text": [
      "{'Dream Theater', 'Daddy Yankee', 'Olivia Newton-John', 'Sting', 'Taylor Swift', 'Mon Laferte'}\n"
     ]
    }
   ],
   "source": [
    "conjunto_artistas.add(\"Sting\")\n",
    "print(conjunto_artistas)"
   ]
  },
  {
   "cell_type": "markdown",
   "metadata": {},
   "source": [
    "#### *Remove*\n",
    "\n",
    "Se puede sacar un elemento del *set* con el método `remove`."
   ]
  },
  {
   "cell_type": "code",
   "execution_count": null,
   "metadata": {},
   "outputs": [
    {
     "name": "stdout",
     "output_type": "stream",
     "text": [
      "{'Dream Theater', 'Olivia Newton-John', 'Sting', 'Taylor Swift', 'Mon Laferte'}\n"
     ]
    }
   ],
   "source": [
    "conjunto_artistas.remove(\"Daddy Yankee\")\n",
    "print(conjunto_artistas)"
   ]
  },
  {
   "cell_type": "markdown",
   "metadata": {},
   "source": [
    "Esta operación resulta en un error si se intenta eliminar algo que no estaba previamente en el *set*."
   ]
  },
  {
   "cell_type": "code",
   "execution_count": null,
   "metadata": {},
   "outputs": [
    {
     "ename": "KeyError",
     "evalue": "'The Beatles'",
     "output_type": "error",
     "traceback": [
      "\u001b[0;31m---------------------------------------------------------------------------\u001b[0m\n",
      "\u001b[0;31mKeyError\u001b[0m                                  Traceback (most recent call last)\n",
      "Cell \u001b[0;32mIn[12], line 1\u001b[0m\n",
      "\u001b[0;32m----> 1\u001b[0m \u001b[43mconjunto_artistas\u001b[49m\u001b[38;5;241;43m.\u001b[39;49m\u001b[43mremove\u001b[49m\u001b[43m(\u001b[49m\u001b[38;5;124;43m\"\u001b[39;49m\u001b[38;5;124;43mThe Beatles\u001b[39;49m\u001b[38;5;124;43m\"\u001b[39;49m\u001b[43m)\u001b[49m\n",
      "\n",
      "\u001b[0;31mKeyError\u001b[0m: 'The Beatles'"
     ]
    }
   ],
   "source": [
    "conjunto_artistas.remove(\"The Beatles\")"
   ]
  },
  {
   "cell_type": "markdown",
   "metadata": {},
   "source": [
    "#### *Discard*\n",
    "\n",
    "Es una operación similar a *remove*, pero que no lanza un error en caso de que el elemento no haya estado en el conjunto."
   ]
  },
  {
   "cell_type": "code",
   "execution_count": null,
   "metadata": {},
   "outputs": [
    {
     "name": "stdout",
     "output_type": "stream",
     "text": [
      "{'Olivia Newton-John', 'Sting', 'Taylor Swift', 'Mon Laferte'}\n"
     ]
    }
   ],
   "source": [
    "conjunto_artistas.discard(\"Dream Theater\")\n",
    "print(conjunto_artistas)"
   ]
  },
  {
   "cell_type": "code",
   "execution_count": null,
   "metadata": {},
   "outputs": [
    {
     "name": "stdout",
     "output_type": "stream",
     "text": [
      "\n"
     ]
    }
   ],
   "source": [
    "conjunto_artistas.discard(\"The Beatles\")\n",
    "print()"
   ]
  },
  {
   "cell_type": "markdown",
   "metadata": {},
   "source": [
    "#### Iterar con `for`\n",
    "\n",
    "Se puede iterar por los elementos de un conjunto con `for`. Debemos recordar, sin embargo, que el recorrido no se hará en ningún orden en particular, puesto que los *sets* **no** son estructuras ordenadas. Está garantizado que cada elemento será recorrido *exactamente una vez*."
   ]
  },
  {
   "cell_type": "code",
   "execution_count": null,
   "metadata": {},
   "outputs": [
    {
     "name": "stdout",
     "output_type": "stream",
     "text": [
      "Por favor, ¡saluden a Olivia Newton-John!\n",
      "Por favor, ¡saluden a Sting!\n",
      "Por favor, ¡saluden a Taylor Swift!\n",
      "Por favor, ¡saluden a Mon Laferte!\n"
     ]
    }
   ],
   "source": [
    "for artista in conjunto_artistas:\n",
    "    print(f\"Por favor, ¡saluden a {artista}!\")"
   ]
  },
  {
   "cell_type": "markdown",
   "metadata": {},
   "source": [
    "#### Verificar si un elemento pertenece al *set*\n",
    "\n",
    "Podemos verificar si un elemento está en el *set* con la sentencia `in`."
   ]
  },
  {
   "cell_type": "code",
   "execution_count": null,
   "metadata": {},
   "outputs": [
    {
     "name": "stdout",
     "output_type": "stream",
     "text": [
      "False\n"
     ]
    }
   ],
   "source": [
    "print(\"Natalia Lafourcade\" in conjunto_artistas)"
   ]
  },
  {
   "cell_type": "code",
   "execution_count": null,
   "metadata": {},
   "outputs": [
    {
     "name": "stdout",
     "output_type": "stream",
     "text": [
      "True\n"
     ]
    }
   ],
   "source": [
    "print(\"Sting\" in conjunto_artistas)"
   ]
  },
  {
   "cell_type": "markdown",
   "metadata": {},
   "source": [
    "En los *sets*, esta operación es **muy eficiente** y toma un tiempo que *no depende del tamaño del conjunto*.\n",
    "\n",
    "Esto es muy distinto del caso de las listas. Para verificar si un elemento está o no en una lista, internamente se debe recorrer toda la lista hasta encontrarlo, o bien llegar al final para darse cuenta de que no estaba. Esto significa que el *tiempo máximo de búsqueda crece* a medida que el tamaño de la lista aumenta.\n",
    "\n",
    "Para comprobar estas diferencias en tiempo, vamos a crear una lista y un *set*, cada uno con 10.000.000 de elementos."
   ]
  },
  {
   "cell_type": "code",
   "execution_count": null,
   "metadata": {},
   "outputs": [
    {
     "name": "stdout",
     "output_type": "stream",
     "text": [
      "set  -- La búsqueda de 5000000 demoró... 0.000115 segundos.\n",
      "list -- La búsqueda de 5000000 demoró... 0.081251 segundos.\n",
      "\n",
      "La búsqueda en la lista fue 708.51 veces más lenta que en el set.\n"
     ]
    }
   ],
   "source": [
    "from time import time\n",
    "\n",
    "\n",
    "ELEMENTOS = 10 ** 7\n",
    "ELEMENTO_A_BUSCAR = ELEMENTOS // 2\n",
    "\n",
    "lista_gigante = list(range(ELEMENTOS))\n",
    "set_gigante = set(range(ELEMENTOS))\n",
    "\n",
    "tiempo_inicio = time()\n",
    "ELEMENTO_A_BUSCAR in set_gigante\n",
    "tiempo_fin = time()\n",
    "tiempo_set = tiempo_fin - tiempo_inicio\n",
    "print(f\"set  -- La búsqueda de {ELEMENTO_A_BUSCAR} demoró... {tiempo_set:.6f} segundos.\")\n",
    "\n",
    "tiempo_inicio = time()\n",
    "ELEMENTO_A_BUSCAR in lista_gigante\n",
    "tiempo_fin = time()\n",
    "tiempo_lista = tiempo_fin - tiempo_inicio\n",
    "print(f\"list -- La búsqueda de {ELEMENTO_A_BUSCAR} demoró... {tiempo_lista:.6f} segundos.\")\n",
    "\n",
    "print()\n",
    "print(f\"La búsqueda en la lista fue {tiempo_lista / tiempo_set:.2f} veces más lenta que en el set.\")"
   ]
  },
  {
   "cell_type": "markdown",
   "metadata": {},
   "source": [
    "#### Unión de conjuntos\n",
    "\n",
    "![](https://upload.wikimedia.org/wikipedia/commons/3/32/SetUnion.svg)\n",
    "\n",
    "Sirve para obtener un nuevo conjunto que tenga todos los elementos de los conjuntos que se unen. Esta operación no altera ninguno de los *sets* originales. Se utiliza el operador `|`."
   ]
  },
  {
   "cell_type": "code",
   "execution_count": null,
   "metadata": {},
   "outputs": [
    {
     "name": "stdout",
     "output_type": "stream",
     "text": [
      "{0, 1, 2, 3, 4, 5}\n"
     ]
    }
   ],
   "source": [
    "set_a = {0, 1, 2, 3}\n",
    "set_b = {5, 4, 3, 2}\n",
    "set_union = set_a | set_b\n",
    "print(set_union)"
   ]
  },
  {
   "cell_type": "markdown",
   "metadata": {},
   "source": [
    "También se puede ocupar el método `union`. Esta operación no altera ninguno de los *sets* originales."
   ]
  },
  {
   "cell_type": "code",
   "execution_count": null,
   "metadata": {},
   "outputs": [
    {
     "name": "stdout",
     "output_type": "stream",
     "text": [
      "{0, 1, 2, 3, 4, 5}\n"
     ]
    }
   ],
   "source": [
    "set_union = set_a.union(set_b)\n",
    "print(set_union)"
   ]
  },
  {
   "cell_type": "markdown",
   "metadata": {},
   "source": [
    "#### Intersección de conjuntos\n",
    "\n",
    "![](https://upload.wikimedia.org/wikipedia/commons/c/cb/SetIntersection.svg)\n",
    "\n",
    "Sirve para obtener un nuevo conjunto que tenga los elementos que están en **todos** los conjuntos que se intersectan. Esta operación no altera ninguno de los *sets* originales. Se utiliza el operador `&`."
   ]
  },
  {
   "cell_type": "code",
   "execution_count": null,
   "metadata": {},
   "outputs": [
    {
     "name": "stdout",
     "output_type": "stream",
     "text": [
      "{2, 3}\n"
     ]
    }
   ],
   "source": [
    "set_a = {0, 1, 2, 3}\n",
    "set_b = {4, 3, 2, 5}\n",
    "set_intersection = set_a & set_b\n",
    "print(set_intersection)"
   ]
  },
  {
   "cell_type": "markdown",
   "metadata": {},
   "source": [
    "También se puede ocupar el método `intersection`. Esta operación no altera ninguno de los *sets* originales."
   ]
  },
  {
   "cell_type": "code",
   "execution_count": null,
   "metadata": {},
   "outputs": [
    {
     "name": "stdout",
     "output_type": "stream",
     "text": [
      "{2, 3}\n"
     ]
    }
   ],
   "source": [
    "set_intersection = set_a.intersection(set_b)\n",
    "print(set_intersection)"
   ]
  },
  {
   "cell_type": "markdown",
   "metadata": {},
   "source": [
    "#### Diferencia de conjuntos\n",
    "\n",
    "![](https://upload.wikimedia.org/wikipedia/commons/e/ec/SetDifferenceA.svg)\n",
    "\n",
    "Sirve para obtener un nuevo conjunto que tenga los elementos que están en un conjunto, pero que no estén en otro. Esta operación no altera ninguno de los *sets* originales. Se utiliza el operador `-`. Notar que el resultado de esta operación **sí depende** del orden de los factores."
   ]
  },
  {
   "cell_type": "code",
   "execution_count": null,
   "metadata": {},
   "outputs": [
    {
     "name": "stdout",
     "output_type": "stream",
     "text": [
      "{0, 1}\n",
      "{4, 5}\n"
     ]
    }
   ],
   "source": [
    "set_a = {0, 1, 2, 3}\n",
    "set_b = {2, 3, 4, 5}\n",
    "set_difference_a_b = set_a - set_b\n",
    "set_difference_b_a = set_b - set_a\n",
    "print(set_difference_a_b)\n",
    "print(set_difference_b_a)"
   ]
  },
  {
   "cell_type": "markdown",
   "metadata": {},
   "source": [
    "También se puede ocupar el método `difference`. Esta operación no altera ninguno de los *sets* originales."
   ]
  },
  {
   "cell_type": "code",
   "execution_count": null,
   "metadata": {},
   "outputs": [
    {
     "name": "stdout",
     "output_type": "stream",
     "text": [
      "{0, 1}\n",
      "{4, 5}\n"
     ]
    }
   ],
   "source": [
    "set_difference_a_b = set_a.difference(set_b)\n",
    "set_difference_b_a = set_b.difference(set_a)\n",
    "print(set_difference_a_b)\n",
    "print(set_difference_b_a)"
   ]
  },
  {
   "cell_type": "markdown",
   "metadata": {},
   "source": [
    "##### Diferencia simétrica de conjuntos\n",
    "\n",
    "![](https://upload.wikimedia.org/wikipedia/commons/f/f2/SetSymmetricDifference.svg)\n",
    "\n",
    "Sirve para obtener un nuevo conjunto de objetos que están en un conjunto o en el otro, pero no en ambos. Esta operación no altera ninguno de los *sets* originales. Se ocupa el operador `^`. "
   ]
  },
  {
   "cell_type": "code",
   "execution_count": null,
   "metadata": {},
   "outputs": [
    {
     "name": "stdout",
     "output_type": "stream",
     "text": [
      "{0, 1, 4, 5}\n"
     ]
    }
   ],
   "source": [
    "set_a = {0, 1, 2, 3}\n",
    "set_b = {2, 3, 4, 5}\n",
    "set_sym_difference = set_a ^ set_b\n",
    "print(set_sym_difference)"
   ]
  },
  {
   "cell_type": "markdown",
   "metadata": {},
   "source": [
    "También se puede ocupar el método `symmetric_difference`. Esta operación no altera ninguno de los *sets* originales."
   ]
  },
  {
   "cell_type": "code",
   "execution_count": null,
   "metadata": {},
   "outputs": [
    {
     "name": "stdout",
     "output_type": "stream",
     "text": [
      "{0, 1, 4, 5}\n"
     ]
    }
   ],
   "source": [
    "set_sym_difference = set_a.symmetric_difference(set_b)\n",
    "print(set_sym_difference)"
   ]
  },
  {
   "cell_type": "markdown",
   "metadata": {},
   "source": [
    "#### Ejemplo de eliminación de duplicados\n",
    "\n",
    "Podemos usar *sets* para eliminar duplicados de una lista."
   ]
  },
  {
   "cell_type": "code",
   "execution_count": null,
   "metadata": {},
   "outputs": [
    {
     "name": "stdout",
     "output_type": "stream",
     "text": [
      "{'A', 'Z', 'X', 'F', 'D', 'Y', 'B'}\n"
     ]
    }
   ],
   "source": [
    "lista = ['A', 'B', 'A', 'D', 'F', 'X', 'X', 'X', 'Z', 'Z', 'Y']\n",
    "lista_set = set(lista)\n",
    "print(lista_set)"
   ]
  },
  {
   "cell_type": "markdown",
   "metadata": {},
   "source": [
    "Y también es posible crear una lista a partir de un *set*."
   ]
  },
  {
   "cell_type": "code",
   "execution_count": null,
   "metadata": {},
   "outputs": [
    {
     "name": "stdout",
     "output_type": "stream",
     "text": [
      "['A', 'Z', 'X', 'F', 'D', 'Y', 'B']\n"
     ]
    }
   ],
   "source": [
    "lista = list(lista_set)\n",
    "print(lista)"
   ]
  },
  {
   "cell_type": "markdown",
   "metadata": {},
   "source": [
    "Podemos ordenar la lista si queremos convencernos que no hay repetidos:"
   ]
  },
  {
   "cell_type": "code",
   "execution_count": null,
   "metadata": {},
   "outputs": [
    {
     "name": "stdout",
     "output_type": "stream",
     "text": [
      "['A', 'B', 'D', 'F', 'X', 'Y', 'Z']\n"
     ]
    }
   ],
   "source": [
    "lista.sort()\n",
    "print(lista)"
   ]
  }
 ],
 "metadata": {
  "kernelspec": {
   "display_name": "Python 3",
   "language": "python",
   "name": "python3"
  },
  "language_info": {
   "codemirror_mode": {
    "name": "ipython",
    "version": 3
   },
   "file_extension": ".py",
   "mimetype": "text/x-python",
   "name": "python",
   "nbconvert_exporter": "python",
   "pygments_lexer": "ipython3",
   "version": "3.11.2"
  },
  "orig_nbformat": 4,
  "vscode": {
   "interpreter": {
    "hash": "9a332da503d34353b4a88734c9c417394c5073dd13f9e5d25ac34ee4ac9b6e5a"
   }
  }
 },
 "nbformat": 4,
 "nbformat_minor": 2
}
