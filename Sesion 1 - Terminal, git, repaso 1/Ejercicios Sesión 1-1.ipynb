{
 "cells": [
  {
   "attachments": {},
   "cell_type": "markdown",
   "metadata": {},
   "source": [
    "# Ejercicios Sesión 1, Parte 1\n",
    "\n",
    "En esta sesión ejercitaremos el trabajo con git y github.\n",
    "<p>\n",
    "<font size='1'>Material adaptado del material creado por &copy; 2015 Karim Pichara - Christian Pieringer, todos los derechos reservados; y posteriormente modificado por Equipos Docentes IIC2233 UC.</font>\n",
    "<br>\n"
   ]
  },
  {
   "cell_type": "markdown",
   "metadata": {},
   "source": [
    "# Instrucciones:\n",
    "\n",
    "Partamos sencillito, sin nada que requiera programación: responderemos (en el orden indicado por las instrucciones un cuestionario para saber un poco más sobre la persona con la que estamos trabajando).\n",
    "\n",
    "## Paso 1:\n",
    "Definir quién será el integrante A y el integrante B. Ambos inicien sesión en el sitio web de github.com con sus cuentas ya creadas.\n",
    "\n",
    "## Paso 2:\n",
    "Ambos creen una carpeta en su escritorio o directorio de trabajo en el que ubicarán las cosas que armaremos en este ejercicio. **Integrante A** copie y pegue el cuestionario dispuesto en la carpeta del curso llamado `Cuestionario.txt` en esta carpeta. **Integrante B** deje esa carpeta vacía.\n",
    "\n",
    "## Paso 3:\n",
    "El **integrante A** compartirá pantalla y mostrará cómo está creando el repositorio remoto. Para ello, mostrará su sitio de github, y a la izquierda de la pantalla, al lado de \"Top repositories\" hará click en \"New\". No es necesario seguir un template base.\n",
    "\n",
    "Póngale nombre al repositorio (e.g., prueba-github-gutierrez-gomez), y déjenlo como privado (a menos que quieran dejarlo público (que cualquiera que ingrese a su perfil pueda ver este repositorio y su contenido), pero no es necesario). El resto de las opciones déjenlas como vienen por defecto, y denle a \"Create repository\".\n",
    "\n",
    "Lo siguiente que verán será el repositorio remoto vacío en github, con unas instrucciones que seguiremos sólo cuando se indique.\n",
    "\n",
    "## Paso 4: \n",
    "Para poder colaborar, **el integrante A** debe agregar como colaborador del proyecto/repositorio al integrante B. Para ello, haga click en \"Invite collaborators\", \"Add people\" e ingrese el usuario de github de su pareja.\n",
    "\n",
    "## Paso 5:\n",
    "\n",
    "**Integrantes A y B:** Abra la consola de su computador, y ubique la consola en la carpeta de trabajo de su computador que crearon en el paso 2.\n",
    "\n",
    "**Integrante A:** Seguiremos parcialmente las instrucciones que indica github: \n",
    "- En consola, inicialice el repositorio local: `git init`. \n",
    "- Agregue el archivo del cuestionario al staging area `git add .`. \n",
    "- Haga un primer commit `git commit -m \"mensaje\"`. \n",
    "- Ejecute `git branch -M main`. \n",
    "- Ahora, enlace este repositorio local con su repositorio remoto. Para ello, ejecute en consola `git remote add origin <URL>` (el link o el comando entero lo puede extraer desde el sitio de Github que tienen abierto).\n",
    "- Finalmente, ejecute `git push -u origin main`.\n",
    "\n",
    "Pueden verificar que el cuestionario ya se encuentra en el repositorio remoto si es que actualizan el sitio de Github.\n"
   ]
  },
  {
   "cell_type": "markdown",
   "metadata": {},
   "source": [
    "## Paso 6:\n",
    "\n",
    "Para que el integrante B pueda trabajar sobre el mismo cuestionario, deberá traer los cambios actuales a su carpeta. Para ello, el **integrante B** deberá clonar el repositorio. Sería bueno que comparta pantalla para que amobs vean el resultado. Para clonar, el **integrante B** en la consola ubicado en la carpeta de trabajo, escriba `git clone <URL>`, en que `<URL>` sería el link al repositorio creado por integrante B. Si el clonado fue exitoso, debería poder ver la carpeta que es el repositorio con el cuestionario creado en la carpeta.\n",
    "\n",
    "Nota: Se puede cambiar el nombre de la carpeta sin problemas, o incluso abrirla, cortar el contenido, y pegarla en la carpeta padre (siempre y cuando lleve consigo el archivo .git (para ello, debe mostrar los archivos ocultos en su computador)).\n"
   ]
  },
  {
   "cell_type": "markdown",
   "metadata": {},
   "source": [
    "## Paso 7: \n",
    "Ahora empezaremos a responderla en orden, intentemos que las respuestas sean breves. Compartiendo pantalla, el **integrante A** escribirá las respuestas de las preguntas 1 a 3. Luego, registrará sus cambios en el repositorio remoto (recordar, `git add .`, `git commit -m \"mensaje\"`, `git pull`, `git push`) y cerrar el archivo.\n",
    "\n",
    "## Paso 8:\n",
    "Ahora le toca al **integrante B** escribir las respuestas. Para ello, lo primero es traerse las respuestas que hizo el integrante A (`git pull`). Al abrir el cuestionario, verás cómo el texto traerá las respuestas. Conteste las mismas preguntas, escogiendo si decide ubicar su respuesta arriba o abajo de la respuesta de su pareja.\n",
    "\n",
    "```\n",
    "1 ¿Cuál es tu nombre y cómo prefieres que te llamen?\n",
    "José Tomás, pero me dicen Joseto.\n",
    "Roberto, y me dicen Róber       # esta es la línea que agrega el integrante B\n",
    "```\n",
    "\n",
    "Luego de contestarlas, cierre el archivo y registre los cambios en el repositorio remoto."
   ]
  },
  {
   "cell_type": "markdown",
   "metadata": {},
   "source": [
    "## Paso 9:\n",
    "\n",
    "Ahora, responderemos simultáneamente, por lo que ya no es necesario compartir pantalla. Ambos harán `git pull` para actualizar el estado de sus archivos en sus computadores locales, y luego el **integrante A** contestará las preguntas 4 y 8; mientras simultáneamente el **integrante B** contestará las 13 y 15. Apenas termine, cierre el archivo y registre sus cambios en el repositorio remoto sin necesidad de esperar al otro integrante. \n",
    "\n",
    "El \"más lento\" descubrirá al hacer el pull que su ventana de consola le alertará que se está haciendo un _merge_ (unión de versiones). Lo que estás viendo es el editor de archivos de consola, y te pedirá escribir un mensaje después de las líneas comentadas con `#`. Basta con que escribas un mensaje de commit de merge y, luego, apretes la tecla Esc y escribas `:wq` (eso guarda y cierra el archivo de edición del commit del merge). Tras eso, puedes continuar tranquilamente con el push. Cuando ambos hayan terminado, hagan `git pull` para leer la respuesta de su pareja.\n",
    "\n",
    "## Paso 9.5: Aprovechen de explorar el sitio de Github\n",
    "\n",
    "Pueden ver el estado del archivo, la cantidad de commits, los mensajes de los commits, etc.\n",
    "\n"
   ]
  },
  {
   "cell_type": "markdown",
   "metadata": {},
   "source": [
    "## Paso 10:\n",
    "\n",
    "Desordenemos el gallinero y generemos caos. Ambos, simultáneamente (y asegurando misma versión actual del cuestionario antes de escribir), contesten las preguntas 11, 14 y 18. Antes de registrar los cambios en el repositorio remoto, decidan quién quiere jugársela con la resolución del conflicto. El integrante que _no_ quiera hacerlo y prefiera observar, será el que primero registre los cambios en el repositorio remoto.\n",
    "\n",
    "El **otro integrante**, compartiendo pantalla, luego intentará registrar los suyos para notar el conflicto que ha surgido: haga `git add .`, `git commit -m \"mensaje\"`, `git pull` y vean en conjunto el mensaje que trae el intento de push.\n",
    "\n",
    "```txt\n",
    "...\n",
    "CONFLICT (content): Merge conflict in Cuestionario.txt\n",
    "Automatic merge failed; fix conflicts and then commit the result.\n",
    "```\n",
    "\n",
    "El integrante que está compartiendo el archivo, abra el archivo, revise y decida cómo resolverlo (es decir, con qué respuesta quedarse, o cómo ordenar las respuestas). Una vez que termine, elimine los markers (incluyendo el ID del marker) y vuelva a hacer los 4 pasos para registrar el cambio en el repositorio remoto.\n",
    "\n",
    "Si coincidieron en una respuesta (por ejemplo, ambos contestaron simplemente \"Café\" y nada más, pues no se habría generado conflicto para esa pregunta y sólo deberíamos resolver 2).\n"
   ]
  },
  {
   "cell_type": "markdown",
   "metadata": {},
   "source": [
    "## Paso 11:\n",
    "\n",
    "Felicítense! Acaban de resolver un conflicto. Los invito a hacer el mismo ejercicio con otras 3 preguntas a su elección (sean o no ya respondidas por el otro integrante), e intenten que al hacer los push el resolutor de conflictos sea el otro integrante."
   ]
  },
  {
   "cell_type": "markdown",
   "metadata": {},
   "source": [
    "## Paso 12:\n",
    "\n",
    "Felicítense de nuevo! Si desean, terminen de contestar el cuestionario para saber más sobre su compañero de trabajo. Sólo recuerden dejar la versión final en el repositorio remoto.\n",
    "\n",
    "# Preparando el siguiente set de ejercicios\n",
    "\n",
    "ANTES DE HACER EL SET DE EJERCICIOS 1-2, QUE (arbitrariamente) EL **INTEGRANTE B** COPIE Y PEGUE ESE ARCHIVO EN SU CARPETA DE TRABAJO CARPETA, Y REGISTRE LOS CAMBIOS EN EL REPOSITORIO. De esta forma, no es necesario crear un nuevo repositorio."
   ]
  }
 ],
 "metadata": {
  "kernelspec": {
   "display_name": "Python 3",
   "language": "python",
   "name": "python3"
  },
  "language_info": {
   "codemirror_mode": {
    "name": "ipython",
    "version": 3
   },
   "file_extension": ".py",
   "mimetype": "text/x-python",
   "name": "python",
   "nbconvert_exporter": "python",
   "pygments_lexer": "ipython3",
   "version": "3.11.2"
  },
  "orig_nbformat": 4,
  "vscode": {
   "interpreter": {
    "hash": "9a332da503d34353b4a88734c9c417394c5073dd13f9e5d25ac34ee4ac9b6e5a"
   }
  }
 },
 "nbformat": 4,
 "nbformat_minor": 2
}
