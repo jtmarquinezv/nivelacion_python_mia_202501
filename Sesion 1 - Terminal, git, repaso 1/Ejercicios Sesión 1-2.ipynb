{
 "cells": [
  {
   "attachments": {},
   "cell_type": "markdown",
   "metadata": {},
   "source": [
    "# Ejercicios Sesión 1, Parte 2\n",
    "\n",
    "En esta sesión ejercitaremos sobre funciones y estructuras de datos.\n",
    "\n",
    "<p>\n",
    "<font size='1'>Material adaptado del material creado por &copy; 2015 Karim Pichara - Christian Pieringer, todos los derechos reservados; y posteriormente modificado por Equipos Docentes IIC2233 UC.</font>\n",
    "<br>\n",
    "\n",
    "\n",
    "Recuerden hacer `git pull` para que ambos tengan este archivo en la carpeta de trabajo.\n",
    "\n",
    "Antes de lanzarse a trabajar colaborativamente:\n",
    "- Git es impecable para encontrar diferencias de versiones cuando son archivos de texto planos directos, como archivos `*.txt` o archivos `*.py`.\n",
    "- Git es PÉSIMO para encontrar diferencias de versiones cuando son jupyter notebooks. Los Notebooks, por debajo, son archivos JSON (una especie de diccionario que guarda valores) con toda la data que contiene el notebook (desde el tipo de celda y el contenido, hasta el ordinal en el que se ejecutó una celda o el output y cómo se ve). Si Juan y María ejecutan las celdas en distinto orden, git inevitablemente encontrará diferencia entre los archivos.\n",
    "- **¿La solución?** Lo que sugiero es instalar una librería que nos ayudará con marcar bien las diferencias entre los notebooks. Para ello ejecuten en consola\n",
    "\n",
    "```text\n",
    "pip install nbdime\n",
    "nbdime config-git --enable --global\n",
    "```\n",
    "- **Parte de la solución?** SIEMPRE, antes de hacer add y commit, eliminar los outputs de las celdas. Eso es metadata que sólo generará conflictos innecesarios. Para ello, arriba, bajo las pestañas, hacer click en \"Clear All Outputs\".\n",
    "- Si esto no les funciona, tengo un plan B más extenso abajo de este notebook.\n",
    "\n",
    "**Sugerencia de trabajo:** Que un integrante comparta pantalla para hacer los primeros 2 ejercicios desde su computador pero en conjunto. Al terminar, ELIMINAR OUTPUTS (\"Clear All Outputs\"), guardar y irse a la consola para registrar cambios en repositorio remoto, hacer `git pull` y que luego el segundo integrante comparta pantalla para hacer los siguientes 2. Eliminar outputs, registrar cambios en el repositorio remoto. Luego, hagan el 5 y 6 en paralelo sin comparir pantalla para resolver posteriormente conflicto (pero ahora de código). Luego terminen el set como gusten."
   ]
  },
  {
   "cell_type": "markdown",
   "metadata": {},
   "source": [
    "## Ejercicio 1:\n",
    "\n",
    "Partamos sencillito. Defina una función `volumen_cilindro(...)` que calcule el volumen de un cilindro ($h \\cdot \\pi \\cdot r^2$), y lo retorne.\n"
   ]
  },
  {
   "cell_type": "code",
   "execution_count": null,
   "metadata": {},
   "outputs": [],
   "source": []
  },
  {
   "cell_type": "markdown",
   "metadata": {},
   "source": [
    "\n",
    "## Ejercicio 2:\n",
    "\n",
    "Define una función `invertir_vocales(texto)` que recibe un _str_ `texto` en minúscula y retorne la misma cadena pero con todas sus vocales convertidas a mayúsculas. \n",
    "\n",
    "_Hint:_ Existe el método `string.upper()` que retorna el _str_ en mayúsculas.\n"
   ]
  },
  {
   "cell_type": "code",
   "execution_count": null,
   "metadata": {},
   "outputs": [
    {
     "data": {
      "text/plain": [
       "'HOLA QUÉ TAL'"
      ]
     },
     "metadata": {},
     "output_type": "display_data"
    }
   ],
   "source": [
    "\"HoLA qué TaL\".upper()"
   ]
  },
  {
   "cell_type": "code",
   "execution_count": null,
   "metadata": {},
   "outputs": [],
   "source": []
  },
  {
   "cell_type": "markdown",
   "metadata": {},
   "source": [
    "\n",
    "## Ejercicio 3: \n",
    "Defina una función `es_palindromo(palabra)` que reciba una `palabra` y retorne `True` si es palíndroma y `False` en caso contrario. Una palabra palíndroma es una palabra que se lee igual tanto de izquierda a derecha como de derecha a izquierda.\n"
   ]
  },
  {
   "cell_type": "code",
   "execution_count": null,
   "metadata": {},
   "outputs": [],
   "source": [
    "def ...\n",
    "\n",
    "\n",
    "# Ejemplo de uso\n",
    "print(es_palindromo(\"salas\"))\n",
    "print(es_palindromo(\"elefante\"))\n",
    "print(es_palindromo(\"palindromo\"))\n",
    "print(es_palindromo(\"anitalavalatina\"))"
   ]
  },
  {
   "cell_type": "markdown",
   "metadata": {},
   "source": [
    "\n",
    "## Ejercicio 4:\n",
    "\n",
    "Escribe una función `comparar_precios(...)` que reciba cuatro argumentos: el precio original de un producto (`precio_original`), el porcentaje de descuento aplicado al producto (`descuento`), el precio al que un competidor vende el mismo producto (`precio_competidor`), y un booleano (`incluir_impuesto`). La función debe calcular el precio final del producto después de aplicar el descuento y, si `incluir_impuesto` es `True`, agregar un 15% de impuesto sobre el precio después del descuento. La función debe retornar `True` si el precio final (considerando el impuesto si `incluir_impuesto` es `True`) es menor que el precio del competidor, de lo contrario, retorna `False`.\n",
    "\n"
   ]
  },
  {
   "cell_type": "code",
   "execution_count": null,
   "metadata": {},
   "outputs": [],
   "source": [
    "def ...\n",
    "\n",
    "# Ejemplo de uso\n",
    "print(comparar_precios(100, 20, 75, True))  # Con impuesto\n",
    "print(comparar_precios(100, 20, 75, False))  # Sin impuesto"
   ]
  },
  {
   "cell_type": "markdown",
   "metadata": {},
   "source": [
    "\n",
    "## Ejercicio 5: \n",
    "\n",
    "Crea una función que reciba una lista de números y retorne el número más grande, el más pequeño y el promedio de la lista.\n"
   ]
  },
  {
   "cell_type": "code",
   "execution_count": null,
   "metadata": {},
   "outputs": [],
   "source": []
  },
  {
   "cell_type": "markdown",
   "metadata": {},
   "source": [
    "\n",
    "## Ejercicio 6:\n",
    "\n",
    "Escribe una función que reciba una lista de números enteros positivos y retorne el segundo número más grande en la lista. Si no hay un segundo número (lista de largo 1), retorna -1.\n"
   ]
  },
  {
   "cell_type": "code",
   "execution_count": null,
   "metadata": {},
   "outputs": [],
   "source": []
  },
  {
   "cell_type": "markdown",
   "metadata": {},
   "source": [
    "\n",
    "## Ejercicio 7:\n",
    "\n",
    "Crea una función que tome una cadena de texto largo (por ejemplo, un párrafo) y retorne un diccionario donde las llaves sean las palabras únicas en el texto (sin distinción de mayúsculas/minúsculas) y los valores sean el número de veces que cada palabra aparece en el texto.\n"
   ]
  },
  {
   "cell_type": "code",
   "execution_count": null,
   "metadata": {},
   "outputs": [],
   "source": []
  },
  {
   "cell_type": "markdown",
   "metadata": {},
   "source": [
    "\n",
    "## Ejercicio 8:\n",
    "\n",
    "Escribe una función que reciba una cadena de texto que contiene paréntesis `(` y `)` y determine si la cadena de paréntesis está balanceada. Cada paréntesis abierto debe tener un paréntesis cerrado correspondiente y deben aparecer en el orden correcto.\n"
   ]
  },
  {
   "cell_type": "code",
   "execution_count": null,
   "metadata": {},
   "outputs": [],
   "source": [
    "\n",
    "\n",
    "# Ejemplos de uso:\n",
    "cadena1 = \"(()())\"\n",
    "cadena2 = \"(()\"\n",
    "cadena3 = \"())(\"\n",
    "cadena4 = \"(())()\"\n",
    "\n",
    "print(estan_balanceados(cadena1))  # Debería retornar True\n",
    "print(estan_balanceados(cadena2))  # Debería retornar False\n",
    "print(estan_balanceados(cadena3))  # Debería retornar False\n",
    "print(estan_balanceados(cadena4))  # Debería retornar True"
   ]
  },
  {
   "cell_type": "markdown",
   "metadata": {},
   "source": [
    "\n",
    "## Ejercicio 9:\n",
    "\n",
    "Desarrolla una función que tome dos cadenas de texto y determine si una es un anagrama (mismas letras en orden distinto) de la otra (ignorando espacios, signos de puntuación y mayúsculas/minúsculas)."
   ]
  },
  {
   "cell_type": "code",
   "execution_count": null,
   "metadata": {},
   "outputs": [],
   "source": []
  },
  {
   "cell_type": "markdown",
   "metadata": {},
   "source": [
    "## Ejercicio 10: Listas\n",
    "\n",
    "Durante el primer semestre los y las estudiantes del Departamento de Catadores de Comida toman cursos como Cuchuflies (C), Papas Fritas (P), Desafíos del Cochayuyo (D), entre otros. La administración del Departamento tiene una lista con todos los cursos dictados ese semestre, y otra lista de todos los estudiantes con los cursos que aprobaron el primer semestre. Estas listas siguen el formato:\n",
    "\n",
    "```Python\n",
    "cursos = [\"C\",\"E\",\"D\",\"P\"]\n",
    "estudiantes = [\"CP\",\"ECD\",\"DEPC\",\"CPED\",\"\",\"E\",\"D\",\"CP\"]\n",
    "```\n",
    "\n",
    "En este ejemplo, hay únicamente cuatro cursos que están simbolizados con las letras `C`, `E`, `D` y `P`. Asimismo, hay 8 estudiantes y cada uno de los elementos en la lista estudiantes contiene un _string_ que indica los cursos que aprobaron. Si el _string_ no contiene alguno de los cursos, se asume que el estudiante reprobó ese curso. Por ejemplo, en la lista estudiantes, `CP` significa que el primer estudiante aprobó en su primer semestre solamente los cursos `C` y `P`, y (por lo tanto) reprobó los cursos `D` y `E`. Asimismo, el segundo estudiante aprobó los cursos `E`, `C` y `D`, y reprobó el curso `P`.\n",
    "\n",
    "En esta parte deberás crear la función `mas_delicioso(cursos, estudiantes)` que recibe una lista `cursos` con los ramos dictados ese semestre, y una lista `estudiantes` que contiene los cursos aprobados por cada estudiante ese semestre. La función debe retornar el curso más delicioso junto con la cantidad de estudiantes que lo aprobó. Diremos que el curso más delicioso es aquel que fue aprobado la mayor cantidad de veces. El formato de retorno es una lista de la forma `[X, N]` donde `X` es la inicial del curso y `N` es la cantidad de veces que fue aprobado.\n",
    "\n",
    "Puedes asumir por simplicidad que siempre habrá un único curso que haya sido aprobado la mayor cantidad de veces."
   ]
  },
  {
   "cell_type": "code",
   "execution_count": null,
   "metadata": {},
   "outputs": [],
   "source": [
    "\n",
    "\n",
    "# Usa lo que sigue para probar tu función:\n",
    "cursos = [\"C\", \"E\", \"D\", \"P\"]\n",
    "estudiantes = [\"CP\", \"ECD\", \"DEPC\", \"CPED\", \"\", \"E\", \"D\", \"CP\"]\n",
    "\n",
    "# Recuerda llamarla!"
   ]
  },
  {
   "cell_type": "markdown",
   "metadata": {},
   "source": [
    "## Ejercicio 11: Listas cont'd"
   ]
  },
  {
   "cell_type": "markdown",
   "metadata": {},
   "source": [
    "El contexto es el mismo que para el ejercicio anterior. Ahora deberás crear la función `super_estudiantes(estudiantes, indicados)` que recibe una lista `estudiantes` que contiene los cursos aprobados por cada estudiante ese semestre y un _string_ `indicados` con las iniciales de ciertos cursos. La función debe retornar una lista con los índices de los estudiantes que aprobaron todos los cursos indicados por el _string_ indicados. Si no hay estudiantes que hayan aprobado todos los cursos indicados, la función debe retornar una lista vacía.\n",
    "\n",
    "Por ejemplo, si se tienen los siguientes parámetros:\n",
    "\n",
    "```Python\n",
    "estudiantes = [\"KS\",\"S\",\"P\"]\n",
    "indicados = \"SK\"\n",
    "```\n",
    "\n",
    "La función debería retornar la lista `[0]`, ya que solo el primer estudiante (índice 0) aprobó los cursos `S` y `K`."
   ]
  },
  {
   "cell_type": "code",
   "execution_count": 2,
   "metadata": {},
   "outputs": [],
   "source": [
    "#Define tu función acá\n",
    "\n",
    "\n",
    "estudiantes = [\"KS\",\"S\",\"P\"]\n",
    "indicados = \"SK\"\n",
    "\n",
    "# Codifica lo necesario acá para probar tu función"
   ]
  },
  {
   "cell_type": "markdown",
   "metadata": {},
   "source": [
    "## Ejercicio 12: Listas de listas"
   ]
  },
  {
   "cell_type": "markdown",
   "metadata": {},
   "source": [
    "Un cuadrado latino de tamaño $n \\times n$ es una matriz cuadrada cuyas entradas son números naturales entre $1$ y $n$ (inclusive), en la cual cada fila y cada columna contiene todos los números entre $1$ y $n$, pero sin repeticiones en cada una. Por ejemplo, el siguiente es un cuadrado latino de tamaño $5 \\times 5$:\n",
    "\n",
    "```Python\n",
    "cuadrado = [[1,4,2,5,3],\n",
    "            [5,3,1,4,2],\n",
    "            [4,2,5,3,1],\n",
    "            [3,1,4,2,5],\n",
    "            [2,5,3,1,4]]\n",
    "```\n",
    "\n",
    "Para representar cuadrados latinos utilizaremos listas de listas, como pudiste ver recién.\n",
    "\n",
    "Debes programar la función `es_cuadrado_latino(cuadrado)` que recibe una lista de listas del mismo tamaño representando al `cuadrado` a ser evaluado, y debe retornar `True` si es cuadrado latino o `False` si no lo es."
   ]
  },
  {
   "cell_type": "markdown",
   "metadata": {},
   "source": [
    "## Ejercicio 13: Diccionarios - Índice de consonantes en el abecedario"
   ]
  },
  {
   "cell_type": "markdown",
   "metadata": {},
   "source": [
    "A continuación, se te entrega código que tiene dentro de la variable `letras` un *string* que contiene en orden los caracteres del idioma inglés en orden, desde la `'a'` hasta la `'z'`. Con eso, sigue las siguientes instrucciones:\n",
    "\n",
    "- Crea un diccionario vacío.\n",
    "- Por cada carácter en `letras`, crea una asociación en tu diccionario, donde el valor es el carácter y la llave es el índice numérico donde se ubica ese carácter en `letras`. Por ejemplo, primero se agregaría la asociación `0: 'a'`, ya que la `'a'` es el primer carácter en `letras`.\n",
    "- Una vez todas creadas, elimina las asociaciones cuyas llaves sean múltiplos de 3.\n",
    "- Imprime el diccionario que resulta."
   ]
  },
  {
   "cell_type": "code",
   "execution_count": 4,
   "metadata": {},
   "outputs": [],
   "source": [
    "letras = 'abcdefghijklmnopqrstuvwxyz'\n",
    "\n",
    "# Completar"
   ]
  },
  {
   "cell_type": "markdown",
   "metadata": {},
   "source": [
    "## Ejercicio 14: Diccionarios y tuplas - Categorizar por grupo"
   ]
  },
  {
   "cell_type": "markdown",
   "metadata": {},
   "source": [
    "A continuación, se te entrega un código incompleto. Hasta el momento, crea una lista (`personas`) de 100 tuplas que poseen `edad` y `nacionalidad` cada una; además de definir una función que retorna una tupla indicando el rango etario de la persona. Debes crear dos diccionarios: `personas_por_pais` y `personas_por_edad`, y poblarlos tal que:\n",
    "\n",
    "- `personas_por_pais` contenga asociaciones donde las llaves son nombres de las distintas nacionalidades posibles, y el valor asociado es un entero indicando la cantidad de personas que tienen ese valor de nacionalidad.\n",
    "- `personas_por_edad` similarmente contenga asociaciones en que permitamos saber cuántas personas hay en cada rango etario `(0, 9)`, `(10, 19)`, ..., `(90, 99)`. Piensa en estos rangos (tuplas) como las llaves del diccionario.\n"
   ]
  },
  {
   "cell_type": "code",
   "execution_count": 6,
   "metadata": {},
   "outputs": [
    {
     "data": {
      "text/plain": [
       "[(49, 'Argentina'),\n",
       " (58, 'Chile'),\n",
       " (66, 'Bolivia'),\n",
       " (15, 'Argentina'),\n",
       " (38, 'Bolivia'),\n",
       " (95, 'Argentina'),\n",
       " (88, 'Chile'),\n",
       " (55, 'Perú'),\n",
       " (33, 'Argentina'),\n",
       " (78, 'Perú'),\n",
       " (86, 'Bolivia'),\n",
       " (48, 'Argentina'),\n",
       " (38, 'Perú'),\n",
       " (4, 'Perú'),\n",
       " (42, 'Perú'),\n",
       " (59, 'Perú'),\n",
       " (46, 'Perú'),\n",
       " (16, 'Bolivia'),\n",
       " (36, 'Argentina'),\n",
       " (62, 'Perú'),\n",
       " (26, 'Bolivia'),\n",
       " (60, 'Chile'),\n",
       " (21, 'Argentina'),\n",
       " (91, 'Perú'),\n",
       " (20, 'Chile'),\n",
       " (57, 'Perú'),\n",
       " (98, 'Chile'),\n",
       " (91, 'Argentina'),\n",
       " (65, 'Perú'),\n",
       " (17, 'Chile'),\n",
       " (94, 'Chile'),\n",
       " (54, 'Perú'),\n",
       " (81, 'Bolivia'),\n",
       " (93, 'Bolivia'),\n",
       " (38, 'Perú'),\n",
       " (93, 'Bolivia'),\n",
       " (66, 'Argentina'),\n",
       " (81, 'Argentina'),\n",
       " (9, 'Perú'),\n",
       " (28, 'Perú'),\n",
       " (49, 'Bolivia'),\n",
       " (12, 'Chile'),\n",
       " (81, 'Bolivia'),\n",
       " (11, 'Chile'),\n",
       " (66, 'Chile'),\n",
       " (30, 'Argentina'),\n",
       " (23, 'Argentina'),\n",
       " (97, 'Argentina'),\n",
       " (40, 'Bolivia'),\n",
       " (47, 'Perú'),\n",
       " (58, 'Chile'),\n",
       " (51, 'Perú'),\n",
       " (26, 'Chile'),\n",
       " (67, 'Bolivia'),\n",
       " (63, 'Perú'),\n",
       " (2, 'Perú'),\n",
       " (31, 'Bolivia'),\n",
       " (2, 'Perú'),\n",
       " (48, 'Bolivia'),\n",
       " (4, 'Argentina'),\n",
       " (35, 'Chile'),\n",
       " (59, 'Perú'),\n",
       " (69, 'Argentina'),\n",
       " (70, 'Chile'),\n",
       " (82, 'Chile'),\n",
       " (62, 'Bolivia'),\n",
       " (44, 'Bolivia'),\n",
       " (49, 'Chile'),\n",
       " (35, 'Chile'),\n",
       " (35, 'Perú'),\n",
       " (24, 'Argentina'),\n",
       " (72, 'Chile'),\n",
       " (10, 'Argentina'),\n",
       " (91, 'Chile'),\n",
       " (57, 'Bolivia'),\n",
       " (80, 'Chile'),\n",
       " (0, 'Argentina'),\n",
       " (81, 'Chile'),\n",
       " (81, 'Chile'),\n",
       " (20, 'Perú'),\n",
       " (73, 'Chile'),\n",
       " (40, 'Bolivia'),\n",
       " (8, 'Bolivia'),\n",
       " (35, 'Argentina'),\n",
       " (47, 'Chile'),\n",
       " (65, 'Perú'),\n",
       " (82, 'Perú'),\n",
       " (33, 'Perú'),\n",
       " (98, 'Argentina'),\n",
       " (89, 'Chile'),\n",
       " (42, 'Argentina'),\n",
       " (26, 'Chile'),\n",
       " (80, 'Bolivia'),\n",
       " (89, 'Bolivia'),\n",
       " (47, 'Chile'),\n",
       " (97, 'Perú'),\n",
       " (22, 'Perú'),\n",
       " (80, 'Perú'),\n",
       " (2, 'Chile'),\n",
       " (80, 'Bolivia')]"
      ]
     },
     "execution_count": 6,
     "metadata": {},
     "output_type": "execute_result"
    }
   ],
   "source": [
    "from random import randint # Omite esto\n",
    "from collections import namedtuple  # Puedes usar defaultdict si lo deseas\n",
    "\n",
    "\n",
    "paises = ['Argentina', 'Bolivia', 'Chile', 'Perú']\n",
    "\n",
    "personas = []\n",
    "for i in range(100):\n",
    "    nueva_persona = (randint(0, 99), paises[randint(0,len(paises)-1)])\n",
    "    personas.append(nueva_persona)\n",
    "\n",
    "def determinar_rango_etario(edad):\n",
    "    return (edad // 10) * 10, (edad // 10) * 10 + 9\n",
    "\n",
    "personas\n",
    "# Completar"
   ]
  },
  {
   "cell_type": "markdown",
   "metadata": {},
   "source": [
    "## Ejercicio 15: *Set* de números aleatorios"
   ]
  },
  {
   "cell_type": "markdown",
   "metadata": {},
   "source": [
    "Crea un *set* vacío, y agrega 100 veces un número aleatorio entre 0 y 100. Luego imprime el *set* que resulta. Una vez resuelto, intenta generar el mismo resultado utilizando una estructura por comprensión.\n",
    "\n",
    "Finalmente, imprime ambos sets, para luego imprimir un tercer set que contenga los números coincidentes entre ambos sets."
   ]
  },
  {
   "cell_type": "code",
   "execution_count": null,
   "metadata": {},
   "outputs": [],
   "source": [
    "import random\n",
    "\n",
    "# randint(a,b) puede que te sirva\n",
    "\n",
    "# Completar"
   ]
  },
  {
   "cell_type": "code",
   "execution_count": null,
   "metadata": {},
   "outputs": [],
   "source": []
  },
  {
   "cell_type": "markdown",
   "metadata": {},
   "source": [
    "# Plan B en caso de que nbdime no les funcione\n",
    "\n",
    "Anoche, mi VSCode estaba muy mañoso y no quería actualizar las celdas. Por lo mismo, después de varias horas de pensar cómo decirles esto, surgió este camino alternativo: convertir el notebook a python antes de hacer los commits y los push.\n",
    "  - Para ello, sugiero ejecutar lo siguiente en consola:\n",
    "  ```pip\n",
    "  pip install ipynb-py-convert\n",
    "  ```\n",
    "  - Para convertir un archivo notebook en un python, basta con ejecutar en consola\n",
    "  ```pip\n",
    "  ipynb-py-convert \"nombre_archivo_input.ipynb\" \"nombre_archivo_output.py\"\n",
    "  ```\n",
    "  - Para convertir un archivo python en uno notebook, basta con ejecutar en consola\n",
    "  ```pip\n",
    "  ipynb-py-convert \"nombre_archivo_input.py\" \"nombre_archivo_output.ipynb\"\n",
    "  ```\n",
    "- Así, cuando hagan commits, pull y push, busquen las diferencias entre los archivos python que serán MUCHO más sencillas de reconocer que desde los jupyter (puede que incluso no se muestren cambios o celdas nuevas en el notebook porque el JSON puede haber quedado corrupto). Cuando hayan resuelto todos los conflictos desde el archivo Python, convertirlo a ipynb de vuelta y hacer add commit pull push.\n",
    "- Note que en el archivo en su versión Python, cada separación de celda estpa delimitada por `# %%`, y el interior de las celdas de texto están delimitadas por `\"\"\"`. Esto hace que el formato para ver qué resulta del conflicto sea más fácil de descubrir y asegurar que quede bien.\n",
    "- Así, el flujo queda:\n",
    "    1. Terminar de trabajar en el jupyter.\n",
    "    2. Cerrar el jupyter\n",
    "    2. Convertirlo a py\n",
    "    3. Registrar cambios\n",
    "    4. En caso de conflicto, comparar los py\n",
    "    5. Resolver los conflictos del py.\n",
    "    5. Cerrar el py.\n",
    "    6. Convertir el py a ipynb.\n",
    "    7. Registrar cambios resolviendo el conflicto.\n",
    "    9. (Por sorprendente que sea, parece ser un bug) Si lo que ves en jupyter no se actualiza (pero el py sí y ya lo convertiste), haz click derecho en la pestaña del Notebook, Reopen Editor with..., Text editor, agrégale un espacio donde quieras, click derecho nuevamente en la pestaña, Reopen Editor with..., Jupyter Notebook, **descartar cambios**."
   ]
  }
 ],
 "metadata": {
  "kernelspec": {
   "display_name": "Python 3",
   "language": "python",
   "name": "python3"
  },
  "language_info": {
   "codemirror_mode": {
    "name": "ipython",
    "version": 3
   },
   "file_extension": ".py",
   "mimetype": "text/x-python",
   "name": "python",
   "nbconvert_exporter": "python",
   "pygments_lexer": "ipython3",
   "version": "3.11.2"
  },
  "orig_nbformat": 4,
  "vscode": {
   "interpreter": {
    "hash": "9a332da503d34353b4a88734c9c417394c5073dd13f9e5d25ac34ee4ac9b6e5a"
   }
  }
 },
 "nbformat": 4,
 "nbformat_minor": 2
}
