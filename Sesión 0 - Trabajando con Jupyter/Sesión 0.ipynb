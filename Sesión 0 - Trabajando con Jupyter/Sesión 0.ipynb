{
 "cells": [
  {
   "attachments": {},
   "cell_type": "markdown",
   "metadata": {},
   "source": [
    "# Nuestro primer Notebook\n",
    "\n",
    "<font size='1'>&copy; 2024 José Tomás Marquinez. Todos los derechos reservados.</font>\n",
    "\n",
    "\n",
    "Este _notebook_ busca presentarles el primer notebook en el que trabajarán, y se les presentará los primeros comandos.\n",
    "\n",
    "Los notebooks de jupyter funcionan en algo que se conoce como \"celdas\". Una celda es un trozo del documento dedicado a ejecutar un segmento de código, o bien para escribir o visualizar textos entre ellos. Se pueden intercalar indistintamente. Veamos en qué consiste el primero de ellos.\n",
    "\n",
    "## Markdowns\n",
    "\n",
    "Lo que estás leyendo ahora es una celda que se conoce como _celda Markdown_. Este tipo de celdas sirve para escribir texto, permitiéndome a mi explicarles qué están viendo, o a ustedes mismos para escribir y tomar apuntes. Este tipo de celdas usa una notación particular también conocida como _Markdown_, y su principal sintaxis es la siguiente:\n",
    "\n",
    "- Se usa el símbolo ```#``` al inicio de un párrafo para indicar títulos. Mientras más \"gatos\" seguidos, más subtítulo es el título que estamos generando.\n",
    "- Se escribe texto entre guiones bajos (`_texto_`) para que se vea en cursiva (también pueden hacerse con un sólo asterisco por lado).\n",
    "- Se escribe texto entre dos asteriscos (`**texto***`) para que se vea en negrita.\n",
    "- Se escribe texto entre tres backticks (tildes al revés) (`` `texto` ``) para mostrar código en una misma línea.\n",
    "- También se puede escribir un bloque de texto como si fuera un párrafo, comenzándolo con tres backticks y cerrándolo con tres backticks.\n",
    "\n",
    "```Python\n",
    "print(\"Estoy mostrando un bloque\")\n",
    "print(\"Esto es el fin del bloque\")\n",
    "```\n",
    "\n",
    "Los bloques se escriben siguiendo esta notación, y se \"ejecutan\"/\"compilan\"/\"procesan\" para generar el display final.\n",
    "\n",
    "## Celdas de código\n",
    "\n",
    "El otro tipo de celda es de código Python (nótese que es distinto una celda de código que un bloque de código inmerso en un Markdown). Estos permiten escribir cápsulas de código y ejecutarlas ahí mismo. Jupyter siempre muestra todo resultado que haya sido impreso como si fuera una consola, además de mostrar el resultado de la última línea ejecutada en ese código. Les mostraré un ejemplo más adelante."
   ]
  },
  {
   "cell_type": "markdown",
   "metadata": {},
   "source": [
    "## Ejecutando y creando celdas\n",
    "\n",
    "### Ejecutando celdas\n",
    "\n",
    "Para ejecutar una celda (ya sea de Markdown o de la otra forma que no hemos visto), existen dos formas fáciles (digamos, además de hacer click derecho y ejecutar).\n",
    "\n",
    "- `Shift + Enter` permite ejecutar la celda actual y mover el cursor a la siguiente celda del notebook.\n",
    "- `Ctrl + Enter` permite ejecutar la celda actual y dejar el cursor en esa misma celda.\n",
    "\n",
    "Mira, inténtalo. Ve el código fuente de esta celda seleccionándola y haciendo doble click en ella. Una vez que lo hagas, verás esto mismo que estás leyendo sólo que en un font de codificación. Estás viendo el código fuente de la celda. Para volver a ejecutarla, asegúrate de tener seleccionada la celda y apreta una de las dos alternativas y volverás a la vista display procesada que estabas viendo originalmente.\n",
    "\n",
    "Inténtalo también con la siguiente celda que es una de código (es decir, su interpretador no es Markdown sino que Python). Se tardará un poco porque la primera vez que ejecutamos una celda, VS Code se \"conecta\" con Python para saber cómo interpretarlo."
   ]
  },
  {
   "cell_type": "code",
   "execution_count": 1,
   "metadata": {},
   "outputs": [
    {
     "name": "stdout",
     "output_type": "stream",
     "text": [
      "Esto es una prueba\n",
      "15\n"
     ]
    },
    {
     "data": {
      "text/plain": [
       "25"
      ]
     },
     "execution_count": 1,
     "metadata": {},
     "output_type": "execute_result"
    }
   ],
   "source": [
    "print(\"Esto es una prueba\")\n",
    "var = 10\n",
    "var += 15\n",
    "resultado = 5+10\n",
    "print(resultado)\n",
    "\n",
    "var"
   ]
  },
  {
   "cell_type": "markdown",
   "metadata": {},
   "source": [
    "Como puedes ver, se ejecutó todo el código. Primero se aprecia el resultado de consola (ambos `prints`, como si hubiéramos ejecutado el código en IDLE), y luego se muestra el _output_ de la celda que es el resultado de la última línea ejecutada (en este caso, \"consultar\" la variable `var`)."
   ]
  },
  {
   "cell_type": "markdown",
   "metadata": {},
   "source": [
    "### Creando celdas\n",
    "\n",
    "Para crear celdas, los atajos son los siguientes. Antes, debes asegurarte de haber seleccionado una celda sobre/bajo la cual quieres crear celdas. Ojo que no es lo mismo tener seleccionado algún contenido de la celda (en su formato crudo) o la celda en sí. Para asegurarte de eso, puedes apretar (estando en una celda) la tecla `Esc` y verás que se selecciona \"el borde\" de la celda (o dependiendo de su personalización, sólo un borde a la izquierda). Una vez ahí, tienes las siguientes opciones de atajo:\n",
    "\n",
    "- `A` crea una celda nueva _sobre_ la celda actual.\n",
    "- `B` crea una celda nueva _bajo_ la celda actual.\n",
    "\n",
    "Para ambos casos, la celda a crear se asume que será de código. Para que esa celda creada cambie de tipo de celda entre _Markdown_ o Python, basta con seleccionar esa nueva celda (debería haber estado seleccionada automáticamente al crearse), y apretar:\n",
    "\n",
    "- `M` para que se convierta en una celda _Markdown_\n",
    "- `Y` para que se convierta en una celda de código.\n",
    "\n",
    "Te invito a crear una celda debajo de esta celda, convertirla en Markdown y escribir algo. Luego, bajo esa, sobre esa (y bajo esta) crear una celda nueva de código y ejecutar un par de `prints`."
   ]
  }
 ],
 "metadata": {
  "kernelspec": {
   "display_name": "Python 3",
   "language": "python",
   "name": "python3"
  },
  "language_info": {
   "codemirror_mode": {
    "name": "ipython",
    "version": 3
   },
   "file_extension": ".py",
   "mimetype": "text/x-python",
   "name": "python",
   "nbconvert_exporter": "python",
   "pygments_lexer": "ipython3",
   "version": "3.11.2"
  },
  "orig_nbformat": 4,
  "vscode": {
   "interpreter": {
    "hash": "9a332da503d34353b4a88734c9c417394c5073dd13f9e5d25ac34ee4ac9b6e5a"
   }
  }
 },
 "nbformat": 4,
 "nbformat_minor": 2
}
